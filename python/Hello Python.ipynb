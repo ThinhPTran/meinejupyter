{
 "cells": [
  {
   "cell_type": "code",
   "execution_count": 1,
   "id": "threatened-bread",
   "metadata": {},
   "outputs": [
    {
     "name": "stdout",
     "output_type": "stream",
     "text": [
      "0\n"
     ]
    }
   ],
   "source": [
    "# define a variable and print out\n",
    "myvar = 0\n",
    "print(myvar)"
   ]
  },
  {
   "cell_type": "code",
   "execution_count": 6,
   "id": "elementary-queens",
   "metadata": {},
   "outputs": [
    {
     "name": "stdout",
     "output_type": "stream",
     "text": [
      "2\n"
     ]
    }
   ],
   "source": [
    "# operator on a variable\n",
    "myvar = myvar + 1\n",
    "print(myvar)"
   ]
  },
  {
   "cell_type": "code",
   "execution_count": 3,
   "id": "amazing-corps",
   "metadata": {},
   "outputs": [
    {
     "name": "stdout",
     "output_type": "stream",
     "text": [
      "my var is positive\n"
     ]
    }
   ],
   "source": [
    "# if statement\n",
    "if myvar > 0:\n",
    "    print(\"my var is positive\")"
   ]
  },
  {
   "cell_type": "code",
   "execution_count": 5,
   "id": "focal-hierarchy",
   "metadata": {},
   "outputs": [
    {
     "name": "stdout",
     "output_type": "stream",
     "text": [
      "spam spam spam spam spam spam spam spam spam spam \n"
     ]
    }
   ],
   "source": [
    "# Multiply a string\n",
    "mystring = \"spam \"\n",
    "myspam = mystring*10\n",
    "print(myspam)"
   ]
  },
  {
   "cell_type": "code",
   "execution_count": 7,
   "id": "broken-indonesian",
   "metadata": {},
   "outputs": [],
   "source": [
    "# type in python\n",
    "myfloat = 3.14159"
   ]
  },
  {
   "cell_type": "code",
   "execution_count": 8,
   "id": "after-employee",
   "metadata": {},
   "outputs": [
    {
     "data": {
      "text/plain": [
       "int"
      ]
     },
     "execution_count": 8,
     "metadata": {},
     "output_type": "execute_result"
    }
   ],
   "source": [
    "type(myvar)"
   ]
  },
  {
   "cell_type": "code",
   "execution_count": 9,
   "id": "little-child",
   "metadata": {},
   "outputs": [
    {
     "data": {
      "text/plain": [
       "float"
      ]
     },
     "execution_count": 9,
     "metadata": {},
     "output_type": "execute_result"
    }
   ],
   "source": [
    "type(myfloat)"
   ]
  },
  {
   "cell_type": "code",
   "execution_count": 10,
   "id": "behavioral-electric",
   "metadata": {},
   "outputs": [
    {
     "data": {
      "text/plain": [
       "str"
      ]
     },
     "execution_count": 10,
     "metadata": {},
     "output_type": "execute_result"
    }
   ],
   "source": [
    "type(mystring)"
   ]
  },
  {
   "cell_type": "code",
   "execution_count": 11,
   "id": "blank-ceremony",
   "metadata": {},
   "outputs": [],
   "source": [
    "# operator in Python\n",
    "# Addition: a + b\n",
    "# Substraction: a - b\n",
    "# Multiplication: a * b\n",
    "# True division: a / b\n",
    "# Floor division: a // b\n",
    "# Modulus: a % b\n",
    "# Exponentiation: a ** b\n",
    "# Negation: -a"
   ]
  },
  {
   "cell_type": "code",
   "execution_count": 12,
   "id": "successful-allocation",
   "metadata": {},
   "outputs": [
    {
     "name": "stdout",
     "output_type": "stream",
     "text": [
      "2.5\n"
     ]
    }
   ],
   "source": [
    "print(5 / 2)"
   ]
  },
  {
   "cell_type": "code",
   "execution_count": 13,
   "id": "northern-driving",
   "metadata": {},
   "outputs": [
    {
     "name": "stdout",
     "output_type": "stream",
     "text": [
      "3.0\n"
     ]
    }
   ],
   "source": [
    "print(6 / 2)"
   ]
  },
  {
   "cell_type": "code",
   "execution_count": 14,
   "id": "reduced-musician",
   "metadata": {},
   "outputs": [
    {
     "name": "stdout",
     "output_type": "stream",
     "text": [
      "2\n"
     ]
    }
   ],
   "source": [
    "# Floor divsion\n",
    "print(5 // 2)"
   ]
  },
  {
   "cell_type": "code",
   "execution_count": 15,
   "id": "smooth-sport",
   "metadata": {},
   "outputs": [
    {
     "name": "stdout",
     "output_type": "stream",
     "text": [
      "3\n"
     ]
    }
   ],
   "source": [
    "print(6 // 2)"
   ]
  },
  {
   "cell_type": "code",
   "execution_count": 16,
   "id": "worst-output",
   "metadata": {},
   "outputs": [
    {
     "data": {
      "text/plain": [
       "7"
      ]
     },
     "execution_count": 16,
     "metadata": {},
     "output_type": "execute_result"
    }
   ],
   "source": [
    "# The arithmetic we learned in primary school has conventions \n",
    "# about the order in which operation are evaluated. \n",
    "# Parentheses, Exponents, Multiplication/Division, Addition\n",
    "# /Substraction - PEMDAS\n",
    "\n",
    "# Python follows similar rules about which calculations to \n",
    "# perform first. They're mostly pretty intuitive\n",
    "\n",
    "8 - 3 + 2"
   ]
  },
  {
   "cell_type": "code",
   "execution_count": 1,
   "id": "bulgarian-oriental",
   "metadata": {},
   "outputs": [],
   "source": [
    "# Builtin functions for working with numbers"
   ]
  },
  {
   "cell_type": "code",
   "execution_count": 2,
   "id": "surprised-virtue",
   "metadata": {},
   "outputs": [
    {
     "name": "stdout",
     "output_type": "stream",
     "text": [
      "1\n",
      "3\n"
     ]
    }
   ],
   "source": [
    "print(min(1, 2, 3))\n",
    "print(max(1, 2, 3))"
   ]
  },
  {
   "cell_type": "code",
   "execution_count": 3,
   "id": "waiting-rainbow",
   "metadata": {},
   "outputs": [
    {
     "name": "stdout",
     "output_type": "stream",
     "text": [
      "32\n",
      "32\n"
     ]
    }
   ],
   "source": [
    "print(abs(32))\n",
    "print(abs(-32))"
   ]
  },
  {
   "cell_type": "code",
   "execution_count": 4,
   "id": "antique-arbor",
   "metadata": {},
   "outputs": [],
   "source": [
    "# In addition to being the names of Python's two main numerical types.\n",
    "# int and float can also be called as functions which convert \n",
    "# their arguments to the corresponding type:"
   ]
  },
  {
   "cell_type": "code",
   "execution_count": 5,
   "id": "southern-basis",
   "metadata": {},
   "outputs": [
    {
     "name": "stdout",
     "output_type": "stream",
     "text": [
      "10.0\n"
     ]
    }
   ],
   "source": [
    "print(float(10))"
   ]
  },
  {
   "cell_type": "code",
   "execution_count": 6,
   "id": "cellular-development",
   "metadata": {},
   "outputs": [
    {
     "name": "stdout",
     "output_type": "stream",
     "text": [
      "3\n"
     ]
    }
   ],
   "source": [
    "print(int(3.33))"
   ]
  },
  {
   "cell_type": "code",
   "execution_count": 7,
   "id": "boolean-combine",
   "metadata": {},
   "outputs": [
    {
     "name": "stdout",
     "output_type": "stream",
     "text": [
      "808\n"
     ]
    }
   ],
   "source": [
    "print(int('807') + 1)"
   ]
  },
  {
   "cell_type": "code",
   "execution_count": 8,
   "id": "adolescent-nigeria",
   "metadata": {},
   "outputs": [],
   "source": [
    "##############################################################\n",
    "# Exercise \n",
    "###################################"
   ]
  },
  {
   "cell_type": "code",
   "execution_count": 9,
   "id": "single-kingston",
   "metadata": {},
   "outputs": [],
   "source": [
    "## Define a string variable"
   ]
  },
  {
   "cell_type": "code",
   "execution_count": 10,
   "id": "rocky-split",
   "metadata": {},
   "outputs": [],
   "source": [
    "color = 'blue'"
   ]
  },
  {
   "cell_type": "code",
   "execution_count": 11,
   "id": "animated-store",
   "metadata": {},
   "outputs": [],
   "source": [
    "## \n",
    "pi = 3.14159\n",
    "diameter = 3"
   ]
  },
  {
   "cell_type": "code",
   "execution_count": 12,
   "id": "technical-violin",
   "metadata": {},
   "outputs": [],
   "source": [
    "# Create a variable called radius\n",
    "radius = diameter/2.0"
   ]
  },
  {
   "cell_type": "code",
   "execution_count": 13,
   "id": "allied-scientist",
   "metadata": {},
   "outputs": [],
   "source": [
    "# Create a variable called 'area'\n",
    "area = pi*radius*radius"
   ]
  },
  {
   "cell_type": "code",
   "execution_count": 14,
   "id": "mexican-budapest",
   "metadata": {},
   "outputs": [],
   "source": [
    "# Alice, Bob and Carol have agreed to pool their Halloween candy\n",
    "# and split it evenly among themselves. For the sake of\n",
    "# their friendship, any candies left over will be smashed. \n",
    "# For example, if they collectively bring home 91 candies, \n",
    "# they'll take 30 each and smash 1.\n",
    "\n",
    "# Write an arithmetic expression below to calculate \n",
    "# how many candies they must smash for a given haul.\n"
   ]
  },
  {
   "cell_type": "code",
   "execution_count": 15,
   "id": "occasional-strength",
   "metadata": {},
   "outputs": [],
   "source": [
    "# Variables representing the number of candies collected by alice, bob, and carol\n",
    "alice_candies = 121\n",
    "bob_candies = 77\n",
    "carol_candies = 109\n",
    "\n",
    "# Your code goes here! Replace the right-hand side of this assignment with an expression\n",
    "# involving alice_candies, bob_candies, and carol_candies\n",
    "to_smash = (alice_candies + bob_candies + carol_candies)%3\n"
   ]
  },
  {
   "cell_type": "code",
   "execution_count": 16,
   "id": "rough-lighting",
   "metadata": {},
   "outputs": [
    {
     "data": {
      "text/plain": [
       "1"
      ]
     },
     "execution_count": 16,
     "metadata": {},
     "output_type": "execute_result"
    }
   ],
   "source": [
    "to_smash"
   ]
  },
  {
   "cell_type": "code",
   "execution_count": null,
   "id": "exposed-weekend",
   "metadata": {},
   "outputs": [],
   "source": []
  }
 ],
 "metadata": {
  "kernelspec": {
   "display_name": "Python 3",
   "language": "python",
   "name": "python3"
  },
  "language_info": {
   "codemirror_mode": {
    "name": "ipython",
    "version": 3
   },
   "file_extension": ".py",
   "mimetype": "text/x-python",
   "name": "python",
   "nbconvert_exporter": "python",
   "pygments_lexer": "ipython3",
   "version": "3.9.2"
  }
 },
 "nbformat": 4,
 "nbformat_minor": 5
}
