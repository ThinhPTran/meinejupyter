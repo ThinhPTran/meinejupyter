{
 "cells": [
  {
   "cell_type": "code",
   "execution_count": 1,
   "id": "aggregate-neutral",
   "metadata": {},
   "outputs": [],
   "source": [
    "# Lists\n",
    "# Lists in Python represent ordered sequences of values.\n",
    "# Here is an example of how to create them."
   ]
  },
  {
   "cell_type": "code",
   "execution_count": 3,
   "id": "empty-advice",
   "metadata": {},
   "outputs": [],
   "source": [
    "primes = [2, 3, 5, 7]"
   ]
  },
  {
   "cell_type": "code",
   "execution_count": 4,
   "id": "shared-peeing",
   "metadata": {},
   "outputs": [],
   "source": [
    "# We can put other types of things in lists:"
   ]
  },
  {
   "cell_type": "code",
   "execution_count": 5,
   "id": "silver-hebrew",
   "metadata": {},
   "outputs": [],
   "source": [
    "planets = ['Mercury', 'Venus', 'Earth', 'Mars', 'Jupyter', 'Saturn', 'Uranus', 'Neptune']"
   ]
  },
  {
   "cell_type": "code",
   "execution_count": 6,
   "id": "directed-stage",
   "metadata": {},
   "outputs": [],
   "source": [
    "# we can even make a list of lists:"
   ]
  },
  {
   "cell_type": "code",
   "execution_count": 7,
   "id": "graduate-hundred",
   "metadata": {},
   "outputs": [],
   "source": [
    "hands = [['J', 'Q', 'K'], \n",
    "         ['2', '2', '2'],\n",
    "         ['6', 'A', 'K'], # (Comma after the last element is optional)\n",
    "        ]"
   ]
  },
  {
   "cell_type": "code",
   "execution_count": 8,
   "id": "resident-lesbian",
   "metadata": {},
   "outputs": [],
   "source": [
    "# (I could also have written this on one line, but it can get hard to read)\n",
    "hands = [['J', 'Q', 'K'], ['2', '2', '2'], ['6', 'A', 'K']]"
   ]
  },
  {
   "cell_type": "code",
   "execution_count": 9,
   "id": "horizontal-illustration",
   "metadata": {},
   "outputs": [],
   "source": [
    "my_favourite_things = [32, 'raindrops on roses', help]\n",
    "# (Yes, Python's help function is *definitely* one of my favourite things)"
   ]
  },
  {
   "cell_type": "code",
   "execution_count": 10,
   "id": "coupled-arbor",
   "metadata": {},
   "outputs": [],
   "source": [
    "# Indexing\n",
    "# You can access individual list elements with square brackets.\n",
    "# Which planet is closest to the sun? Python uses zero-based \n",
    "# indexing, so the first element has index 0."
   ]
  },
  {
   "cell_type": "code",
   "execution_count": 11,
   "id": "experienced-person",
   "metadata": {},
   "outputs": [
    {
     "data": {
      "text/plain": [
       "'Mercury'"
      ]
     },
     "execution_count": 11,
     "metadata": {},
     "output_type": "execute_result"
    }
   ],
   "source": [
    "planets[0]"
   ]
  },
  {
   "cell_type": "code",
   "execution_count": 12,
   "id": "smart-layout",
   "metadata": {},
   "outputs": [],
   "source": [
    "# What's the next closest planet"
   ]
  },
  {
   "cell_type": "code",
   "execution_count": 13,
   "id": "quarterly-marina",
   "metadata": {},
   "outputs": [
    {
     "data": {
      "text/plain": [
       "'Venus'"
      ]
     },
     "execution_count": 13,
     "metadata": {},
     "output_type": "execute_result"
    }
   ],
   "source": [
    "planets[1]"
   ]
  },
  {
   "cell_type": "code",
   "execution_count": 14,
   "id": "forbidden-lounge",
   "metadata": {},
   "outputs": [],
   "source": [
    "# which planet is furthest from the sun?\n",
    "# Elements at the end of the list can be accessed with negative\n",
    "# numbers, starting from -1:"
   ]
  },
  {
   "cell_type": "code",
   "execution_count": 15,
   "id": "fifth-strip",
   "metadata": {},
   "outputs": [
    {
     "data": {
      "text/plain": [
       "'Neptune'"
      ]
     },
     "execution_count": 15,
     "metadata": {},
     "output_type": "execute_result"
    }
   ],
   "source": [
    "planets[-1]"
   ]
  },
  {
   "cell_type": "code",
   "execution_count": 17,
   "id": "romance-detective",
   "metadata": {},
   "outputs": [],
   "source": [
    "# Return the second element of the given list. \n",
    "# If the list has no secon element, return None."
   ]
  },
  {
   "cell_type": "code",
   "execution_count": 22,
   "id": "progressive-phone",
   "metadata": {},
   "outputs": [],
   "source": [
    "def select_second(L):\n",
    "    \"\"\"Return the second element of the given list. If the list has no second\n",
    "    element, return None.\n",
    "    \"\"\"\n",
    "    if (len(L)>=2):\n",
    "        return L[1]"
   ]
  },
  {
   "cell_type": "code",
   "execution_count": 23,
   "id": "divine-entertainment",
   "metadata": {},
   "outputs": [],
   "source": [
    "# You are analyzing sports teams. Members of each team are \n",
    "# stored in a list. The Coach is the first name in the list, \n",
    "# the captain is the second name in the list, \n",
    "# and other players are listed after that. \n",
    "# These lists are stored in another list, \n",
    "# which starts with the best team and proceeds through the \n",
    "# list to the worst team last. \n",
    "# Complete the function below to select the captain \n",
    "# of the worst team."
   ]
  },
  {
   "cell_type": "code",
   "execution_count": 24,
   "id": "selective-subdivision",
   "metadata": {},
   "outputs": [],
   "source": [
    "def losing_team_captain(teams):\n",
    "    \"\"\"Given a list of teams, where each team is a list of names, return the 2nd player (captain)\n",
    "    from the last listed team\n",
    "    \"\"\"\n",
    "    return teams[-1][1]"
   ]
  },
  {
   "cell_type": "code",
   "execution_count": null,
   "id": "honey-naples",
   "metadata": {},
   "outputs": [],
   "source": [
    "# The next iteration of Mario Kart will feature an \n",
    "# extra-infuriating new item, the Purple Shell. \n",
    "# When used, it warps the last place racer into first \n",
    "# place and the first place racer into last place. \n",
    "# Complete the function below to implement \n",
    "# the Purple Shell's effect."
   ]
  }
 ],
 "metadata": {
  "kernelspec": {
   "display_name": "Python 3",
   "language": "python",
   "name": "python3"
  },
  "language_info": {
   "codemirror_mode": {
    "name": "ipython",
    "version": 3
   },
   "file_extension": ".py",
   "mimetype": "text/x-python",
   "name": "python",
   "nbconvert_exporter": "python",
   "pygments_lexer": "ipython3",
   "version": "3.9.2"
  }
 },
 "nbformat": 4,
 "nbformat_minor": 5
}
