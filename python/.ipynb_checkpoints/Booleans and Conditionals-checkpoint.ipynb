{
 "cells": [
  {
   "cell_type": "code",
   "execution_count": 2,
   "id": "numerous-timer",
   "metadata": {},
   "outputs": [],
   "source": [
    "# Booleans\n",
    "# Python has a type of variable called bool. \n",
    "# It has two possible values: True and False"
   ]
  },
  {
   "cell_type": "code",
   "execution_count": 4,
   "id": "fantastic-planning",
   "metadata": {},
   "outputs": [
    {
     "name": "stdout",
     "output_type": "stream",
     "text": [
      "True\n",
      "<class 'bool'>\n"
     ]
    }
   ],
   "source": [
    "x = True\n",
    "print(x)\n",
    "print(type(x))"
   ]
  },
  {
   "cell_type": "code",
   "execution_count": 6,
   "id": "tutorial-tenant",
   "metadata": {},
   "outputs": [],
   "source": [
    "def can_run_for_president(age):\n",
    "    \"\"\"\n",
    "    Can someone of the given age run for president in the US?\n",
    "    \"\"\"\n",
    "    return age >= 35"
   ]
  },
  {
   "cell_type": "code",
   "execution_count": 7,
   "id": "portuguese-patio",
   "metadata": {},
   "outputs": [
    {
     "name": "stdout",
     "output_type": "stream",
     "text": [
      "Can a 19-year-old run for president? False\n",
      "Can a 45-year-old run for president? True\n"
     ]
    }
   ],
   "source": [
    "print(\"Can a 19-year-old run for president?\", can_run_for_president(19))\n",
    "print(\"Can a 45-year-old run for president?\", can_run_for_president(45))\n"
   ]
  },
  {
   "cell_type": "code",
   "execution_count": 8,
   "id": "demanding-cylinder",
   "metadata": {},
   "outputs": [],
   "source": [
    "# Comparisons frequently work like you'd hope"
   ]
  },
  {
   "cell_type": "code",
   "execution_count": 9,
   "id": "hollywood-tender",
   "metadata": {},
   "outputs": [
    {
     "data": {
      "text/plain": [
       "True"
      ]
     },
     "execution_count": 9,
     "metadata": {},
     "output_type": "execute_result"
    }
   ],
   "source": [
    "3.0 == 3"
   ]
  },
  {
   "cell_type": "code",
   "execution_count": 11,
   "id": "sporting-measure",
   "metadata": {},
   "outputs": [],
   "source": [
    "# But sometimes they can be tricky"
   ]
  },
  {
   "cell_type": "code",
   "execution_count": 12,
   "id": "informative-million",
   "metadata": {},
   "outputs": [
    {
     "data": {
      "text/plain": [
       "False"
      ]
     },
     "execution_count": 12,
     "metadata": {},
     "output_type": "execute_result"
    }
   ],
   "source": [
    "'3' == 3"
   ]
  },
  {
   "cell_type": "code",
   "execution_count": 13,
   "id": "consolidated-qatar",
   "metadata": {},
   "outputs": [],
   "source": [
    "# Comparison operators can be combined with the arithmatic\n",
    "# operators we've already seen to express a virtually \n",
    "# limitless range of mathematical tests. For example, we \n",
    "# can check if a number is odd by checking that the modulus \n",
    "# with 2 returns 1:"
   ]
  },
  {
   "cell_type": "code",
   "execution_count": 14,
   "id": "romantic-neighbor",
   "metadata": {},
   "outputs": [],
   "source": [
    "def is_odd(n):\n",
    "    return (n % 2) == 1"
   ]
  },
  {
   "cell_type": "code",
   "execution_count": 16,
   "id": "cooked-effort",
   "metadata": {},
   "outputs": [
    {
     "name": "stdout",
     "output_type": "stream",
     "text": [
      "Is 100 odd? False\n",
      "Is -1 odd? True\n"
     ]
    }
   ],
   "source": [
    "print(\"Is 100 odd?\", is_odd(100))\n",
    "print(\"Is -1 odd?\", is_odd(-1))"
   ]
  },
  {
   "cell_type": "code",
   "execution_count": null,
   "id": "distributed-somalia",
   "metadata": {},
   "outputs": [],
   "source": [
    "# Remember to use == instead of = when making comparisons. \n",
    "# If you write n == 2 you are asking about the value of n. \n",
    "# When you write n = 2 you are changing the value of n.\n",
    "\n"
   ]
  }
 ],
 "metadata": {
  "kernelspec": {
   "display_name": "Python 3",
   "language": "python",
   "name": "python3"
  },
  "language_info": {
   "codemirror_mode": {
    "name": "ipython",
    "version": 3
   },
   "file_extension": ".py",
   "mimetype": "text/x-python",
   "name": "python",
   "nbconvert_exporter": "python",
   "pygments_lexer": "ipython3",
   "version": "3.9.2"
  }
 },
 "nbformat": 4,
 "nbformat_minor": 5
}
