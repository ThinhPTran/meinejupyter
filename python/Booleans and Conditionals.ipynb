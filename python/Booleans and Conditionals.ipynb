{
 "cells": [
  {
   "cell_type": "code",
   "execution_count": 2,
   "id": "engaging-constraint",
   "metadata": {},
   "outputs": [],
   "source": [
    "# Booleans\n",
    "# Python has a type of variable called bool. \n",
    "# It has two possible values: True and False"
   ]
  },
  {
   "cell_type": "code",
   "execution_count": 4,
   "id": "sexual-permit",
   "metadata": {},
   "outputs": [
    {
     "name": "stdout",
     "output_type": "stream",
     "text": [
      "True\n",
      "<class 'bool'>\n"
     ]
    }
   ],
   "source": [
    "x = True\n",
    "print(x)\n",
    "print(type(x))"
   ]
  },
  {
   "cell_type": "code",
   "execution_count": 6,
   "id": "scheduled-supervisor",
   "metadata": {},
   "outputs": [],
   "source": [
    "def can_run_for_president(age):\n",
    "    \"\"\"\n",
    "    Can someone of the given age run for president in the US?\n",
    "    \"\"\"\n",
    "    return age >= 35"
   ]
  },
  {
   "cell_type": "code",
   "execution_count": 7,
   "id": "african-grill",
   "metadata": {},
   "outputs": [
    {
     "name": "stdout",
     "output_type": "stream",
     "text": [
      "Can a 19-year-old run for president? False\n",
      "Can a 45-year-old run for president? True\n"
     ]
    }
   ],
   "source": [
    "print(\"Can a 19-year-old run for president?\", can_run_for_president(19))\n",
    "print(\"Can a 45-year-old run for president?\", can_run_for_president(45))\n"
   ]
  },
  {
   "cell_type": "code",
   "execution_count": 8,
   "id": "english-dublin",
   "metadata": {},
   "outputs": [],
   "source": [
    "# Comparisons frequently work like you'd hope"
   ]
  },
  {
   "cell_type": "code",
   "execution_count": 9,
   "id": "solid-shaft",
   "metadata": {},
   "outputs": [
    {
     "data": {
      "text/plain": [
       "True"
      ]
     },
     "execution_count": 9,
     "metadata": {},
     "output_type": "execute_result"
    }
   ],
   "source": [
    "3.0 == 3"
   ]
  },
  {
   "cell_type": "code",
   "execution_count": 11,
   "id": "computational-acceptance",
   "metadata": {},
   "outputs": [],
   "source": [
    "# But sometimes they can be tricky"
   ]
  },
  {
   "cell_type": "code",
   "execution_count": 12,
   "id": "silent-titanium",
   "metadata": {},
   "outputs": [
    {
     "data": {
      "text/plain": [
       "False"
      ]
     },
     "execution_count": 12,
     "metadata": {},
     "output_type": "execute_result"
    }
   ],
   "source": [
    "'3' == 3"
   ]
  },
  {
   "cell_type": "code",
   "execution_count": 13,
   "id": "turned-japanese",
   "metadata": {},
   "outputs": [],
   "source": [
    "# Comparison operators can be combined with the arithmatic\n",
    "# operators we've already seen to express a virtually \n",
    "# limitless range of mathematical tests. For example, we \n",
    "# can check if a number is odd by checking that the modulus \n",
    "# with 2 returns 1:"
   ]
  },
  {
   "cell_type": "code",
   "execution_count": 14,
   "id": "corporate-covering",
   "metadata": {},
   "outputs": [],
   "source": [
    "def is_odd(n):\n",
    "    return (n % 2) == 1"
   ]
  },
  {
   "cell_type": "code",
   "execution_count": 16,
   "id": "funded-stuart",
   "metadata": {},
   "outputs": [
    {
     "name": "stdout",
     "output_type": "stream",
     "text": [
      "Is 100 odd? False\n",
      "Is -1 odd? True\n"
     ]
    }
   ],
   "source": [
    "print(\"Is 100 odd?\", is_odd(100))\n",
    "print(\"Is -1 odd?\", is_odd(-1))"
   ]
  },
  {
   "cell_type": "code",
   "execution_count": 17,
   "id": "gothic-setting",
   "metadata": {},
   "outputs": [],
   "source": [
    "# Remember to use == instead of = when making comparisons. \n",
    "# If you write n == 2 you are asking about the value of n. \n",
    "# When you write n = 2 you are changing the value of n."
   ]
  },
  {
   "cell_type": "code",
   "execution_count": 18,
   "id": "practical-order",
   "metadata": {},
   "outputs": [],
   "source": [
    "# Combining Boolean values\n",
    "# You can combine boolean values using the standard concepts\n",
    "# of \"and\", \"or\", and \"not\". In fact, the words to do this are:\n",
    "# and, or, and not.\n",
    "# With these, we can make our can_run_for_president function \n",
    "# more accurate."
   ]
  },
  {
   "cell_type": "code",
   "execution_count": 19,
   "id": "handed-sport",
   "metadata": {},
   "outputs": [
    {
     "name": "stdout",
     "output_type": "stream",
     "text": [
      "False\n",
      "False\n",
      "True\n"
     ]
    }
   ],
   "source": [
    "def can_run_for_president(age, is_natural_born_citizen):\n",
    "    \"\"\"Can someone of the given age and citizenship status run for president in the US?\"\"\"\n",
    "    # The US Constitution says you must be a natural born citizen *and* at least 35 years old\n",
    "    return is_natural_born_citizen and (age >= 35)\n",
    "\n",
    "print(can_run_for_president(19, True))\n",
    "print(can_run_for_president(55, False))\n",
    "print(can_run_for_president(55, True))"
   ]
  },
  {
   "cell_type": "code",
   "execution_count": 20,
   "id": "given-running",
   "metadata": {},
   "outputs": [],
   "source": [
    "# Conditionals"
   ]
  },
  {
   "cell_type": "code",
   "execution_count": 21,
   "id": "spatial-circular",
   "metadata": {},
   "outputs": [],
   "source": [
    "# Booleans are most useful when combined with conditional \n",
    "# statements, using the keywords if, elif, and else\n",
    "\n",
    "# Conditional statements, often referred to as if-then \n",
    "# statements, let you control what pieces of code \n",
    "# based on the value of some Boolean condition. \n",
    "# Here's an example"
   ]
  },
  {
   "cell_type": "code",
   "execution_count": 22,
   "id": "bottom-soundtrack",
   "metadata": {},
   "outputs": [
    {
     "name": "stdout",
     "output_type": "stream",
     "text": [
      "0 is zero\n",
      "-15 is negative\n"
     ]
    }
   ],
   "source": [
    "def inspect(x):\n",
    "    if x == 0:\n",
    "        print(x, \"is zero\")\n",
    "    elif x > 0:\n",
    "        print(x, \"is positive\")\n",
    "    elif x < 0:\n",
    "        print(x, \"is negative\")\n",
    "    else:\n",
    "        print(x, \"is unlike anything I've ever seen...\")\n",
    "        \n",
    "inspect(0)\n",
    "inspect(-15)"
   ]
  },
  {
   "cell_type": "code",
   "execution_count": 23,
   "id": "appropriate-index",
   "metadata": {},
   "outputs": [],
   "source": [
    "# The if and else keywords are often used in other language; \n",
    "# it is more unique keyword is elif, a contraction of \"else if\".\n",
    "# In these conditional clause, elif and else blocks are optional;\n",
    "# Additionally, you can include as many elif statements as \n",
    "# you would like.\n",
    "\n",
    "# Not especially the use of colons (:) and whitespace to denote\n",
    "# separate blocks of code. This is similiar to what happens \n",
    "# when we define a function - The function header ends with :, \n",
    "# and the following line is indented with 4 spaces. All \n",
    "# subsequent indendted lines belong to the body of the function,\n",
    "# until we encounter an unindented line, ending the function\n",
    "# definition."
   ]
  },
  {
   "cell_type": "code",
   "execution_count": 24,
   "id": "accurate-squad",
   "metadata": {},
   "outputs": [
    {
     "name": "stdout",
     "output_type": "stream",
     "text": [
      "Only printed when x is positive; x = 1\n",
      "Also only printed when x is positive; x = 1\n",
      "Always printed, regardless of x's value; x = 1\n",
      "Always printed, regardless of x's value; x = 0\n"
     ]
    }
   ],
   "source": [
    "def f(x):\n",
    "    if x > 0:\n",
    "        print(\"Only printed when x is positive; x =\", x)\n",
    "        print(\"Also only printed when x is positive; x =\", x)\n",
    "    print(\"Always printed, regardless of x's value; x =\", x)\n",
    "    \n",
    "f(1)\n",
    "f(0)"
   ]
  },
  {
   "cell_type": "code",
   "execution_count": 25,
   "id": "treated-surprise",
   "metadata": {},
   "outputs": [],
   "source": [
    "# Boolean conversion\n",
    "# We've seen int(), which turns things into ints, and float(), \n",
    "# which turns thing into floats, so you might not be suprised\n",
    "# to hear that Python has a bool() function which turns things \n",
    "# into bools."
   ]
  },
  {
   "cell_type": "code",
   "execution_count": 28,
   "id": "handed-revolution",
   "metadata": {},
   "outputs": [
    {
     "name": "stdout",
     "output_type": "stream",
     "text": [
      "True\n",
      "False\n",
      "True\n",
      "False\n"
     ]
    }
   ],
   "source": [
    "print(bool(1)) # all numbers are treated as true, except 0\n",
    "print(bool(0)) \n",
    "print(bool(\"asf\")) # all strings are treated as true, except\n",
    "# the empty string \"\"\n",
    "print(bool(\"\"))"
   ]
  },
  {
   "cell_type": "code",
   "execution_count": 29,
   "id": "acute-steam",
   "metadata": {},
   "outputs": [],
   "source": [
    "# We can use non-boolean in if conditions and other palces where\n",
    "# a boolean would be expected. Python will implicitly treat\n",
    "# them as their corresponding booelan value:"
   ]
  },
  {
   "cell_type": "code",
   "execution_count": 31,
   "id": "responsible-spain",
   "metadata": {},
   "outputs": [
    {
     "name": "stdout",
     "output_type": "stream",
     "text": [
      "spam\n"
     ]
    }
   ],
   "source": [
    "if 0:\n",
    "    print(0)\n",
    "elif \"spam\":\n",
    "    print(\"spam\")"
   ]
  },
  {
   "cell_type": "code",
   "execution_count": 32,
   "id": "portuguese-induction",
   "metadata": {},
   "outputs": [],
   "source": [
    "########## \n",
    "# Exercise\n",
    "##########"
   ]
  },
  {
   "cell_type": "code",
   "execution_count": 33,
   "id": "unknown-intermediate",
   "metadata": {},
   "outputs": [],
   "source": [
    "# 1. Define a sign function"
   ]
  },
  {
   "cell_type": "code",
   "execution_count": 35,
   "id": "sensitive-training",
   "metadata": {},
   "outputs": [],
   "source": [
    "def mysign(x):\n",
    "    if x > 0:\n",
    "        return 1\n",
    "    elif x < 0:\n",
    "        return -1\n",
    "    else:\n",
    "        return 0 "
   ]
  },
  {
   "cell_type": "code",
   "execution_count": 36,
   "id": "terminal-night",
   "metadata": {},
   "outputs": [
    {
     "name": "stdout",
     "output_type": "stream",
     "text": [
      "Splitting 91 candies\n"
     ]
    },
    {
     "data": {
      "text/plain": [
       "1"
      ]
     },
     "execution_count": 36,
     "metadata": {},
     "output_type": "execute_result"
    }
   ],
   "source": [
    "# 2.\n",
    "# We've decided to add \"logging\" to our to_smash function \n",
    "# from the previous exercise.\n",
    "\n",
    "def to_smash(total_candies):\n",
    "    \"\"\"Return the number of leftover candies that must be smashed after distributing\n",
    "    the given number of candies evenly between 3 friends.\n",
    "    \n",
    "    >>> to_smash(91)\n",
    "    1\n",
    "    \"\"\"\n",
    "    print(\"Splitting\", total_candies, \"candies\")\n",
    "    return total_candies % 3\n",
    "\n",
    "to_smash(91)"
   ]
  },
  {
   "cell_type": "code",
   "execution_count": 38,
   "id": "corresponding-deficit",
   "metadata": {},
   "outputs": [
    {
     "name": "stdout",
     "output_type": "stream",
     "text": [
      "Splitting 1 candies\n"
     ]
    },
    {
     "data": {
      "text/plain": [
       "1"
      ]
     },
     "execution_count": 38,
     "metadata": {},
     "output_type": "execute_result"
    }
   ],
   "source": [
    "# What happens if we call it with total_candies = 1?\n",
    "to_smash(1)"
   ]
  },
  {
   "cell_type": "code",
   "execution_count": 39,
   "id": "smart-finish",
   "metadata": {},
   "outputs": [],
   "source": [
    "# That isn't great grammar!\n",
    "\n",
    "# Modify the definition in the cell below to correct \n",
    "# the grammar of our print statement. \n",
    "# (If there's only one candy, we should use the singular \n",
    "# \"candy\" instead of the plural \"candies\")"
   ]
  },
  {
   "cell_type": "code",
   "execution_count": 40,
   "id": "metropolitan-greensboro",
   "metadata": {},
   "outputs": [
    {
     "name": "stdout",
     "output_type": "stream",
     "text": [
      "Splitting 91 candies\n",
      "Splitting 1 candy\n"
     ]
    },
    {
     "data": {
      "text/plain": [
       "1"
      ]
     },
     "execution_count": 40,
     "metadata": {},
     "output_type": "execute_result"
    }
   ],
   "source": [
    "def to_smash(total_candies):\n",
    "    \"\"\"Return the number of leftover candies that must be smashed after distributing\n",
    "    the given number of candies evenly between 3 friends.\n",
    "    \n",
    "    >>> to_smash(91)\n",
    "    1\n",
    "    \"\"\"\n",
    "    \n",
    "    if total_candies > 1:\n",
    "        print(\"Splitting\", total_candies, \"candies\")\n",
    "    elif total_candies == 1:\n",
    "        print(\"Splitting\", total_candies, \"candy\")\n",
    "    else:\n",
    "        print(\"The number of candies should be positive!!!\")\n",
    "    return total_candies % 3\n",
    "\n",
    "to_smash(91)\n",
    "to_smash(1)"
   ]
  },
  {
   "cell_type": "code",
   "execution_count": 41,
   "id": "comfortable-above",
   "metadata": {},
   "outputs": [],
   "source": [
    "# 3. 🌶️\n",
    "\n",
    "# In the main lesson we talked about deciding whether \n",
    "# we're prepared for the weather. \n",
    "# I said that I'm safe from today's weather if...\n",
    "\n",
    "#I have an umbrella...\n",
    "# or if the rain isn't too heavy and I have a hood...\n",
    "# otherwise, I'm still fine unless it's raining \n",
    "# and it's a workday\n",
    "\n",
    "# The function below uses our first attempt at turning\n",
    "# this logic into a Python expression. \n",
    "# I claimed that there was a bug in that code. Can you find it?\n",
    "\n",
    "# To prove that prepared_for_weather is buggy, \n",
    "# come up with a set of inputs where either:\n",
    "\n",
    "# the function returns False (but should have returned True),\n",
    "# or the function returned True \n",
    "# (but should have returned False).\n",
    "\n",
    "# To get credit for completing this question, \n",
    "# your code should return a Correct result.\n"
   ]
  },
  {
   "cell_type": "code",
   "execution_count": 42,
   "id": "enclosed-simon",
   "metadata": {},
   "outputs": [
    {
     "name": "stdout",
     "output_type": "stream",
     "text": [
      "False\n"
     ]
    }
   ],
   "source": [
    "def prepared_for_weather(have_umbrella, rain_level, have_hood, is_workday):\n",
    "    # Don't change this code. Our goal is just to find the bug, not fix it!\n",
    "    return have_umbrella or rain_level < 5 and have_hood or not rain_level > 0 and is_workday\n",
    "\n",
    "# Change the values of these inputs so they represent a case where prepared_for_weather\n",
    "# returns the wrong answer.\n",
    "have_umbrella = False\n",
    "rain_level = 3\n",
    "have_hood = False\n",
    "is_workday = False\n",
    "\n",
    "# Check what the function returns given the current values of the variables above\n",
    "actual = prepared_for_weather(have_umbrella, rain_level, have_hood, is_workday)\n",
    "print(actual)\n"
   ]
  },
  {
   "cell_type": "code",
   "execution_count": 43,
   "id": "incomplete-letters",
   "metadata": {},
   "outputs": [],
   "source": [
    "# One example of a failing test case is:\n",
    "\n",
    "# have_umbrella = False\n",
    "# rain_level = 0.0\n",
    "# have_hood = False\n",
    "# is_workday = False\n",
    "\n",
    "# Clearly we're prepared for the weather in this case. \n",
    "# It's not raining. Not only that, it's not a workday, \n",
    "# so we don't even need to leave the house! \n",
    "# But our function will return False on these inputs.\n",
    "\n",
    "# The key problem is that Python implictly parenthesizes \n",
    "# the last part as:\n",
    "\n",
    "# (not (rain_level > 0)) and is_workday\n",
    "\n",
    "# Whereas what we were trying to express would look more like:\n",
    "\n",
    "# not (rain_level > 0 and is_workday)"
   ]
  },
  {
   "cell_type": "code",
   "execution_count": 44,
   "id": "emerging-shock",
   "metadata": {},
   "outputs": [],
   "source": [
    "# 4.\n",
    "\n",
    "# The function is_negative below is implemented correctly - \n",
    "# it returns True if the given number is negative and\n",
    "# False otherwise.\n",
    "\n",
    "# However, it's more verbose than it needs to be. \n",
    "# We can actually reduce the number of lines of code in \n",
    "# this function by 75% while keeping the same behaviour.\n",
    "\n",
    "# See if you can come up with an equivalent body \n",
    "# that uses just one line of code, \n",
    "#and put it in the function concise_is_negative. \n",
    "# (HINT: you don't even need Python's ternary syntax)\n"
   ]
  },
  {
   "cell_type": "code",
   "execution_count": 45,
   "id": "affected-ocean",
   "metadata": {},
   "outputs": [],
   "source": [
    "def is_negative(number):\n",
    "    if number < 0:\n",
    "        return True\n",
    "    else:\n",
    "        return False\n",
    "\n",
    "def concise_is_negative(number):\n",
    "    return number < 0 # Your code goes here (try to keep it to one line!)\n"
   ]
  },
  {
   "cell_type": "code",
   "execution_count": 46,
   "id": "cutting-comparison",
   "metadata": {},
   "outputs": [],
   "source": [
    "# 5.\n",
    "\n",
    "# The boolean variables ketchup, mustard and onion \n",
    "# represent whether a customer wants a particular topping \n",
    "# on their hot dog. We want to implement a number of \n",
    "# boolean functions that correspond to some yes-or-no questions \n",
    "# about the customer's order. For example:"
   ]
  },
  {
   "cell_type": "code",
   "execution_count": 47,
   "id": "mexican-manner",
   "metadata": {},
   "outputs": [],
   "source": [
    "def onionless(ketchup, mustard, onion):\n",
    "    \"\"\"Return whether the customer doesn't want onions.\n",
    "    \"\"\"\n",
    "    return not onion"
   ]
  },
  {
   "cell_type": "code",
   "execution_count": 48,
   "id": "normal-import",
   "metadata": {},
   "outputs": [],
   "source": [
    "def wants_all_toppings(ketchup, mustard, onion):\n",
    "    \"\"\"\n",
    "    Return whether the customer wants \"the works\" \n",
    "    (all 3 toppings)\n",
    "    \"\"\"\n",
    "    return ketchup and mustard and onion"
   ]
  },
  {
   "cell_type": "code",
   "execution_count": 50,
   "id": "directed-recovery",
   "metadata": {},
   "outputs": [],
   "source": [
    "def wants_plain_hotdog(ketchup, mustard, onion):\n",
    "    \"\"\"Return whether the customer wants a plain hot dog with no toppings.\n",
    "    \"\"\"\n",
    "    return not ketchup and not mustard and not onion\n"
   ]
  },
  {
   "cell_type": "code",
   "execution_count": 51,
   "id": "separate-scientist",
   "metadata": {},
   "outputs": [],
   "source": [
    "def exactly_one_sauce(ketchup, mustard, onion):\n",
    "    \"\"\"Return whether the customer wants either ketchup or mustard, but not both.\n",
    "    (You may be familiar with this operation under the name \"exclusive or\")\n",
    "    \"\"\"\n",
    "    return bool(ketchup) ^  bool(mustard)"
   ]
  },
  {
   "cell_type": "code",
   "execution_count": 52,
   "id": "congressional-marking",
   "metadata": {},
   "outputs": [],
   "source": [
    "def exactly_one_topping(ketchup, mustard, onion):\n",
    "    \"\"\"Return whether the customer wants exactly one of the three available toppings\n",
    "    on their hot dog.\n",
    "    \"\"\"\n",
    "    return int(ketchup) + int(mustard) + int(onion) == 1"
   ]
  },
  {
   "cell_type": "code",
   "execution_count": null,
   "id": "apparent-advertiser",
   "metadata": {},
   "outputs": [],
   "source": []
  }
 ],
 "metadata": {
  "kernelspec": {
   "display_name": "Python 3",
   "language": "python",
   "name": "python3"
  },
  "language_info": {
   "codemirror_mode": {
    "name": "ipython",
    "version": 3
   },
   "file_extension": ".py",
   "mimetype": "text/x-python",
   "name": "python",
   "nbconvert_exporter": "python",
   "pygments_lexer": "ipython3",
   "version": "3.9.2"
  }
 },
 "nbformat": 4,
 "nbformat_minor": 5
}
