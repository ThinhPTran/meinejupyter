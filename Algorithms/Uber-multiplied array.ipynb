{
 "cells": [
  {
   "cell_type": "code",
   "execution_count": 17,
   "id": "dressed-check",
   "metadata": {},
   "outputs": [],
   "source": [
    "# This problem was asked by Uber.\n",
    "# Given an array of integers, return a new array such that each\n",
    "# element at index i of the new array is the product of all \n",
    "# the numbers in the original array except the one at i.\n",
    "# For example, if our input was [1, 2, 3, 4, 5], the expected\n",
    "# output would be [120, 60, 40, 30, 24]. If our input was [3, 2, 1]\n",
    "# the expected output would be [2, 3, 6].\n",
    "\n",
    "\n",
    "import numpy as np\n",
    "\n",
    "mylist = [1, 2, 3, 4, 5]\n",
    "mylist1 = [3, 2, 1]\n",
    "\n",
    "def myfunc(mylist):\n",
    "    forw = np.ones(len(mylist))\n",
    "    backw = np.ones(len(mylist))\n",
    "    out = np.ones(len(mylist))\n",
    "    it = 0\n",
    "    jt = len(mylist) - 1\n",
    "    kt = 0\n",
    "    \n",
    "    for item in mylist:\n",
    "        if it == 0:\n",
    "            forw[0] = mylist[0]\n",
    "        else :\n",
    "            forw[it] = forw[it-1]*mylist[it]\n",
    "        it = it + 1   \n",
    "            \n",
    "    for item in mylist:\n",
    "        if jt == len(mylist) - 1:\n",
    "            backw[jt] = mylist[jt]\n",
    "        else:\n",
    "            backw[jt] = backw[jt+1]*mylist[jt]\n",
    "        jt = jt -1\n",
    "        \n",
    "    for item in mylist:\n",
    "        left = kt - 1\n",
    "        right = kt + 1\n",
    "        if left >= 0 and left < len(mylist):\n",
    "            out[kt] = out[kt]*forw[left]\n",
    "        if right >= 0 and right < len(mylist):\n",
    "            out[kt] = out[kt]*backw[right]\n",
    "        kt=kt+1\n",
    "        \n",
    "    return (forw, backw, out)\n",
    "        "
   ]
  },
  {
   "cell_type": "code",
   "execution_count": 18,
   "id": "acute-cancellation",
   "metadata": {},
   "outputs": [
    {
     "data": {
      "text/plain": [
       "(array([  1.,   2.,   6.,  24., 120.]),\n",
       " array([120., 120.,  60.,  20.,   5.]),\n",
       " array([120.,  60.,  40.,  30.,  24.]))"
      ]
     },
     "execution_count": 18,
     "metadata": {},
     "output_type": "execute_result"
    }
   ],
   "source": [
    "myfunc(mylist)"
   ]
  },
  {
   "cell_type": "code",
   "execution_count": 19,
   "id": "widespread-credits",
   "metadata": {},
   "outputs": [
    {
     "data": {
      "text/plain": [
       "(array([3., 6., 6.]), array([6., 2., 1.]), array([2., 3., 6.]))"
      ]
     },
     "execution_count": 19,
     "metadata": {},
     "output_type": "execute_result"
    }
   ],
   "source": [
    "myfunc(mylist1)"
   ]
  },
  {
   "cell_type": "code",
   "execution_count": 32,
   "id": "stainless-massage",
   "metadata": {},
   "outputs": [],
   "source": [
    "def myfunc1(mylist):\n",
    "    zeroset = []\n",
    "    product = 1\n",
    "    out = np.ones(len(mylist))\n",
    "    it = 0\n",
    "    for item in mylist:\n",
    "        if item > 0:\n",
    "            product = product * item\n",
    "        if item == 0:\n",
    "            zeroset.append(it)\n",
    "        it = it + 1\n",
    "    if len(zeroset) > 1:\n",
    "        out = np.zeros(len(mylist))\n",
    "    elif len(zeroset) == 1:\n",
    "        out = np.zeros(len(mylist))\n",
    "        out[zeroset[0]] = product\n",
    "    elif len(zeroset) == 0:\n",
    "        it = 0\n",
    "        for item in mylist:\n",
    "            out[it] = product/item\n",
    "        \n",
    "    return out\n",
    "        "
   ]
  },
  {
   "cell_type": "code",
   "execution_count": 21,
   "id": "dietary-cricket",
   "metadata": {},
   "outputs": [],
   "source": [
    "mylist2 = [4, 5, 0, 6, 7]"
   ]
  },
  {
   "cell_type": "code",
   "execution_count": 22,
   "id": "oriented-spencer",
   "metadata": {},
   "outputs": [
    {
     "data": {
      "text/plain": [
       "(array([ 4., 20.,  0.,  0.,  0.]),\n",
       " array([ 0.,  0.,  0., 42.,  7.]),\n",
       " array([  0.,   0., 840.,   0.,   0.]))"
      ]
     },
     "execution_count": 22,
     "metadata": {},
     "output_type": "execute_result"
    }
   ],
   "source": [
    "myfunc(mylist2)"
   ]
  },
  {
   "cell_type": "code",
   "execution_count": 33,
   "id": "reported-terrorism",
   "metadata": {},
   "outputs": [
    {
     "data": {
      "text/plain": [
       "array([  0.,   0., 840.,   0.,   0.])"
      ]
     },
     "execution_count": 33,
     "metadata": {},
     "output_type": "execute_result"
    }
   ],
   "source": [
    "myfunc1(mylist2)"
   ]
  },
  {
   "cell_type": "code",
   "execution_count": null,
   "id": "seven-indianapolis",
   "metadata": {},
   "outputs": [],
   "source": []
  }
 ],
 "metadata": {
  "kernelspec": {
   "display_name": "Python 3",
   "language": "python",
   "name": "python3"
  },
  "language_info": {
   "codemirror_mode": {
    "name": "ipython",
    "version": 3
   },
   "file_extension": ".py",
   "mimetype": "text/x-python",
   "name": "python",
   "nbconvert_exporter": "python",
   "pygments_lexer": "ipython3",
   "version": "3.9.2"
  }
 },
 "nbformat": 4,
 "nbformat_minor": 5
}
