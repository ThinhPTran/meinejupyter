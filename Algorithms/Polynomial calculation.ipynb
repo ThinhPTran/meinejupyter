{
 "cells": [
  {
   "cell_type": "code",
   "execution_count": 17,
   "id": "iraqi-musical",
   "metadata": {},
   "outputs": [
    {
     "data": {
      "text/latex": [
       "Given an array of parameters\n",
       "\\begin{align}\n",
       "\\{a_0, a_1, ..., a_n\\}\n",
       "\\end{align}\n",
       "Write a program to calculate\n",
       "\\begin{align}\n",
       "P(x)=a_nx^n + a_{n-1}x^{n-1} + ... + a_0\n",
       "\\end{align}\n"
      ],
      "text/plain": [
       "<IPython.core.display.Latex object>"
      ]
     },
     "metadata": {},
     "output_type": "display_data"
    }
   ],
   "source": [
    "%%latex\n",
    "Given an array of parameters\n",
    "\\begin{align}\n",
    "\\{a_0, a_1, ..., a_n\\}\n",
    "\\end{align}\n",
    "Write a program to calculate\n",
    "\\begin{align}\n",
    "P(x)=a_nx^n + a_{n-1}x^{n-1} + ... + a_0\n",
    "\\end{align}"
   ]
  },
  {
   "cell_type": "code",
   "execution_count": 18,
   "id": "particular-outline",
   "metadata": {},
   "outputs": [
    {
     "data": {
      "text/latex": [
       "recursive \n"
      ],
      "text/plain": [
       "<IPython.core.display.Latex object>"
      ]
     },
     "metadata": {},
     "output_type": "display_data"
    }
   ],
   "source": [
    "%%latex\n",
    "recursive "
   ]
  },
  {
   "cell_type": "code",
   "execution_count": 20,
   "id": "ready-cornell",
   "metadata": {},
   "outputs": [],
   "source": [
    "mya = [3, 4, 5]\n",
    "myx = 5"
   ]
  },
  {
   "cell_type": "code",
   "execution_count": 40,
   "id": "brave-valley",
   "metadata": {},
   "outputs": [],
   "source": [
    "import numpy as np\n",
    "def normalcal(mya, myx):\n",
    "    myout = 0\n",
    "    for idx in range(0, len(mya)):\n",
    "        xpower = 1.\n",
    "        if idx > 0:\n",
    "            for jdx in range(0,idx):\n",
    "                xpower=xpower*myx\n",
    "        myout = myout + mya[idx]*xpower\n",
    "    return myout\n",
    "\n",
    "def fastcal(mya, myx):\n",
    "    myout = 0\n",
    "    myxx = np.ones(len(mya))\n",
    "    for idx in range(0, len(mya)):\n",
    "        if idx > 0:\n",
    "            myxx[idx] = myx*myxx[idx-1]\n",
    "    for idx in range(0, len(mya)):\n",
    "        myout = myout + mya[idx]*myxx[idx]\n",
    "    return myout\n",
    "\n",
    "def curcal(mya, myx):\n",
    "    def mycur(mya, myx, n):\n",
    "        if n == 0:\n",
    "            return mya[0]\n",
    "        elif n>0:\n",
    "            myout = 0\n",
    "            myxx = 1.0\n",
    "            for idx in range(0,n):\n",
    "                myxx = myxx*myx\n",
    "            myout = myxx*mya[n] + mycur(mya, myx, n-1)\n",
    "            return myout\n",
    "    return mycur(mya, myx, len(mya) - 1)\n",
    "\n",
    "def fastcurcal(mya, myx):\n",
    "    myxx = np.ones(len(mya))\n",
    "    for idx in range(0, len(mya)):\n",
    "        if idx > 0:\n",
    "            myxx[idx] = myx*myxx[idx-1]\n",
    "    def mycur(mya, myxx, n):\n",
    "        if n == 0:\n",
    "            return mya[0]*myxx[0]\n",
    "        elif n>0:\n",
    "            return mya[n]*myxx[n]+ mycur(mya, myxx, n-1)\n",
    "    return mycur(mya, myxx, len(mya) - 1)\n",
    "    \n",
    "            \n",
    "        "
   ]
  },
  {
   "cell_type": "code",
   "execution_count": 25,
   "id": "checked-sustainability",
   "metadata": {},
   "outputs": [
    {
     "data": {
      "text/plain": [
       "148.0"
      ]
     },
     "execution_count": 25,
     "metadata": {},
     "output_type": "execute_result"
    }
   ],
   "source": [
    "normalcal(mya, myx)"
   ]
  },
  {
   "cell_type": "code",
   "execution_count": 34,
   "id": "guilty-champagne",
   "metadata": {},
   "outputs": [
    {
     "data": {
      "text/plain": [
       "148.0"
      ]
     },
     "execution_count": 34,
     "metadata": {},
     "output_type": "execute_result"
    }
   ],
   "source": [
    "fastcal(mya, myx)"
   ]
  },
  {
   "cell_type": "code",
   "execution_count": 39,
   "id": "valid-surname",
   "metadata": {},
   "outputs": [
    {
     "data": {
      "text/plain": [
       "148.0"
      ]
     },
     "execution_count": 39,
     "metadata": {},
     "output_type": "execute_result"
    }
   ],
   "source": [
    "curcal(mya, myx)"
   ]
  },
  {
   "cell_type": "code",
   "execution_count": 41,
   "id": "indoor-indonesian",
   "metadata": {},
   "outputs": [
    {
     "data": {
      "text/plain": [
       "148.0"
      ]
     },
     "execution_count": 41,
     "metadata": {},
     "output_type": "execute_result"
    }
   ],
   "source": [
    "fastcurcal(mya, myx)"
   ]
  },
  {
   "cell_type": "code",
   "execution_count": null,
   "id": "gorgeous-helmet",
   "metadata": {},
   "outputs": [],
   "source": []
  }
 ],
 "metadata": {
  "kernelspec": {
   "display_name": "Python 3",
   "language": "python",
   "name": "python3"
  },
  "language_info": {
   "codemirror_mode": {
    "name": "ipython",
    "version": 3
   },
   "file_extension": ".py",
   "mimetype": "text/x-python",
   "name": "python",
   "nbconvert_exporter": "python",
   "pygments_lexer": "ipython3",
   "version": "3.9.2"
  }
 },
 "nbformat": 4,
 "nbformat_minor": 5
}
