{
 "cells": [
  {
   "cell_type": "code",
   "execution_count": 1,
   "id": "intellectual-blind",
   "metadata": {},
   "outputs": [],
   "source": [
    "# This problem was receently asked by Google.\n",
    "# Given a list of numbers and a number k.\n",
    "# Return whether any two numbers from the list \n",
    "# add up to k\n",
    "# For example, given [10,15, 3, 7] and a k of 17\n",
    "# return true since 10 + 7 is 17"
   ]
  },
  {
   "cell_type": "code",
   "execution_count": 17,
   "id": "sitting-footage",
   "metadata": {},
   "outputs": [],
   "source": [
    "mylist = [10, 15, 3, 7]\n",
    "mysum = 22\n",
    "\n",
    "mylist1 = [5, 4, 10, 6]\n",
    "mysum1 = 10\n",
    "\n",
    "def checkpairsum(mylist, mysum):\n",
    "    mydict = {}\n",
    "    for item in mylist:\n",
    "        if (item in mydict):\n",
    "            return (item, mydict[item])  \n",
    "        pair_item = mysum - item\n",
    "        mydict[pair_item] = item      "
   ]
  },
  {
   "cell_type": "code",
   "execution_count": 18,
   "id": "fewer-innocent",
   "metadata": {},
   "outputs": [
    {
     "data": {
      "text/plain": [
       "(7, 15)"
      ]
     },
     "execution_count": 18,
     "metadata": {},
     "output_type": "execute_result"
    }
   ],
   "source": [
    "checkpairsum(mylist, mysum)"
   ]
  },
  {
   "cell_type": "code",
   "execution_count": 19,
   "id": "formed-suite",
   "metadata": {},
   "outputs": [
    {
     "data": {
      "text/plain": [
       "(6, 4)"
      ]
     },
     "execution_count": 19,
     "metadata": {},
     "output_type": "execute_result"
    }
   ],
   "source": [
    "checkpairsum(mylist1, mysum1)"
   ]
  },
  {
   "cell_type": "code",
   "execution_count": null,
   "id": "meaning-headquarters",
   "metadata": {},
   "outputs": [],
   "source": []
  }
 ],
 "metadata": {
  "kernelspec": {
   "display_name": "Python 3",
   "language": "python",
   "name": "python3"
  },
  "language_info": {
   "codemirror_mode": {
    "name": "ipython",
    "version": 3
   },
   "file_extension": ".py",
   "mimetype": "text/x-python",
   "name": "python",
   "nbconvert_exporter": "python",
   "pygments_lexer": "ipython3",
   "version": "3.9.2"
  }
 },
 "nbformat": 4,
 "nbformat_minor": 5
}
