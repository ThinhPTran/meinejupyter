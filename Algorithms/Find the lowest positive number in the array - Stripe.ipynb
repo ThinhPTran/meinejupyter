{
 "cells": [
  {
   "cell_type": "code",
   "execution_count": 1,
   "id": "lonely-cleaners",
   "metadata": {},
   "outputs": [],
   "source": [
    "# This problem was asked by Stripe\n",
    "# Given an array of integers, find the first missing positive integer\n",
    "# in linear time and constant space. In other words, find the lowest\n",
    "# positive integer that does not exist in the array. The array can \n",
    "# contain duplicates and negativve numbers as well.\n",
    "# For example, the input [3, 4, -1, 1] should give 2. The input\n",
    "# [1, 2, 0] should give 3. You can modify the input array in-place."
   ]
  },
  {
   "cell_type": "code",
   "execution_count": 10,
   "id": "uniform-gather",
   "metadata": {},
   "outputs": [],
   "source": [
    "import numpy as np\n",
    "\n",
    "mylist = [3, 4, -1, 1]\n",
    "mylist1 = [1, 2, 0]\n",
    "\n",
    "def findlowestpositiveint(mylist):\n",
    "    mypos = np.zeros(len(mylist))\n",
    "    for item in mylist:\n",
    "        if item >= 1 and item <= len(mylist):\n",
    "            idx = item - 1\n",
    "            mypos[idx] = 1\n",
    "            \n",
    "    for it in range(0,len(mylist)):\n",
    "        if mypos[it] == 0:\n",
    "            return it + 1"
   ]
  },
  {
   "cell_type": "code",
   "execution_count": 8,
   "id": "dietary-profit",
   "metadata": {},
   "outputs": [
    {
     "data": {
      "text/plain": [
       "2"
      ]
     },
     "execution_count": 8,
     "metadata": {},
     "output_type": "execute_result"
    }
   ],
   "source": [
    "findlowestpositiveint(mylist)"
   ]
  },
  {
   "cell_type": "code",
   "execution_count": 11,
   "id": "approved-marketing",
   "metadata": {},
   "outputs": [
    {
     "data": {
      "text/plain": [
       "3"
      ]
     },
     "execution_count": 11,
     "metadata": {},
     "output_type": "execute_result"
    }
   ],
   "source": [
    "findlowestpositiveint(mylist1)"
   ]
  },
  {
   "cell_type": "code",
   "execution_count": null,
   "id": "angry-stereo",
   "metadata": {},
   "outputs": [],
   "source": []
  }
 ],
 "metadata": {
  "kernelspec": {
   "display_name": "Python 3",
   "language": "python",
   "name": "python3"
  },
  "language_info": {
   "codemirror_mode": {
    "name": "ipython",
    "version": 3
   },
   "file_extension": ".py",
   "mimetype": "text/x-python",
   "name": "python",
   "nbconvert_exporter": "python",
   "pygments_lexer": "ipython3",
   "version": "3.9.2"
  }
 },
 "nbformat": 4,
 "nbformat_minor": 5
}
