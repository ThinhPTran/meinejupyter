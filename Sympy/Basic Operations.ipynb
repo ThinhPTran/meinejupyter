{
 "cells": [
  {
   "cell_type": "code",
   "execution_count": 1,
   "id": "packed-philippines",
   "metadata": {},
   "outputs": [
    {
     "data": {
      "text/latex": [
       "Here we discuss some of the most basic operatioins needed for expression manipulation in SymPy. Some more advanced operations will be discussed later in the advanced expression manipulation section.\n"
      ],
      "text/plain": [
       "<IPython.core.display.Latex object>"
      ]
     },
     "metadata": {},
     "output_type": "display_data"
    }
   ],
   "source": [
    "%%latex\n",
    "Here we discuss some of the most basic operatioins needed for expression manipulation in SymPy. Some more advanced operations will be discussed later in the advanced expression manipulation section."
   ]
  },
  {
   "cell_type": "code",
   "execution_count": 2,
   "id": "indie-compact",
   "metadata": {},
   "outputs": [],
   "source": [
    "from sympy import * \n",
    "x, y, z = symbols('x y z')"
   ]
  },
  {
   "cell_type": "code",
   "execution_count": 3,
   "id": "going-telling",
   "metadata": {},
   "outputs": [
    {
     "data": {
      "text/latex": [
       "Substitution\n"
      ],
      "text/plain": [
       "<IPython.core.display.Latex object>"
      ]
     },
     "metadata": {},
     "output_type": "display_data"
    }
   ],
   "source": [
    "%%latex\n",
    "Substitution"
   ]
  },
  {
   "cell_type": "code",
   "execution_count": 4,
   "id": "connected-brooklyn",
   "metadata": {},
   "outputs": [
    {
     "data": {
      "text/latex": [
       "One of the most commong things you might want to do with a mathematical expression is substitution. Substitution replaces all instances of something in an expression with something else. It is done using the subs method. For example. \n"
      ],
      "text/plain": [
       "<IPython.core.display.Latex object>"
      ]
     },
     "metadata": {},
     "output_type": "display_data"
    }
   ],
   "source": [
    "%%latex\n",
    "One of the most commong things you might want to do with a mathematical expression is substitution. Substitution replaces all instances of something in an expression with something else. It is done using the subs method. For example. \n"
   ]
  },
  {
   "cell_type": "code",
   "execution_count": 6,
   "id": "retained-quarterly",
   "metadata": {},
   "outputs": [
    {
     "data": {
      "text/latex": [
       "$\\displaystyle \\cos{\\left(y \\right)} + 1$"
      ],
      "text/plain": [
       "cos(y) + 1"
      ]
     },
     "execution_count": 6,
     "metadata": {},
     "output_type": "execute_result"
    }
   ],
   "source": [
    "expr = cos(x) + 1\n",
    "expr.subs(x,y)"
   ]
  },
  {
   "cell_type": "code",
   "execution_count": 7,
   "id": "criminal-driver",
   "metadata": {},
   "outputs": [
    {
     "data": {
      "text/latex": [
       "Substitution is usually done for one of two reasons:\n",
       "1. Evaluating an expression at a point. For example, if our expression is cos(x) + 1 and we want to evaluate it at the point x = 0, so that we got cos(0) + 1, which is 2.\n"
      ],
      "text/plain": [
       "<IPython.core.display.Latex object>"
      ]
     },
     "metadata": {},
     "output_type": "display_data"
    }
   ],
   "source": [
    "%%latex\n",
    "Substitution is usually done for one of two reasons:\n",
    "1. Evaluating an expression at a point. For example, if our expression is cos(x) + 1 and we want to evaluate it at the point x = 0, so that we got cos(0) + 1, which is 2."
   ]
  },
  {
   "cell_type": "code",
   "execution_count": 8,
   "id": "ambient-creature",
   "metadata": {},
   "outputs": [
    {
     "data": {
      "text/latex": [
       "$\\displaystyle 2$"
      ],
      "text/plain": [
       "2"
      ]
     },
     "execution_count": 8,
     "metadata": {},
     "output_type": "execute_result"
    }
   ],
   "source": [
    "expr.subs(x, 0)"
   ]
  },
  {
   "cell_type": "code",
   "execution_count": 9,
   "id": "eight-terry",
   "metadata": {},
   "outputs": [
    {
     "data": {
      "text/latex": [
       "Replacing a subexpression with another subexpression. There are two reasons we might want to do this. The first is if we are trying to build and expression that has some symmetry, such as $x^{x^{x^x}}$\n"
      ],
      "text/plain": [
       "<IPython.core.display.Latex object>"
      ]
     },
     "metadata": {},
     "output_type": "display_data"
    }
   ],
   "source": [
    "%%latex\n",
    "Replacing a subexpression with another subexpression. There are two reasons we might want to do this. The first is if we are trying to build and expression that has some symmetry, such as $x^{x^{x^x}}$"
   ]
  },
  {
   "cell_type": "code",
   "execution_count": 11,
   "id": "revised-arctic",
   "metadata": {},
   "outputs": [
    {
     "data": {
      "text/latex": [
       "To build this, we might start with $x^y$ and replace y with $x^y$. We would then get $x^{x^y}$. If we replaced y in this new expression with $x^x$, we would get $x^{x^{x^x}}$, the desired expression.\n"
      ],
      "text/plain": [
       "<IPython.core.display.Latex object>"
      ]
     },
     "metadata": {},
     "output_type": "display_data"
    }
   ],
   "source": [
    "%%latex\n",
    "To build this, we might start with $x^y$ and replace y with $x^y$. We would then get $x^{x^y}$. If we replaced y in this new expression with $x^x$, we would get $x^{x^{x^x}}$, the desired expression."
   ]
  },
  {
   "cell_type": "code",
   "execution_count": 12,
   "id": "opening-timber",
   "metadata": {},
   "outputs": [
    {
     "data": {
      "text/latex": [
       "The second is if we want to perform a very controlled simplification, or perhaps a simplification that SymPy is otherwise unable to do. For example, say we have $sin(2x) + cos(2x)$, and we want to replace $sin(2x)$ with $2sin(x)cos(x)$. As we will learn later, the function expand_trig does this. However, this function will also expand $cos(2x)$, which we may not want. While there are ways to perform such precise simplification, and we will learn some of them in the advanced expression manipulation section, an easy way is to just replace $sin(2x)$ with $2*sin(x)cos(x)$\n"
      ],
      "text/plain": [
       "<IPython.core.display.Latex object>"
      ]
     },
     "metadata": {},
     "output_type": "display_data"
    }
   ],
   "source": [
    "%%latex\n",
    "The second is if we want to perform a very controlled simplification, or perhaps a simplification that SymPy is otherwise unable to do. For example, say we have $sin(2x) + cos(2x)$, and we want to replace $sin(2x)$ with $2sin(x)cos(x)$. As we will learn later, the function expand_trig does this. However, this function will also expand $cos(2x)$, which we may not want. While there are ways to perform such precise simplification, and we will learn some of them in the advanced expression manipulation section, an easy way is to just replace $sin(2x)$ with $2*sin(x)cos(x)$"
   ]
  },
  {
   "cell_type": "code",
   "execution_count": 14,
   "id": "instant-latitude",
   "metadata": {},
   "outputs": [
    {
     "data": {
      "text/latex": [
       "$\\displaystyle 2 \\sin{\\left(x \\right)} \\cos{\\left(x \\right)} + 2 \\cos^{2}{\\left(x \\right)} - 1$"
      ],
      "text/plain": [
       "2*sin(x)*cos(x) + 2*cos(x)**2 - 1"
      ]
     },
     "execution_count": 14,
     "metadata": {},
     "output_type": "execute_result"
    }
   ],
   "source": [
    "expr = sin(2*x) + cos(2*x)\n",
    "expand_trig(expr)"
   ]
  },
  {
   "cell_type": "code",
   "execution_count": 15,
   "id": "armed-trail",
   "metadata": {},
   "outputs": [
    {
     "data": {
      "text/latex": [
       "$\\displaystyle 2 \\sin{\\left(x \\right)} \\cos{\\left(x \\right)} + \\cos{\\left(2 x \\right)}$"
      ],
      "text/plain": [
       "2*sin(x)*cos(x) + cos(2*x)"
      ]
     },
     "execution_count": 15,
     "metadata": {},
     "output_type": "execute_result"
    }
   ],
   "source": [
    "expr.subs(sin(2*x), 2*sin(x)*cos(x))"
   ]
  },
  {
   "cell_type": "code",
   "execution_count": 16,
   "id": "passing-fiber",
   "metadata": {},
   "outputs": [
    {
     "data": {
      "text/latex": [
       "There are two important things to note about subs. First, it returns a new expression. SymPy objects are immutable. That means that subs does not modify it in-place. For example:\n"
      ],
      "text/plain": [
       "<IPython.core.display.Latex object>"
      ]
     },
     "metadata": {},
     "output_type": "display_data"
    }
   ],
   "source": [
    "%%latex\n",
    "There are two important things to note about subs. First, it returns a new expression. SymPy objects are immutable. That means that subs does not modify it in-place. For example:"
   ]
  },
  {
   "cell_type": "code",
   "execution_count": 18,
   "id": "artificial-economics",
   "metadata": {},
   "outputs": [
    {
     "data": {
      "text/latex": [
       "$\\displaystyle 1$"
      ],
      "text/plain": [
       "1"
      ]
     },
     "execution_count": 18,
     "metadata": {},
     "output_type": "execute_result"
    }
   ],
   "source": [
    "expr = cos(x)\n",
    "expr.subs(x, 0)"
   ]
  },
  {
   "cell_type": "code",
   "execution_count": 19,
   "id": "nasty-county",
   "metadata": {},
   "outputs": [
    {
     "data": {
      "text/latex": [
       "$\\displaystyle \\cos{\\left(x \\right)}$"
      ],
      "text/plain": [
       "cos(x)"
      ]
     },
     "execution_count": 19,
     "metadata": {},
     "output_type": "execute_result"
    }
   ],
   "source": [
    "expr"
   ]
  },
  {
   "cell_type": "code",
   "execution_count": 20,
   "id": "compressed-atlas",
   "metadata": {},
   "outputs": [
    {
     "data": {
      "text/latex": [
       "$\\displaystyle x$"
      ],
      "text/plain": [
       "x"
      ]
     },
     "execution_count": 20,
     "metadata": {},
     "output_type": "execute_result"
    }
   ],
   "source": [
    "x"
   ]
  },
  {
   "cell_type": "code",
   "execution_count": 21,
   "id": "transparent-standard",
   "metadata": {},
   "outputs": [
    {
     "data": {
      "text/latex": [
       "Here, we see that performing expr.subs(x,0) leaves expr unchanged. In fact, since SymPy expressions are immutable, no function will change them in-place. All functions will return new expressions.\n"
      ],
      "text/plain": [
       "<IPython.core.display.Latex object>"
      ]
     },
     "metadata": {},
     "output_type": "display_data"
    }
   ],
   "source": [
    "%%latex\n",
    "Here, we see that performing expr.subs(x,0) leaves expr unchanged. In fact, since SymPy expressions are immutable, no function will change them in-place. All functions will return new expressions."
   ]
  },
  {
   "cell_type": "code",
   "execution_count": 22,
   "id": "freelance-utility",
   "metadata": {},
   "outputs": [
    {
     "data": {
      "text/latex": [
       "To perform multiple substitutions at once, pass a list of (old, new) paris to subs.\n"
      ],
      "text/plain": [
       "<IPython.core.display.Latex object>"
      ]
     },
     "metadata": {},
     "output_type": "display_data"
    }
   ],
   "source": [
    "%%latex\n",
    "To perform multiple substitutions at once, pass a list of (old, new) paris to subs."
   ]
  },
  {
   "cell_type": "code",
   "execution_count": 24,
   "id": "intended-virtue",
   "metadata": {},
   "outputs": [
    {
     "data": {
      "text/latex": [
       "$\\displaystyle 40$"
      ],
      "text/plain": [
       "40"
      ]
     },
     "execution_count": 24,
     "metadata": {},
     "output_type": "execute_result"
    }
   ],
   "source": [
    "expr = x**3 + 4*x*y - z\n",
    "expr.subs([(x, 2), (y, 4), (z, 0)])"
   ]
  },
  {
   "cell_type": "code",
   "execution_count": 28,
   "id": "angry-replication",
   "metadata": {},
   "outputs": [
    {
     "data": {
      "text/latex": [
       "It is often useful to combine this with a list comprehension to do a large set of similar replacements all at once. For example, say we had $x^4 - 4x^3 + 4x^2 - 2x + 3$ and we wanted to replace all instances of x that have an even power with y, to get $y^4 - 4x^3 + 4y^2 - 2x + 3$\n"
      ],
      "text/plain": [
       "<IPython.core.display.Latex object>"
      ]
     },
     "metadata": {},
     "output_type": "display_data"
    }
   ],
   "source": [
    "%%latex\n",
    "It is often useful to combine this with a list comprehension to do a large set of similar replacements all at once. For example, say we had $x^4 - 4x^3 + 4x^2 - 2x + 3$ and we wanted to replace all instances of x that have an even power with y, to get $y^4 - 4x^3 + 4y^2 - 2x + 3$"
   ]
  },
  {
   "cell_type": "code",
   "execution_count": 29,
   "id": "atmospheric-qualification",
   "metadata": {},
   "outputs": [
    {
     "data": {
      "text/latex": [
       "$\\displaystyle - 4 x^{3} - 2 x + y^{4} + 4 y^{2} + 3$"
      ],
      "text/plain": [
       "-4*x**3 - 2*x + y**4 + 4*y**2 + 3"
      ]
     },
     "execution_count": 29,
     "metadata": {},
     "output_type": "execute_result"
    }
   ],
   "source": [
    "expr = x**4 - 4*x**3 + 4*x**2 - 2*x + 3\n",
    "replacements = [(x**i, y**i) for i in range(5) if i %2 == 0]\n",
    "expr.subs(replacements)"
   ]
  },
  {
   "cell_type": "code",
   "execution_count": 30,
   "id": "stuck-india",
   "metadata": {},
   "outputs": [
    {
     "data": {
      "text/latex": [
       "Converting strings to sympy expressions\n"
      ],
      "text/plain": [
       "<IPython.core.display.Latex object>"
      ]
     },
     "metadata": {},
     "output_type": "display_data"
    }
   ],
   "source": [
    "%%latex \n",
    "Converting strings to sympy expressions"
   ]
  },
  {
   "cell_type": "code",
   "execution_count": 32,
   "id": "expensive-chapter",
   "metadata": {},
   "outputs": [
    {
     "data": {
      "text/latex": [
       "$\\displaystyle x^{2} + 3 x - \\frac{1}{2}$"
      ],
      "text/plain": [
       "x**2 + 3*x - 1/2"
      ]
     },
     "execution_count": 32,
     "metadata": {},
     "output_type": "execute_result"
    }
   ],
   "source": [
    "str_expr = \"x**2 + 3*x - 1/2\"\n",
    "expr = sympify(str_expr)\n",
    "expr"
   ]
  },
  {
   "cell_type": "code",
   "execution_count": 33,
   "id": "electric-expansion",
   "metadata": {},
   "outputs": [
    {
     "data": {
      "text/latex": [
       "$\\displaystyle \\frac{19}{2}$"
      ],
      "text/plain": [
       "19/2"
      ]
     },
     "execution_count": 33,
     "metadata": {},
     "output_type": "execute_result"
    }
   ],
   "source": [
    "expr.subs(x, 2)"
   ]
  },
  {
   "cell_type": "code",
   "execution_count": 34,
   "id": "incorporated-listening",
   "metadata": {},
   "outputs": [
    {
     "data": {
      "text/latex": [
       "To evaluate a numerical expression into a floating point number, use evalf\n"
      ],
      "text/plain": [
       "<IPython.core.display.Latex object>"
      ]
     },
     "metadata": {},
     "output_type": "display_data"
    }
   ],
   "source": [
    "%%latex\n",
    "To evaluate a numerical expression into a floating point number, use evalf"
   ]
  },
  {
   "cell_type": "code",
   "execution_count": 41,
   "id": "center-wagon",
   "metadata": {},
   "outputs": [],
   "source": [
    "expr = sympy.sqrt(8)"
   ]
  },
  {
   "cell_type": "code",
   "execution_count": 42,
   "id": "experimental-delight",
   "metadata": {},
   "outputs": [
    {
     "name": "stdout",
     "output_type": "stream",
     "text": [
      "2*sqrt(2)\n"
     ]
    }
   ],
   "source": [
    "print(expr)"
   ]
  },
  {
   "cell_type": "code",
   "execution_count": 38,
   "id": "unsigned-manchester",
   "metadata": {},
   "outputs": [
    {
     "data": {
      "text/latex": [
       "$\\displaystyle 2 \\sqrt{2}$"
      ],
      "text/plain": [
       "2*sqrt(2)"
      ]
     },
     "execution_count": 38,
     "metadata": {},
     "output_type": "execute_result"
    }
   ],
   "source": [
    "import sympy\n",
    "sympy.sqrt(8)"
   ]
  },
  {
   "cell_type": "code",
   "execution_count": 43,
   "id": "adapted-belief",
   "metadata": {},
   "outputs": [
    {
     "data": {
      "text/latex": [
       "$\\displaystyle 2.82842712474619$"
      ],
      "text/plain": [
       "2.82842712474619"
      ]
     },
     "execution_count": 43,
     "metadata": {},
     "output_type": "execute_result"
    }
   ],
   "source": [
    "expr.evalf()"
   ]
  },
  {
   "cell_type": "code",
   "execution_count": 44,
   "id": "bibliographic-glossary",
   "metadata": {},
   "outputs": [
    {
     "data": {
      "text/latex": [
       "$\\displaystyle 3.141592653589793238462643383279502884197169399375105820974944592307816406286208998628034825342117068$"
      ],
      "text/plain": [
       "3.141592653589793238462643383279502884197169399375105820974944592307816406286208998628034825342117068"
      ]
     },
     "execution_count": 44,
     "metadata": {},
     "output_type": "execute_result"
    }
   ],
   "source": [
    "pi.evalf(100)"
   ]
  },
  {
   "cell_type": "code",
   "execution_count": 45,
   "id": "convenient-malta",
   "metadata": {},
   "outputs": [
    {
     "data": {
      "text/latex": [
       "To numerically evaluate an expression with a Symbol at a point, we might use subs followed by evalf, but it is more efficient and numerically stable to pass the substitution to evalf using the subs flag, which takes a dictionary of Symbol:point pairs.\n"
      ],
      "text/plain": [
       "<IPython.core.display.Latex object>"
      ]
     },
     "metadata": {},
     "output_type": "display_data"
    }
   ],
   "source": [
    "%%latex\n",
    "To numerically evaluate an expression with a Symbol at a point, we might use subs followed by evalf, but it is more efficient and numerically stable to pass the substitution to evalf using the subs flag, which takes a dictionary of Symbol:point pairs.\n"
   ]
  },
  {
   "cell_type": "code",
   "execution_count": 46,
   "id": "cubic-attention",
   "metadata": {},
   "outputs": [
    {
     "data": {
      "text/latex": [
       "$\\displaystyle 0.0874989834394464$"
      ],
      "text/plain": [
       "0.0874989834394464"
      ]
     },
     "execution_count": 46,
     "metadata": {},
     "output_type": "execute_result"
    }
   ],
   "source": [
    "expr = cos(2*x)\n",
    "expr.evalf(subs={x: 2.4})"
   ]
  },
  {
   "cell_type": "code",
   "execution_count": 48,
   "id": "funny-detroit",
   "metadata": {},
   "outputs": [
    {
     "data": {
      "text/latex": [
       "Sometimes there are roundoff errors smaller than the desired precision that remain after an expression is evaluated. Such numbers can be removed at the user's discretion by setting the chop flag to True.\n"
      ],
      "text/plain": [
       "<IPython.core.display.Latex object>"
      ]
     },
     "metadata": {},
     "output_type": "display_data"
    }
   ],
   "source": [
    "%%latex \n",
    "Sometimes there are roundoff errors smaller than the desired precision that remain after an expression is evaluated. Such numbers can be removed at the user's discretion by setting the chop flag to True."
   ]
  },
  {
   "cell_type": "code",
   "execution_count": 49,
   "id": "breathing-currency",
   "metadata": {},
   "outputs": [
    {
     "data": {
      "text/latex": [
       "$\\displaystyle -4.0 \\cdot 10^{-124}$"
      ],
      "text/plain": [
       "-0.e-124"
      ]
     },
     "execution_count": 49,
     "metadata": {},
     "output_type": "execute_result"
    }
   ],
   "source": [
    "one = cos(1)**2 + sin(1)**2\n",
    "(one - 1).evalf()"
   ]
  },
  {
   "cell_type": "code",
   "execution_count": 50,
   "id": "novel-winter",
   "metadata": {},
   "outputs": [
    {
     "data": {
      "text/latex": [
       "$\\displaystyle 0$"
      ],
      "text/plain": [
       "0"
      ]
     },
     "execution_count": 50,
     "metadata": {},
     "output_type": "execute_result"
    }
   ],
   "source": [
    "(one-1).evalf(chop=True)"
   ]
  },
  {
   "cell_type": "code",
   "execution_count": 51,
   "id": "civil-flashing",
   "metadata": {},
   "outputs": [
    {
     "data": {
      "text/latex": [
       "subs and evalf are good if you want to do simple evaluation, but if you intend to evaluate an expression at many points, there are more efficient ways. For example, if you wanted to evaluate an expression at thousand points, using SymPy would be far slower than it needs to be, especially if you only care about machine precision. Instead, you should use libraries like NumPy and SciPy. The easiest way to convert a SymPy expression to an expression that can be numerically evaluated is to use the lambdify function. lambdify acts like a lambda function, except it converts the SymPy names to the names of given numerical library, usually NumPy. For example: \n"
      ],
      "text/plain": [
       "<IPython.core.display.Latex object>"
      ]
     },
     "metadata": {},
     "output_type": "display_data"
    }
   ],
   "source": [
    "%%latex\n",
    "subs and evalf are good if you want to do simple evaluation, but if you intend to evaluate an expression at many points, there are more efficient ways. For example, if you wanted to evaluate an expression at thousand points, using SymPy would be far slower than it needs to be, especially if you only care about machine precision. Instead, you should use libraries like NumPy and SciPy. The easiest way to convert a SymPy expression to an expression that can be numerically evaluated is to use the lambdify function. lambdify acts like a lambda function, except it converts the SymPy names to the names of given numerical library, usually NumPy. For example: \n"
   ]
  },
  {
   "cell_type": "code",
   "execution_count": 52,
   "id": "proved-adoption",
   "metadata": {},
   "outputs": [],
   "source": [
    "import numpy\n",
    "a = numpy.arange(10)\n",
    "expr = sin(x)\n",
    "f = lambdify(x, expr, \"numpy\")"
   ]
  },
  {
   "cell_type": "code",
   "execution_count": 53,
   "id": "mineral-tenant",
   "metadata": {},
   "outputs": [
    {
     "data": {
      "text/plain": [
       "array([ 0.        ,  0.84147098,  0.90929743,  0.14112001, -0.7568025 ,\n",
       "       -0.95892427, -0.2794155 ,  0.6569866 ,  0.98935825,  0.41211849])"
      ]
     },
     "execution_count": 53,
     "metadata": {},
     "output_type": "execute_result"
    }
   ],
   "source": [
    "f(a)"
   ]
  },
  {
   "cell_type": "code",
   "execution_count": 54,
   "id": "behavioral-inspector",
   "metadata": {},
   "outputs": [
    {
     "data": {
      "text/latex": [
       "You can use lambdify with numerical libraries that it does not know about, pass a dictionary of sympy_name:numerical_function pairs. For example\n"
      ],
      "text/plain": [
       "<IPython.core.display.Latex object>"
      ]
     },
     "metadata": {},
     "output_type": "display_data"
    }
   ],
   "source": [
    "%%latex\n",
    "You can use lambdify with numerical libraries that it does not know about, pass a dictionary of sympy_name:numerical_function pairs. For example"
   ]
  },
  {
   "cell_type": "code",
   "execution_count": 55,
   "id": "portuguese-fever",
   "metadata": {},
   "outputs": [
    {
     "data": {
      "text/plain": [
       "0.2"
      ]
     },
     "execution_count": 55,
     "metadata": {},
     "output_type": "execute_result"
    }
   ],
   "source": [
    "def mysin(x):\n",
    "    \"\"\"\n",
    "    my sine.\n",
    "    \"\"\"\n",
    "    return 2*x\n",
    "f = lambdify(x, expr, {\"sin\":mysin})\n",
    "f(0.1)"
   ]
  },
  {
   "cell_type": "code",
   "execution_count": 56,
   "id": "every-dispatch",
   "metadata": {},
   "outputs": [
    {
     "data": {
      "text/latex": [
       "You can use other libraries than Numpy. For example, to use the standard library math module, use \"math\"\n"
      ],
      "text/plain": [
       "<IPython.core.display.Latex object>"
      ]
     },
     "metadata": {},
     "output_type": "display_data"
    }
   ],
   "source": [
    "%%latex\n",
    "You can use other libraries than Numpy. For example, to use the standard library math module, use \"math\""
   ]
  },
  {
   "cell_type": "code",
   "execution_count": 57,
   "id": "baking-masters",
   "metadata": {},
   "outputs": [],
   "source": [
    "f = lambdify(x, expr, \"math\")"
   ]
  },
  {
   "cell_type": "code",
   "execution_count": 58,
   "id": "scenic-japan",
   "metadata": {},
   "outputs": [
    {
     "data": {
      "text/plain": [
       "0.09983341664682815"
      ]
     },
     "execution_count": 58,
     "metadata": {},
     "output_type": "execute_result"
    }
   ],
   "source": [
    "f(0.1)"
   ]
  },
  {
   "cell_type": "code",
   "execution_count": 59,
   "id": "thermal-details",
   "metadata": {},
   "outputs": [
    {
     "data": {
      "text/plain": [
       "0.09983341664682815"
      ]
     },
     "execution_count": 59,
     "metadata": {},
     "output_type": "execute_result"
    }
   ],
   "source": [
    "f = lambdify(x, expr, \"numpy\")\n",
    "f(0.1)"
   ]
  },
  {
   "cell_type": "code",
   "execution_count": 60,
   "id": "hourly-render",
   "metadata": {},
   "outputs": [
    {
     "data": {
      "text/latex": [
       "$\\displaystyle \\int \\sqrt{\\frac{1}{x}}\\, dx$"
      ],
      "text/plain": [
       "Integral(sqrt(1/x), x)"
      ]
     },
     "execution_count": 60,
     "metadata": {},
     "output_type": "execute_result"
    }
   ],
   "source": [
    "Integral(sqrt(1/x),x)"
   ]
  },
  {
   "cell_type": "code",
   "execution_count": null,
   "id": "unauthorized-essay",
   "metadata": {},
   "outputs": [],
   "source": []
  }
 ],
 "metadata": {
  "kernelspec": {
   "display_name": "Python 3",
   "language": "python",
   "name": "python3"
  },
  "language_info": {
   "codemirror_mode": {
    "name": "ipython",
    "version": 3
   },
   "file_extension": ".py",
   "mimetype": "text/x-python",
   "name": "python",
   "nbconvert_exporter": "python",
   "pygments_lexer": "ipython3",
   "version": "3.9.2"
  }
 },
 "nbformat": 4,
 "nbformat_minor": 5
}
