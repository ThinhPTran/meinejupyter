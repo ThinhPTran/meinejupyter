{
 "cells": [
  {
   "cell_type": "code",
   "execution_count": 1,
   "id": "pressing-annex",
   "metadata": {},
   "outputs": [
    {
     "data": {
      "text/latex": [
       "Installing and check sympy\n"
      ],
      "text/plain": [
       "<IPython.core.display.Latex object>"
      ]
     },
     "metadata": {},
     "output_type": "display_data"
    }
   ],
   "source": [
    "%%latex\n",
    "Installing and check sympy"
   ]
  },
  {
   "cell_type": "code",
   "execution_count": 4,
   "id": "tough-champion",
   "metadata": {},
   "outputs": [
    {
     "data": {
      "text/latex": [
       "$\\displaystyle \\frac{e^{x} \\sin{\\left(x \\right)}}{2} + \\frac{e^{x} \\cos{\\left(x \\right)}}{2}$"
      ],
      "text/plain": [
       "exp(x)*sin(x)/2 + exp(x)*cos(x)/2"
      ]
     },
     "execution_count": 4,
     "metadata": {},
     "output_type": "execute_result"
    }
   ],
   "source": [
    "from sympy import * \n",
    "x = symbols('x')\n",
    "a = Integral(cos(x)*exp(x), x)\n",
    "a.doit()"
   ]
  },
  {
   "cell_type": "code",
   "execution_count": 5,
   "id": "dress-improvement",
   "metadata": {},
   "outputs": [
    {
     "data": {
      "text/latex": [
       "Symbolic computation deals with the computation of mathematial objects symbolically\n"
      ],
      "text/plain": [
       "<IPython.core.display.Latex object>"
      ]
     },
     "metadata": {},
     "output_type": "display_data"
    }
   ],
   "source": [
    "%%latex\n",
    "Symbolic computation deals with the computation of mathematial objects symbolically"
   ]
  },
  {
   "cell_type": "code",
   "execution_count": 6,
   "id": "expected-courtesy",
   "metadata": {},
   "outputs": [],
   "source": [
    "import math \n",
    "import sympy"
   ]
  },
  {
   "cell_type": "code",
   "execution_count": 7,
   "id": "nuclear-necklace",
   "metadata": {},
   "outputs": [
    {
     "data": {
      "text/plain": [
       "3.0"
      ]
     },
     "execution_count": 7,
     "metadata": {},
     "output_type": "execute_result"
    }
   ],
   "source": [
    "math.sqrt(9)"
   ]
  },
  {
   "cell_type": "code",
   "execution_count": 8,
   "id": "based-restoration",
   "metadata": {},
   "outputs": [
    {
     "data": {
      "text/latex": [
       "$\\displaystyle 3$"
      ],
      "text/plain": [
       "3"
      ]
     },
     "execution_count": 8,
     "metadata": {},
     "output_type": "execute_result"
    }
   ],
   "source": [
    "sympy.sqrt(9)"
   ]
  },
  {
   "cell_type": "code",
   "execution_count": 9,
   "id": "gentle-addiction",
   "metadata": {},
   "outputs": [
    {
     "data": {
      "text/plain": [
       "2.8284271247461903"
      ]
     },
     "execution_count": 9,
     "metadata": {},
     "output_type": "execute_result"
    }
   ],
   "source": [
    "math.sqrt(8)"
   ]
  },
  {
   "cell_type": "code",
   "execution_count": 10,
   "id": "conservative-sequence",
   "metadata": {},
   "outputs": [
    {
     "data": {
      "text/latex": [
       "$\\displaystyle 2 \\sqrt{2}$"
      ],
      "text/plain": [
       "2*sqrt(2)"
      ]
     },
     "execution_count": 10,
     "metadata": {},
     "output_type": "execute_result"
    }
   ],
   "source": [
    "sympy.sqrt(8)"
   ]
  },
  {
   "cell_type": "code",
   "execution_count": 12,
   "id": "sorted-paste",
   "metadata": {},
   "outputs": [
    {
     "data": {
      "text/latex": [
       "$\\displaystyle x + 2 y$"
      ],
      "text/plain": [
       "x + 2*y"
      ]
     },
     "execution_count": 12,
     "metadata": {},
     "output_type": "execute_result"
    }
   ],
   "source": [
    "from sympy import symbols\n",
    "x, y = symbols('x y')\n",
    "expr = x + 2*y\n",
    "expr"
   ]
  },
  {
   "cell_type": "code",
   "execution_count": 13,
   "id": "fleet-walter",
   "metadata": {},
   "outputs": [
    {
     "data": {
      "text/latex": [
       "$\\displaystyle x + 2 y + 1$"
      ],
      "text/plain": [
       "x + 2*y + 1"
      ]
     },
     "execution_count": 13,
     "metadata": {},
     "output_type": "execute_result"
    }
   ],
   "source": [
    "expr + 1"
   ]
  },
  {
   "cell_type": "code",
   "execution_count": 14,
   "id": "modular-woman",
   "metadata": {},
   "outputs": [
    {
     "data": {
      "text/latex": [
       "$\\displaystyle 2 y$"
      ],
      "text/plain": [
       "2*y"
      ]
     },
     "execution_count": 14,
     "metadata": {},
     "output_type": "execute_result"
    }
   ],
   "source": [
    "expr - x"
   ]
  },
  {
   "cell_type": "code",
   "execution_count": 15,
   "id": "remarkable-waters",
   "metadata": {},
   "outputs": [
    {
     "data": {
      "text/latex": [
       "Notice something in the above example. When we typed expr-x, we did not get x + 2*t - x, but rather just 2*y. The x and the -x automatically canceled one another. This is similar to hwo sqrt(8) automatically turned into 2*sqrt(2) above. This isn't always the case in SymPy, however\n"
      ],
      "text/plain": [
       "<IPython.core.display.Latex object>"
      ]
     },
     "metadata": {},
     "output_type": "display_data"
    }
   ],
   "source": [
    "%%latex\n",
    "Notice something in the above example. When we typed expr-x, we did not get x + 2*t - x, but rather just 2*y. The x and the -x automatically canceled one another. This is similar to hwo sqrt(8) automatically turned into 2*sqrt(2) above. This isn't always the case in SymPy, however"
   ]
  },
  {
   "cell_type": "code",
   "execution_count": 16,
   "id": "patent-shape",
   "metadata": {},
   "outputs": [
    {
     "data": {
      "text/latex": [
       "$\\displaystyle x \\left(x + 2 y\\right)$"
      ],
      "text/plain": [
       "x*(x + 2*y)"
      ]
     },
     "execution_count": 16,
     "metadata": {},
     "output_type": "execute_result"
    }
   ],
   "source": [
    "x*expr"
   ]
  },
  {
   "cell_type": "code",
   "execution_count": 17,
   "id": "efficient-progressive",
   "metadata": {},
   "outputs": [
    {
     "data": {
      "text/latex": [
       "Here, we might have expected x(x+2y) to transform into x^2 + 2xy, but instead we see that the expression was left alone. This is a commmon theme in Sympy. Aside from obvious simplification like x - x = 0 and sqrt(8) = 2*sqrt(2), most simplification are not performed automatically. This is because we might prefer the factored form x*(x+ 2y), or we might prefer the expanded form x^2 + 2xy. Both forms are useful in different circumstances. In sympy, there are functions to go from one form to the other\n"
      ],
      "text/plain": [
       "<IPython.core.display.Latex object>"
      ]
     },
     "metadata": {},
     "output_type": "display_data"
    }
   ],
   "source": [
    "%%latex \n",
    "Here, we might have expected x(x+2y) to transform into x^2 + 2xy, but instead we see that the expression was left alone. This is a commmon theme in Sympy. Aside from obvious simplification like x - x = 0 and sqrt(8) = 2*sqrt(2), most simplification are not performed automatically. This is because we might prefer the factored form x*(x+ 2y), or we might prefer the expanded form x^2 + 2xy. Both forms are useful in different circumstances. In sympy, there are functions to go from one form to the other"
   ]
  },
  {
   "cell_type": "code",
   "execution_count": 18,
   "id": "little-richmond",
   "metadata": {},
   "outputs": [
    {
     "data": {
      "text/latex": [
       "$\\displaystyle x^{2} + 2 x y$"
      ],
      "text/plain": [
       "x**2 + 2*x*y"
      ]
     },
     "execution_count": 18,
     "metadata": {},
     "output_type": "execute_result"
    }
   ],
   "source": [
    "from sympy import expand, factor\n",
    "expanded_expr = expand(x*expr)\n",
    "expanded_expr"
   ]
  },
  {
   "cell_type": "code",
   "execution_count": 19,
   "id": "visible-northern",
   "metadata": {},
   "outputs": [
    {
     "data": {
      "text/latex": [
       "$\\displaystyle x \\left(x + 2 y\\right)$"
      ],
      "text/plain": [
       "x*(x + 2*y)"
      ]
     },
     "execution_count": 19,
     "metadata": {},
     "output_type": "execute_result"
    }
   ],
   "source": [
    "factor(expanded_expr)"
   ]
  },
  {
   "cell_type": "code",
   "execution_count": 20,
   "id": "drawn-substitute",
   "metadata": {},
   "outputs": [
    {
     "data": {
      "text/latex": [
       "The real power of a symbolic computation system such as SymPy is the ability to do all sorts of computations symbolically. SymPy can simplify expressions, compute derivatives, integrals, and limits, solve equations, work with matrices, and much, much more and do it all symbolically. It includes modules for plotting, printing, code generation, physics, statistics, combinatorics, number theory, geometry, logic, and more. Here is a small sampling of the sort of symbolic power SymPy is capable of, to whet your appetite\n"
      ],
      "text/plain": [
       "<IPython.core.display.Latex object>"
      ]
     },
     "metadata": {},
     "output_type": "display_data"
    }
   ],
   "source": [
    "%%latex\n",
    "The real power of a symbolic computation system such as SymPy is the ability to do all sorts of computations symbolically. SymPy can simplify expressions, compute derivatives, integrals, and limits, solve equations, work with matrices, and much, much more and do it all symbolically. It includes modules for plotting, printing, code generation, physics, statistics, combinatorics, number theory, geometry, logic, and more. Here is a small sampling of the sort of symbolic power SymPy is capable of, to whet your appetite"
   ]
  },
  {
   "cell_type": "code",
   "execution_count": 21,
   "id": "pacific-floating",
   "metadata": {},
   "outputs": [],
   "source": [
    "from sympy import * \n",
    "x, t, z, nu = symbols('x t z nu')"
   ]
  },
  {
   "cell_type": "code",
   "execution_count": 22,
   "id": "harmful-recommendation",
   "metadata": {},
   "outputs": [
    {
     "data": {
      "text/latex": [
       "Take the derivative of $sin(x)e^x$\n"
      ],
      "text/plain": [
       "<IPython.core.display.Latex object>"
      ]
     },
     "metadata": {},
     "output_type": "display_data"
    }
   ],
   "source": [
    "%%latex\n",
    "Take the derivative of $sin(x)e^x$"
   ]
  },
  {
   "cell_type": "code",
   "execution_count": 23,
   "id": "dried-leadership",
   "metadata": {},
   "outputs": [
    {
     "data": {
      "text/latex": [
       "$\\displaystyle e^{x} \\sin{\\left(x \\right)} + e^{x} \\cos{\\left(x \\right)}$"
      ],
      "text/plain": [
       "exp(x)*sin(x) + exp(x)*cos(x)"
      ]
     },
     "execution_count": 23,
     "metadata": {},
     "output_type": "execute_result"
    }
   ],
   "source": [
    "diff(sin(x)*exp(x), x)"
   ]
  },
  {
   "cell_type": "code",
   "execution_count": 24,
   "id": "offshore-narrow",
   "metadata": {},
   "outputs": [
    {
     "data": {
      "text/latex": [
       "Compute $\\int(e^xsin(x) + e^x cos(x))dx$\n"
      ],
      "text/plain": [
       "<IPython.core.display.Latex object>"
      ]
     },
     "metadata": {},
     "output_type": "display_data"
    }
   ],
   "source": [
    "%%latex\n",
    "Compute $\\int(e^xsin(x) + e^x cos(x))dx$"
   ]
  },
  {
   "cell_type": "code",
   "execution_count": 51,
   "id": "referenced-salon",
   "metadata": {},
   "outputs": [
    {
     "data": {
      "text/latex": [
       "$\\displaystyle e^{x} \\sin{\\left(x \\right)}$"
      ],
      "text/plain": [
       "exp(x)*sin(x)"
      ]
     },
     "execution_count": 51,
     "metadata": {},
     "output_type": "execute_result"
    }
   ],
   "source": [
    "integrate(exp(x)*sin(x) + exp(x)*cos(x), x)"
   ]
  },
  {
   "cell_type": "code",
   "execution_count": 28,
   "id": "recent-acceptance",
   "metadata": {},
   "outputs": [
    {
     "data": {
      "text/latex": [
       "Compute $\\int_{-\\infty}^{\\infty} sin(x^2)dx$\n"
      ],
      "text/plain": [
       "<IPython.core.display.Latex object>"
      ]
     },
     "metadata": {},
     "output_type": "display_data"
    }
   ],
   "source": [
    "%%latex\n",
    "Compute $\\int_{-\\infty}^{\\infty} sin(x^2)dx$"
   ]
  },
  {
   "cell_type": "code",
   "execution_count": 50,
   "id": "alone-count",
   "metadata": {},
   "outputs": [
    {
     "data": {
      "text/latex": [
       "$\\displaystyle \\frac{\\sqrt{2} \\sqrt{\\pi}}{2}$"
      ],
      "text/plain": [
       "sqrt(2)*sqrt(pi)/2"
      ]
     },
     "execution_count": 50,
     "metadata": {},
     "output_type": "execute_result"
    }
   ],
   "source": [
    "integrate(sin(x**2), (x, -oo, oo))"
   ]
  },
  {
   "cell_type": "code",
   "execution_count": 32,
   "id": "coral-brand",
   "metadata": {},
   "outputs": [
    {
     "data": {
      "text/latex": [
       "Find $lim_{x\\rightarrow 0} \\frac{sin(x)}{x}$\n"
      ],
      "text/plain": [
       "<IPython.core.display.Latex object>"
      ]
     },
     "metadata": {},
     "output_type": "display_data"
    }
   ],
   "source": [
    "%%latex\n",
    "Find $lim_{x\\rightarrow 0} \\frac{sin(x)}{x}$"
   ]
  },
  {
   "cell_type": "code",
   "execution_count": 33,
   "id": "inside-veteran",
   "metadata": {},
   "outputs": [
    {
     "data": {
      "text/latex": [
       "$\\displaystyle 1$"
      ],
      "text/plain": [
       "1"
      ]
     },
     "execution_count": 33,
     "metadata": {},
     "output_type": "execute_result"
    }
   ],
   "source": [
    "limit(sin(x)/x, x, 0)"
   ]
  },
  {
   "cell_type": "code",
   "execution_count": 34,
   "id": "raised-newton",
   "metadata": {},
   "outputs": [
    {
     "data": {
      "text/latex": [
       "Solve $x^2-2 = 0$\n"
      ],
      "text/plain": [
       "<IPython.core.display.Latex object>"
      ]
     },
     "metadata": {},
     "output_type": "display_data"
    }
   ],
   "source": [
    "%%latex\n",
    "Solve $x^2-2 = 0$"
   ]
  },
  {
   "cell_type": "code",
   "execution_count": 35,
   "id": "smooth-giving",
   "metadata": {},
   "outputs": [
    {
     "data": {
      "text/plain": [
       "[-sqrt(2), sqrt(2)]"
      ]
     },
     "execution_count": 35,
     "metadata": {},
     "output_type": "execute_result"
    }
   ],
   "source": [
    "solve(x**2 - 2, x)"
   ]
  },
  {
   "cell_type": "code",
   "execution_count": 37,
   "id": "coordinated-bruce",
   "metadata": {},
   "outputs": [
    {
     "data": {
      "text/latex": [
       "Solve the differential equation $y''-y = e^t$\n"
      ],
      "text/plain": [
       "<IPython.core.display.Latex object>"
      ]
     },
     "metadata": {},
     "output_type": "display_data"
    }
   ],
   "source": [
    "%%latex\n",
    "Solve the differential equation $y''-y = e^t$"
   ]
  },
  {
   "cell_type": "code",
   "execution_count": 38,
   "id": "aboriginal-packaging",
   "metadata": {},
   "outputs": [],
   "source": [
    "y = Function('y')"
   ]
  },
  {
   "cell_type": "code",
   "execution_count": 39,
   "id": "conceptual-express",
   "metadata": {},
   "outputs": [
    {
     "data": {
      "text/latex": [
       "$\\displaystyle y{\\left(t \\right)} = C_{2} e^{- t} + \\left(C_{1} + \\frac{t}{2}\\right) e^{t}$"
      ],
      "text/plain": [
       "Eq(y(t), C2*exp(-t) + (C1 + t/2)*exp(t))"
      ]
     },
     "execution_count": 39,
     "metadata": {},
     "output_type": "execute_result"
    }
   ],
   "source": [
    "dsolve(Eq(y(t).diff(t,t) - y(t), exp(t)), y(t))"
   ]
  },
  {
   "cell_type": "code",
   "execution_count": 48,
   "id": "industrial-fields",
   "metadata": {},
   "outputs": [
    {
     "data": {
      "text/latex": [
       "Find the eigenvalues of $\\begin{bmatrix}1 & 2 \\\\ 2 & 2\\end{bmatrix}$\n"
      ],
      "text/plain": [
       "<IPython.core.display.Latex object>"
      ]
     },
     "metadata": {},
     "output_type": "display_data"
    }
   ],
   "source": [
    "%%latex \n",
    "Find the eigenvalues of $\\begin{bmatrix}1 & 2 \\\\ 2 & 2\\end{bmatrix}$"
   ]
  },
  {
   "cell_type": "code",
   "execution_count": 55,
   "id": "large-turtle",
   "metadata": {},
   "outputs": [
    {
     "data": {
      "text/plain": [
       "{3/2 - sqrt(17)/2: 1, 3/2 + sqrt(17)/2: 1}"
      ]
     },
     "execution_count": 55,
     "metadata": {},
     "output_type": "execute_result"
    }
   ],
   "source": [
    "Matrix([[1, 2], [2, 2]]).eigenvals()"
   ]
  },
  {
   "cell_type": "code",
   "execution_count": 52,
   "id": "later-dodge",
   "metadata": {},
   "outputs": [
    {
     "data": {
      "text/latex": [
       "Rewrite the Bessel function $J_v(z)$ in terms of the spherical Bessel function $j_v(z)$\n"
      ],
      "text/plain": [
       "<IPython.core.display.Latex object>"
      ]
     },
     "metadata": {},
     "output_type": "display_data"
    }
   ],
   "source": [
    "%%latex\n",
    "Rewrite the Bessel function $J_v(z)$ in terms of the spherical Bessel function $j_v(z)$"
   ]
  },
  {
   "cell_type": "code",
   "execution_count": 53,
   "id": "suspended-wrong",
   "metadata": {},
   "outputs": [
    {
     "data": {
      "text/latex": [
       "$\\displaystyle \\frac{\\sqrt{2} \\sqrt{z} j_{\\nu - \\frac{1}{2}}\\left(z\\right)}{\\sqrt{\\pi}}$"
      ],
      "text/plain": [
       "sqrt(2)*sqrt(z)*jn(nu - 1/2, z)/sqrt(pi)"
      ]
     },
     "execution_count": 53,
     "metadata": {},
     "output_type": "execute_result"
    }
   ],
   "source": [
    "besselj(nu,z).rewrite(jn)"
   ]
  },
  {
   "cell_type": "code",
   "execution_count": 56,
   "id": "superb-manhattan",
   "metadata": {},
   "outputs": [
    {
     "data": {
      "text/latex": [
       "$\\displaystyle \\int\\limits_{0}^{\\pi} \\cos^{2}{\\left(x \\right)}\\, dx$"
      ],
      "text/plain": [
       "Integral(cos(x)**2, (x, 0, pi))"
      ]
     },
     "execution_count": 56,
     "metadata": {},
     "output_type": "execute_result"
    }
   ],
   "source": [
    "Integral(cos(x)**2, (x, 0, pi))"
   ]
  },
  {
   "cell_type": "code",
   "execution_count": 59,
   "id": "respective-provision",
   "metadata": {},
   "outputs": [
    {
     "data": {
      "text/latex": [
       "There are many computer algebra systems out there. What makes SymPy a better choice than the alternatives?\n",
       "\n",
       "First off, SymPy is completely free. It is open source, and licensed under the liberal BSD license, so you can modify the source code and even sell it if you want to. This contrasts with popular commercial systems like Maple or Mathematica that cost hundreds of dollars in licenses.\\\\\n",
       "\n",
       "Second, SymPy uses Python. Most computer algebra systems invent their own language. Not SymPy. SymPy is written entirely in Python, and is executed entirely in Python. This means that if you already know Python, it is much easier to get started with SymPy, because you already know the syntax(and if you don't know Python, it is really easy to learn). We already know that Python is a well-designed, battle-tested language. The SymPy developers are confident in their abilites in writing mathematical software, but programming language design is a completely different thing. By reusing an existing language, we are able to focus on those things taht matter: the mathematics. \\\\\n",
       "\n",
       "Another computer algegra system, Sage also uses Python as its language. But Sage is large, with a download of over a gigabyte. An advantage of SymPy is that it is lightweight. In addition to being relatively small, it has no dependencies other than Python, so it can be used almost anywhere easily. Furthermore, the goals of Sage and the goals of SymPy are different. Sage aims to be a full featured system for mathematics, and aims to do so by compiling all the major open source mathematical systems together into one. When you call some function in Sage, such as integrate, it calls out to one of the open source packages that includes. In fact, Sympy is included in Sage. Sympy on the other hand aims to be an independent system, with all the features implemented in SymPy itself. \\\\\n",
       "\n",
       "A final important feature of SymPy is that it can be used as a library. Many computer algebra systems focus on beging usable in interactive environments, but if you wish to automate or extend them, it is difficult to do. With SymPy, you can just as easily use it in an interactive Python environmentor import it in your own Python application. SymPy also provides Apis to make it easy to extend it with your own custom functions.\n"
      ],
      "text/plain": [
       "<IPython.core.display.Latex object>"
      ]
     },
     "metadata": {},
     "output_type": "display_data"
    }
   ],
   "source": [
    "%%latex\n",
    "There are many computer algebra systems out there. What makes SymPy a better choice than the alternatives?\n",
    "\n",
    "First off, SymPy is completely free. It is open source, and licensed under the liberal BSD license, so you can modify the source code and even sell it if you want to. This contrasts with popular commercial systems like Maple or Mathematica that cost hundreds of dollars in licenses.\\\\\n",
    "\n",
    "Second, SymPy uses Python. Most computer algebra systems invent their own language. Not SymPy. SymPy is written entirely in Python, and is executed entirely in Python. This means that if you already know Python, it is much easier to get started with SymPy, because you already know the syntax(and if you don't know Python, it is really easy to learn). We already know that Python is a well-designed, battle-tested language. The SymPy developers are confident in their abilites in writing mathematical software, but programming language design is a completely different thing. By reusing an existing language, we are able to focus on those things taht matter: the mathematics. \\\\\n",
    "\n",
    "Another computer algegra system, Sage also uses Python as its language. But Sage is large, with a download of over a gigabyte. An advantage of SymPy is that it is lightweight. In addition to being relatively small, it has no dependencies other than Python, so it can be used almost anywhere easily. Furthermore, the goals of Sage and the goals of SymPy are different. Sage aims to be a full featured system for mathematics, and aims to do so by compiling all the major open source mathematical systems together into one. When you call some function in Sage, such as integrate, it calls out to one of the open source packages that includes. In fact, Sympy is included in Sage. Sympy on the other hand aims to be an independent system, with all the features implemented in SymPy itself. \\\\\n",
    "\n",
    "A final important feature of SymPy is that it can be used as a library. Many computer algebra systems focus on beging usable in interactive environments, but if you wish to automate or extend them, it is difficult to do. With SymPy, you can just as easily use it in an interactive Python environmentor import it in your own Python application. SymPy also provides Apis to make it easy to extend it with your own custom functions."
   ]
  },
  {
   "cell_type": "code",
   "execution_count": null,
   "id": "indian-croatia",
   "metadata": {},
   "outputs": [],
   "source": []
  }
 ],
 "metadata": {
  "kernelspec": {
   "display_name": "Python 3",
   "language": "python",
   "name": "python3"
  },
  "language_info": {
   "codemirror_mode": {
    "name": "ipython",
    "version": 3
   },
   "file_extension": ".py",
   "mimetype": "text/x-python",
   "name": "python",
   "nbconvert_exporter": "python",
   "pygments_lexer": "ipython3",
   "version": "3.9.2"
  }
 },
 "nbformat": 4,
 "nbformat_minor": 5
}
