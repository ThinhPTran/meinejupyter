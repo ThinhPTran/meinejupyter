{
 "cells": [
  {
   "cell_type": "code",
   "execution_count": 1,
   "id": "painful-local",
   "metadata": {},
   "outputs": [
    {
     "data": {
      "text/latex": [
       "To make this document easier to read, we are going to enable pretty printing.\n"
      ],
      "text/plain": [
       "<IPython.core.display.Latex object>"
      ]
     },
     "metadata": {},
     "output_type": "display_data"
    }
   ],
   "source": [
    "%%latex\n",
    "To make this document easier to read, we are going to enable pretty printing."
   ]
  },
  {
   "cell_type": "code",
   "execution_count": 3,
   "id": "invisible-carrier",
   "metadata": {},
   "outputs": [],
   "source": [
    "from sympy import * \n",
    "x, y, z = symbols('x y z')\n",
    "init_printing(use_unicode=True)"
   ]
  },
  {
   "cell_type": "code",
   "execution_count": 4,
   "id": "technical-interference",
   "metadata": {},
   "outputs": [
    {
     "data": {
      "text/latex": [
       "simplify\n"
      ],
      "text/plain": [
       "<IPython.core.display.Latex object>"
      ]
     },
     "metadata": {},
     "output_type": "display_data"
    }
   ],
   "source": [
    "%%latex\n",
    "simplify"
   ]
  },
  {
   "cell_type": "code",
   "execution_count": 5,
   "id": "buried-marshall",
   "metadata": {},
   "outputs": [
    {
     "data": {
      "text/latex": [
       "Now let's jump in and do some interesting mathematics. One of the most useful features of a symbolic manipulation system is the ability to simplify mathematical expressions. Sympy has dozens of functions to perform various kinds of simplification. There is also one general function called simplify() that attempts to apply all of these functions in an intelligent way to arrive at the simplest form of an expression. Here are some examples.\n"
      ],
      "text/plain": [
       "<IPython.core.display.Latex object>"
      ]
     },
     "metadata": {},
     "output_type": "display_data"
    }
   ],
   "source": [
    "%%latex\n",
    "Now let's jump in and do some interesting mathematics. One of the most useful features of a symbolic manipulation system is the ability to simplify mathematical expressions. Sympy has dozens of functions to perform various kinds of simplification. There is also one general function called simplify() that attempts to apply all of these functions in an intelligent way to arrive at the simplest form of an expression. Here are some examples."
   ]
  },
  {
   "cell_type": "code",
   "execution_count": 6,
   "id": "acting-rescue",
   "metadata": {},
   "outputs": [
    {
     "data": {
      "image/png": "[encoded data removed]",
      "text/latex": [
       "$\\displaystyle 1$"
      ],
      "text/plain": [
       "1"
      ]
     },
     "execution_count": 6,
     "metadata": {},
     "output_type": "execute_result"
    }
   ],
   "source": [
    "simplify(sin(x)**2 + cos(x)**2)"
   ]
  },
  {
   "cell_type": "code",
   "execution_count": 7,
   "id": "authentic-watershed",
   "metadata": {},
   "outputs": [
    {
     "data": {
      "image/png": "[encoded data removed]",
      "text/latex": [
       "$\\displaystyle x - 1$"
      ],
      "text/plain": [
       "x - 1"
      ]
     },
     "execution_count": 7,
     "metadata": {},
     "output_type": "execute_result"
    }
   ],
   "source": [
    "simplify((x**3 + x**2 - x - 1)/(x**2 + 2*x + 1))"
   ]
  },
  {
   "cell_type": "code",
   "execution_count": 8,
   "id": "quality-framework",
   "metadata": {},
   "outputs": [
    {
     "data": {
      "image/png": "[encoded data removed]",
      "text/latex": [
       "$\\displaystyle \\left(x - 2\\right) \\left(x - 1\\right)$"
      ],
      "text/plain": [
       "(x - 2)⋅(x - 1)"
      ]
     },
     "execution_count": 8,
     "metadata": {},
     "output_type": "execute_result"
    }
   ],
   "source": [
    "simplify(gamma(x)/gamma(x-2))"
   ]
  },
  {
   "cell_type": "code",
   "execution_count": 11,
   "id": "engaged-people",
   "metadata": {},
   "outputs": [
    {
     "data": {
      "text/latex": [
       "Here, gamma(x) is $\\Gamma(x)$, the gamma function. We see that simplify() is capable of handling a large class of expressions.\n"
      ],
      "text/plain": [
       "<IPython.core.display.Latex object>"
      ]
     },
     "metadata": {},
     "output_type": "display_data"
    }
   ],
   "source": [
    "%%latex\n",
    "Here, gamma(x) is $\\Gamma(x)$, the gamma function. We see that simplify() is capable of handling a large class of expressions."
   ]
  },
  {
   "cell_type": "code",
   "execution_count": 12,
   "id": "mounted-ethics",
   "metadata": {},
   "outputs": [
    {
     "data": {
      "text/latex": [
       "But simplify() has a pitfall. It just applies all the major simplification operations in SymPy, and uses heuristics to determine the simplest result. But \"simplest\" is not a well-defined term. For example, say we wanted to simplify $x^2 + 2x + 1$ into $(x+1)^2$\n"
      ],
      "text/plain": [
       "<IPython.core.display.Latex object>"
      ]
     },
     "metadata": {},
     "output_type": "display_data"
    }
   ],
   "source": [
    "%%latex\n",
    "But simplify() has a pitfall. It just applies all the major simplification operations in SymPy, and uses heuristics to determine the simplest result. But \"simplest\" is not a well-defined term. For example, say we wanted to simplify $x^2 + 2x + 1$ into $(x+1)^2$"
   ]
  },
  {
   "cell_type": "code",
   "execution_count": 13,
   "id": "cardiovascular-limit",
   "metadata": {},
   "outputs": [
    {
     "data": {
      "image/png": "[encoded data removed]",
      "text/latex": [
       "$\\displaystyle x^{2} + 2 x + 1$"
      ],
      "text/plain": [
       " 2          \n",
       "x  + 2⋅x + 1"
      ]
     },
     "execution_count": 13,
     "metadata": {},
     "output_type": "execute_result"
    }
   ],
   "source": [
    "simplify(x**2+2*x+1)"
   ]
  },
  {
   "cell_type": "code",
   "execution_count": 14,
   "id": "elect-overhead",
   "metadata": {},
   "outputs": [
    {
     "data": {
      "text/latex": [
       "We did not get what we want. There is a function to perform this simplification, called factor(), which will be discussed below.\n"
      ],
      "text/plain": [
       "<IPython.core.display.Latex object>"
      ]
     },
     "metadata": {},
     "output_type": "display_data"
    }
   ],
   "source": [
    "%%latex\n",
    "We did not get what we want. There is a function to perform this simplification, called factor(), which will be discussed below."
   ]
  },
  {
   "cell_type": "code",
   "execution_count": 15,
   "id": "eligible-single",
   "metadata": {},
   "outputs": [
    {
     "data": {
      "text/latex": [
       "Another pitfall to simplify() is that it can be unnecessarily slow, since it tries many kinds of simplifications before picking the best one. If you already know exactly what kind of simplification you are after, it is better to apply the specific simplification function(s) that apply those simplifications.\n"
      ],
      "text/plain": [
       "<IPython.core.display.Latex object>"
      ]
     },
     "metadata": {},
     "output_type": "display_data"
    }
   ],
   "source": [
    "%%latex\n",
    "Another pitfall to simplify() is that it can be unnecessarily slow, since it tries many kinds of simplifications before picking the best one. If you already know exactly what kind of simplification you are after, it is better to apply the specific simplification function(s) that apply those simplifications."
   ]
  },
  {
   "cell_type": "code",
   "execution_count": 16,
   "id": "sixth-librarian",
   "metadata": {},
   "outputs": [
    {
     "data": {
      "text/latex": [
       "Polynomial/Rational Function Simplification\n"
      ],
      "text/plain": [
       "<IPython.core.display.Latex object>"
      ]
     },
     "metadata": {},
     "output_type": "display_data"
    }
   ],
   "source": [
    "%%latex\n",
    "Polynomial/Rational Function Simplification"
   ]
  },
  {
   "cell_type": "code",
   "execution_count": 17,
   "id": "norwegian-appliance",
   "metadata": {},
   "outputs": [
    {
     "data": {
      "text/latex": [
       "expand\n"
      ],
      "text/plain": [
       "<IPython.core.display.Latex object>"
      ]
     },
     "metadata": {},
     "output_type": "display_data"
    }
   ],
   "source": [
    "%%latex\n",
    "expand"
   ]
  },
  {
   "cell_type": "code",
   "execution_count": 18,
   "id": "regulated-alpha",
   "metadata": {},
   "outputs": [
    {
     "data": {
      "text/latex": [
       "expand() is one of the most common simplification functions in SymPy. Although it has a lot of scopes, for now, we will consider its function in expanding polynomial expressions. For example:\n"
      ],
      "text/plain": [
       "<IPython.core.display.Latex object>"
      ]
     },
     "metadata": {},
     "output_type": "display_data"
    }
   ],
   "source": [
    "%%latex\n",
    "expand() is one of the most common simplification functions in SymPy. Although it has a lot of scopes, for now, we will consider its function in expanding polynomial expressions. For example:"
   ]
  },
  {
   "cell_type": "code",
   "execution_count": 19,
   "id": "fallen-johnston",
   "metadata": {},
   "outputs": [
    {
     "data": {
      "image/png": "[encoded data removed]",
      "text/latex": [
       "$\\displaystyle x^{2} + 2 x + 1$"
      ],
      "text/plain": [
       " 2          \n",
       "x  + 2⋅x + 1"
      ]
     },
     "execution_count": 19,
     "metadata": {},
     "output_type": "execute_result"
    }
   ],
   "source": [
    "expand((x+1)**2)"
   ]
  },
  {
   "cell_type": "code",
   "execution_count": 20,
   "id": "decreased-emperor",
   "metadata": {},
   "outputs": [
    {
     "data": {
      "image/png": "[encoded data removed]",
      "text/latex": [
       "$\\displaystyle x^{2} - x - 6$"
      ],
      "text/plain": [
       " 2        \n",
       "x  - x - 6"
      ]
     },
     "execution_count": 20,
     "metadata": {},
     "output_type": "execute_result"
    }
   ],
   "source": [
    "expand((x+2)*(x-3))"
   ]
  },
  {
   "cell_type": "code",
   "execution_count": 21,
   "id": "spoken-fusion",
   "metadata": {},
   "outputs": [
    {
     "data": {
      "text/latex": [
       "Given a polynomial, expand() will put it into a canonical form of a sum of monomials.\n"
      ],
      "text/plain": [
       "<IPython.core.display.Latex object>"
      ]
     },
     "metadata": {},
     "output_type": "display_data"
    }
   ],
   "source": [
    "%%latex\n",
    "Given a polynomial, expand() will put it into a canonical form of a sum of monomials."
   ]
  },
  {
   "cell_type": "code",
   "execution_count": 22,
   "id": "promising-essex",
   "metadata": {},
   "outputs": [
    {
     "data": {
      "text/latex": [
       "expand() may not sound like a simplification function. After all, by tis very name, it makes expressions bigger, not smaller. Usually this is the case, but often an expression will become smaller upon calling expand() on it due to cancellation.\n"
      ],
      "text/plain": [
       "<IPython.core.display.Latex object>"
      ]
     },
     "metadata": {},
     "output_type": "display_data"
    }
   ],
   "source": [
    "%%latex\n",
    "expand() may not sound like a simplification function. After all, by tis very name, it makes expressions bigger, not smaller. Usually this is the case, but often an expression will become smaller upon calling expand() on it due to cancellation."
   ]
  },
  {
   "cell_type": "code",
   "execution_count": 23,
   "id": "pressing-indianapolis",
   "metadata": {},
   "outputs": [
    {
     "data": {
      "image/png": "[encoded data removed]",
      "text/latex": [
       "$\\displaystyle -2$"
      ],
      "text/plain": [
       "-2"
      ]
     },
     "execution_count": 23,
     "metadata": {},
     "output_type": "execute_result"
    }
   ],
   "source": [
    "expand((x+1)*(x-2) - (x-1)*x)"
   ]
  },
  {
   "cell_type": "code",
   "execution_count": 24,
   "id": "dutch-brother",
   "metadata": {},
   "outputs": [
    {
     "data": {
      "text/latex": [
       "factor\n"
      ],
      "text/plain": [
       "<IPython.core.display.Latex object>"
      ]
     },
     "metadata": {},
     "output_type": "display_data"
    }
   ],
   "source": [
    "%%latex\n",
    "factor"
   ]
  },
  {
   "cell_type": "code",
   "execution_count": 25,
   "id": "thrown-franchise",
   "metadata": {},
   "outputs": [
    {
     "data": {
      "text/latex": [
       "factor() takes a polynomial and factors it into irreducible factors over the rational numbers. For example:\n",
       "    \n"
      ],
      "text/plain": [
       "<IPython.core.display.Latex object>"
      ]
     },
     "metadata": {},
     "output_type": "display_data"
    }
   ],
   "source": [
    "%%latex\n",
    "factor() takes a polynomial and factors it into irreducible factors over the rational numbers. For example:\n",
    "    "
   ]
  },
  {
   "cell_type": "code",
   "execution_count": 27,
   "id": "related-snowboard",
   "metadata": {},
   "outputs": [
    {
     "data": {
      "image/png": "[encoded data removed]",
      "text/latex": [
       "$\\displaystyle \\left(x - 1\\right) \\left(x^{2} + 1\\right)$"
      ],
      "text/plain": [
       "        ⎛ 2    ⎞\n",
       "(x - 1)⋅⎝x  + 1⎠"
      ]
     },
     "execution_count": 27,
     "metadata": {},
     "output_type": "execute_result"
    }
   ],
   "source": [
    "factor(x**3 - x**2 + x - 1)"
   ]
  },
  {
   "cell_type": "code",
   "execution_count": 28,
   "id": "yellow-second",
   "metadata": {},
   "outputs": [
    {
     "data": {
      "image/png": "[encoded data removed]",
      "text/latex": [
       "$\\displaystyle z \\left(x + 2 y\\right)^{2}$"
      ],
      "text/plain": [
       "           2\n",
       "z⋅(x + 2⋅y) "
      ]
     },
     "execution_count": 28,
     "metadata": {},
     "output_type": "execute_result"
    }
   ],
   "source": [
    "factor(x**2*z + 4*x*y*z + 4*y**2*z)"
   ]
  },
  {
   "cell_type": "code",
   "execution_count": 29,
   "id": "affected-chair",
   "metadata": {},
   "outputs": [
    {
     "data": {
      "text/latex": [
       "For polynomials, factor() is the opposite of expand(). factor() uses a complete multivariate factorization algorithm over the rational numbers, which means that each of the factors returned by factor() is guaranteed to be irreducible. \n"
      ],
      "text/plain": [
       "<IPython.core.display.Latex object>"
      ]
     },
     "metadata": {},
     "output_type": "display_data"
    }
   ],
   "source": [
    "%%latex \n",
    "For polynomials, factor() is the opposite of expand(). factor() uses a complete multivariate factorization algorithm over the rational numbers, which means that each of the factors returned by factor() is guaranteed to be irreducible. "
   ]
  },
  {
   "cell_type": "code",
   "execution_count": 30,
   "id": "bound-booth",
   "metadata": {},
   "outputs": [
    {
     "data": {
      "text/latex": [
       "If you are interested in the factors themselves, factor_list returns a more structured output.\n"
      ],
      "text/plain": [
       "<IPython.core.display.Latex object>"
      ]
     },
     "metadata": {},
     "output_type": "display_data"
    }
   ],
   "source": [
    "%%latex\n",
    "If you are interested in the factors themselves, factor_list returns a more structured output."
   ]
  },
  {
   "cell_type": "code",
   "execution_count": 31,
   "id": "reserved-round",
   "metadata": {},
   "outputs": [
    {
     "data": {
      "text/latex": [
       "Not that the input to factor and expand need not be polynomials in the strict sense. They will intelligently factor or expand any kind of expression (though note that the factors may not be irreducible if the input is no longer a polynomial over rationals)\n"
      ],
      "text/plain": [
       "<IPython.core.display.Latex object>"
      ]
     },
     "metadata": {},
     "output_type": "display_data"
    }
   ],
   "source": [
    "%%latex\n",
    "Not that the input to factor and expand need not be polynomials in the strict sense. They will intelligently factor or expand any kind of expression (though note that the factors may not be irreducible if the input is no longer a polynomial over rationals)"
   ]
  },
  {
   "cell_type": "code",
   "execution_count": 32,
   "id": "voluntary-strain",
   "metadata": {},
   "outputs": [
    {
     "data": {
      "image/png": "[encoded data removed]",
      "text/latex": [
       "$\\displaystyle \\sin^{2}{\\left(x \\right)} + 2 \\sin{\\left(x \\right)} \\cos{\\left(x \\right)} + \\cos^{2}{\\left(x \\right)}$"
      ],
      "text/plain": [
       "   2                           2   \n",
       "sin (x) + 2⋅sin(x)⋅cos(x) + cos (x)"
      ]
     },
     "execution_count": 32,
     "metadata": {},
     "output_type": "execute_result"
    }
   ],
   "source": [
    "expand((cos(x) + sin(x))**2)"
   ]
  },
  {
   "cell_type": "code",
   "execution_count": 33,
   "id": "agricultural-minimum",
   "metadata": {},
   "outputs": [
    {
     "data": {
      "image/png": "[encoded data removed]",
      "text/latex": [
       "$\\displaystyle \\left(\\sin{\\left(x \\right)} + \\cos{\\left(x \\right)}\\right)^{2}$"
      ],
      "text/plain": [
       "                 2\n",
       "(sin(x) + cos(x)) "
      ]
     },
     "execution_count": 33,
     "metadata": {},
     "output_type": "execute_result"
    }
   ],
   "source": [
    "factor(cos(x)**2 + 2*cos(x)*sin(x) + sin(x)**2)"
   ]
  },
  {
   "cell_type": "code",
   "execution_count": 34,
   "id": "concrete-deficit",
   "metadata": {},
   "outputs": [
    {
     "data": {
      "text/latex": [
       "collect\n"
      ],
      "text/plain": [
       "<IPython.core.display.Latex object>"
      ]
     },
     "metadata": {},
     "output_type": "display_data"
    }
   ],
   "source": [
    "%%latex\n",
    "collect"
   ]
  },
  {
   "cell_type": "code",
   "execution_count": 35,
   "id": "distributed-burke",
   "metadata": {},
   "outputs": [
    {
     "data": {
      "text/latex": [
       "collect() collects common powers of a term in an expression. For example:\n"
      ],
      "text/plain": [
       "<IPython.core.display.Latex object>"
      ]
     },
     "metadata": {},
     "output_type": "display_data"
    }
   ],
   "source": [
    "%%latex\n",
    "collect() collects common powers of a term in an expression. For example:"
   ]
  },
  {
   "cell_type": "code",
   "execution_count": 36,
   "id": "international-craft",
   "metadata": {},
   "outputs": [],
   "source": [
    "expr = x*y + x - 3 + 2*x**2 - z*x**2 + x**3"
   ]
  },
  {
   "cell_type": "code",
   "execution_count": 37,
   "id": "banner-adoption",
   "metadata": {},
   "outputs": [
    {
     "data": {
      "image/png": "[encoded data removed]",
      "text/latex": [
       "$\\displaystyle x^{3} - x^{2} z + 2 x^{2} + x y + x - 3$"
      ],
      "text/plain": [
       " 3    2        2              \n",
       "x  - x ⋅z + 2⋅x  + x⋅y + x - 3"
      ]
     },
     "execution_count": 37,
     "metadata": {},
     "output_type": "execute_result"
    }
   ],
   "source": [
    "expr"
   ]
  },
  {
   "cell_type": "code",
   "execution_count": 38,
   "id": "loaded-interview",
   "metadata": {},
   "outputs": [],
   "source": [
    "collected_expr = collect(expr, x)"
   ]
  },
  {
   "cell_type": "code",
   "execution_count": 39,
   "id": "statewide-legislation",
   "metadata": {},
   "outputs": [
    {
     "data": {
      "image/png": "[encoded data removed]",
      "text/latex": [
       "$\\displaystyle x^{3} + x^{2} \\left(2 - z\\right) + x \\left(y + 1\\right) - 3$"
      ],
      "text/plain": [
       " 3    2                        \n",
       "x  + x ⋅(2 - z) + x⋅(y + 1) - 3"
      ]
     },
     "execution_count": 39,
     "metadata": {},
     "output_type": "execute_result"
    }
   ],
   "source": [
    "collected_expr"
   ]
  },
  {
   "cell_type": "code",
   "execution_count": 40,
   "id": "affected-brief",
   "metadata": {},
   "outputs": [
    {
     "data": {
      "text/latex": [
       "collect() is particularly useful in conjunction with the .coeff() method. expr.coeff(x, n) gives the coefficient of x**n in expr:\n",
       "    \n"
      ],
      "text/plain": [
       "<IPython.core.display.Latex object>"
      ]
     },
     "metadata": {},
     "output_type": "display_data"
    }
   ],
   "source": [
    "%%latex\n",
    "collect() is particularly useful in conjunction with the .coeff() method. expr.coeff(x, n) gives the coefficient of x**n in expr:\n",
    "    "
   ]
  },
  {
   "cell_type": "code",
   "execution_count": 41,
   "id": "august-implementation",
   "metadata": {},
   "outputs": [
    {
     "data": {
      "image/png": "[encoded data removed]",
      "text/latex": [
       "$\\displaystyle 2 - z$"
      ],
      "text/plain": [
       "2 - z"
      ]
     },
     "execution_count": 41,
     "metadata": {},
     "output_type": "execute_result"
    }
   ],
   "source": [
    "collected_expr.coeff(x,2)"
   ]
  },
  {
   "cell_type": "code",
   "execution_count": 42,
   "id": "informal-registrar",
   "metadata": {},
   "outputs": [
    {
     "data": {
      "text/latex": [
       "cancel\n"
      ],
      "text/plain": [
       "<IPython.core.display.Latex object>"
      ]
     },
     "metadata": {},
     "output_type": "display_data"
    }
   ],
   "source": [
    "%%latex\n",
    "cancel"
   ]
  },
  {
   "cell_type": "code",
   "execution_count": 43,
   "id": "subject-taiwan",
   "metadata": {},
   "outputs": [
    {
     "data": {
      "text/latex": [
       "cancel() will take any rational function and put it into the standard canonical form, $\\frac{p}{q}$, where p and q are expaned polynomials with no common factors, and the leading coefficients of p and q do not have denominators\n"
      ],
      "text/plain": [
       "<IPython.core.display.Latex object>"
      ]
     },
     "metadata": {},
     "output_type": "display_data"
    }
   ],
   "source": [
    "%%latex\n",
    "cancel() will take any rational function and put it into the standard canonical form, $\\frac{p}{q}$, where p and q are expaned polynomials with no common factors, and the leading coefficients of p and q do not have denominators"
   ]
  },
  {
   "cell_type": "code",
   "execution_count": 44,
   "id": "arctic-bandwidth",
   "metadata": {},
   "outputs": [
    {
     "data": {
      "image/png": "[encoded data removed]",
      "text/latex": [
       "$\\displaystyle \\frac{x + 1}{x}$"
      ],
      "text/plain": [
       "x + 1\n",
       "─────\n",
       "  x  "
      ]
     },
     "execution_count": 44,
     "metadata": {},
     "output_type": "execute_result"
    }
   ],
   "source": [
    "cancel((x**2 + 2*x + 1)/(x**2 + x))"
   ]
  },
  {
   "cell_type": "code",
   "execution_count": 45,
   "id": "published-establishment",
   "metadata": {},
   "outputs": [],
   "source": [
    "expr = 1/x + (3*x/2 - 2)/(x-4)"
   ]
  },
  {
   "cell_type": "code",
   "execution_count": 46,
   "id": "apart-green",
   "metadata": {},
   "outputs": [
    {
     "data": {
      "image/png": "[encoded data removed]",
      "text/latex": [
       "$\\displaystyle \\frac{\\frac{3 x}{2} - 2}{x - 4} + \\frac{1}{x}$"
      ],
      "text/plain": [
       "3⋅x        \n",
       "─── - 2    \n",
       " 2        1\n",
       "─────── + ─\n",
       " x - 4    x"
      ]
     },
     "execution_count": 46,
     "metadata": {},
     "output_type": "execute_result"
    }
   ],
   "source": [
    "expr"
   ]
  },
  {
   "cell_type": "code",
   "execution_count": 47,
   "id": "scientific-polymer",
   "metadata": {},
   "outputs": [
    {
     "data": {
      "image/png": "[encoded data removed]",
      "text/latex": [
       "$\\displaystyle \\frac{3 x^{2} - 2 x - 8}{2 x^{2} - 8 x}$"
      ],
      "text/plain": [
       "   2          \n",
       "3⋅x  - 2⋅x - 8\n",
       "──────────────\n",
       "     2        \n",
       "  2⋅x  - 8⋅x  "
      ]
     },
     "execution_count": 47,
     "metadata": {},
     "output_type": "execute_result"
    }
   ],
   "source": [
    "cancel(expr)"
   ]
  },
  {
   "cell_type": "code",
   "execution_count": 48,
   "id": "manual-sarah",
   "metadata": {},
   "outputs": [],
   "source": [
    "expr = (x*y**2 -  2*x*y*z + x*z**2 + y**2 - 2*y*z + z**2)/(x**2 - 1)"
   ]
  },
  {
   "cell_type": "code",
   "execution_count": 49,
   "id": "spoken-gospel",
   "metadata": {},
   "outputs": [
    {
     "data": {
      "image/png": "[encoded data removed]",
      "text/latex": [
       "$\\displaystyle \\frac{x y^{2} - 2 x y z + x z^{2} + y^{2} - 2 y z + z^{2}}{x^{2} - 1}$"
      ],
      "text/plain": [
       "   2                2    2            2\n",
       "x⋅y  - 2⋅x⋅y⋅z + x⋅z  + y  - 2⋅y⋅z + z \n",
       "───────────────────────────────────────\n",
       "                  2                    \n",
       "                 x  - 1                "
      ]
     },
     "execution_count": 49,
     "metadata": {},
     "output_type": "execute_result"
    }
   ],
   "source": [
    "expr"
   ]
  },
  {
   "cell_type": "code",
   "execution_count": 50,
   "id": "young-passion",
   "metadata": {},
   "outputs": [
    {
     "data": {
      "image/png": "[encoded data removed]",
      "text/latex": [
       "$\\displaystyle \\frac{y^{2} - 2 y z + z^{2}}{x - 1}$"
      ],
      "text/plain": [
       " 2            2\n",
       "y  - 2⋅y⋅z + z \n",
       "───────────────\n",
       "     x - 1     "
      ]
     },
     "execution_count": 50,
     "metadata": {},
     "output_type": "execute_result"
    }
   ],
   "source": [
    "cancel(expr)"
   ]
  },
  {
   "cell_type": "code",
   "execution_count": 51,
   "id": "dangerous-latvia",
   "metadata": {},
   "outputs": [
    {
     "data": {
      "text/latex": [
       "Note that since factor() will completely factorize both the numerator and the denominator of an expression, it can also be used to do the same thing:\n"
      ],
      "text/plain": [
       "<IPython.core.display.Latex object>"
      ]
     },
     "metadata": {},
     "output_type": "display_data"
    }
   ],
   "source": [
    "%%latex\n",
    "Note that since factor() will completely factorize both the numerator and the denominator of an expression, it can also be used to do the same thing:"
   ]
  },
  {
   "cell_type": "code",
   "execution_count": 52,
   "id": "fifth-sullivan",
   "metadata": {},
   "outputs": [
    {
     "data": {
      "image/png": "[encoded data removed]",
      "text/latex": [
       "$\\displaystyle \\frac{\\left(y - z\\right)^{2}}{x - 1}$"
      ],
      "text/plain": [
       "       2\n",
       "(y - z) \n",
       "────────\n",
       " x - 1  "
      ]
     },
     "execution_count": 52,
     "metadata": {},
     "output_type": "execute_result"
    }
   ],
   "source": [
    "factor(expr)"
   ]
  },
  {
   "cell_type": "code",
   "execution_count": 53,
   "id": "powerful-confidence",
   "metadata": {},
   "outputs": [
    {
     "data": {
      "text/latex": [
       "apart() performs a partial fraction decomposition on a rational function.\n"
      ],
      "text/plain": [
       "<IPython.core.display.Latex object>"
      ]
     },
     "metadata": {},
     "output_type": "display_data"
    }
   ],
   "source": [
    "%%latex\n",
    "apart() performs a partial fraction decomposition on a rational function."
   ]
  },
  {
   "cell_type": "code",
   "execution_count": 56,
   "id": "comic-subcommittee",
   "metadata": {},
   "outputs": [
    {
     "data": {
      "image/png": "[encoded data removed]",
      "text/latex": [
       "$\\displaystyle \\frac{4 x^{3} + 21 x^{2} + 10 x + 12}{x^{4} + 5 x^{3} + 5 x^{2} + 4 x}$"
      ],
      "text/plain": [
       "   3       2            \n",
       "4⋅x  + 21⋅x  + 10⋅x + 12\n",
       "────────────────────────\n",
       "  4      3      2       \n",
       " x  + 5⋅x  + 5⋅x  + 4⋅x "
      ]
     },
     "execution_count": 56,
     "metadata": {},
     "output_type": "execute_result"
    }
   ],
   "source": [
    "expr = (4*x**3 + 21*x**2 + 10*x + 12)/(x**4 + 5*x**3 + 5*x**2 + 4*x)\n",
    "expr"
   ]
  },
  {
   "cell_type": "code",
   "execution_count": 57,
   "id": "coordinated-somewhere",
   "metadata": {},
   "outputs": [
    {
     "data": {
      "image/png": "[encoded data removed]",
      "text/latex": [
       "$\\displaystyle \\frac{2 x - 1}{x^{2} + x + 1} - \\frac{1}{x + 4} + \\frac{3}{x}$"
      ],
      "text/plain": [
       " 2⋅x - 1       1     3\n",
       "────────── - ───── + ─\n",
       " 2           x + 4   x\n",
       "x  + x + 1            "
      ]
     },
     "execution_count": 57,
     "metadata": {},
     "output_type": "execute_result"
    }
   ],
   "source": [
    "apart(expr)"
   ]
  },
  {
   "cell_type": "code",
   "execution_count": 59,
   "id": "nasty-christian",
   "metadata": {},
   "outputs": [
    {
     "data": {
      "text/latex": [
       "Trigonometric Simplification\n",
       "Note: SymPy follows Python's naming conventions for inverse trigonometric functions, which is to append an a to the front of the function's name. For example, the inverse cosine, or arc cosine, is called acos().\n"
      ],
      "text/plain": [
       "<IPython.core.display.Latex object>"
      ]
     },
     "metadata": {},
     "output_type": "display_data"
    }
   ],
   "source": [
    "%%latex\n",
    "Trigonometric Simplification\n",
    "Note: SymPy follows Python's naming conventions for inverse trigonometric functions, which is to append an a to the front of the function's name. For example, the inverse cosine, or arc cosine, is called acos()."
   ]
  },
  {
   "cell_type": "code",
   "execution_count": 60,
   "id": "greater-tonight",
   "metadata": {},
   "outputs": [
    {
     "data": {
      "image/png": "[encoded data removed]",
      "text/latex": [
       "$\\displaystyle \\operatorname{acos}{\\left(x \\right)}$"
      ],
      "text/plain": [
       "acos(x)"
      ]
     },
     "execution_count": 60,
     "metadata": {},
     "output_type": "execute_result"
    }
   ],
   "source": [
    "acos(x)"
   ]
  },
  {
   "cell_type": "code",
   "execution_count": 61,
   "id": "rural-project",
   "metadata": {},
   "outputs": [
    {
     "data": {
      "image/png": "[encoded data removed]",
      "text/latex": [
       "$\\displaystyle x$"
      ],
      "text/plain": [
       "x"
      ]
     },
     "execution_count": 61,
     "metadata": {},
     "output_type": "execute_result"
    }
   ],
   "source": [
    "cos(acos(x))"
   ]
  },
  {
   "cell_type": "code",
   "execution_count": 62,
   "id": "systematic-assist",
   "metadata": {},
   "outputs": [
    {
     "data": {
      "image/png": "[encoded data removed]",
      "text/latex": [
       "$\\displaystyle \\frac{\\pi}{2}$"
      ],
      "text/plain": [
       "π\n",
       "─\n",
       "2"
      ]
     },
     "execution_count": 62,
     "metadata": {},
     "output_type": "execute_result"
    }
   ],
   "source": [
    "asin(1)"
   ]
  },
  {
   "cell_type": "code",
   "execution_count": 63,
   "id": "southeast-purse",
   "metadata": {},
   "outputs": [
    {
     "data": {
      "text/latex": [
       "trigsimp\n"
      ],
      "text/plain": [
       "<IPython.core.display.Latex object>"
      ]
     },
     "metadata": {},
     "output_type": "display_data"
    }
   ],
   "source": [
    "%%latex\n",
    "trigsimp"
   ]
  },
  {
   "cell_type": "code",
   "execution_count": 64,
   "id": "engaging-institute",
   "metadata": {},
   "outputs": [
    {
     "data": {
      "text/latex": [
       "To simplify expressions using trigonometric identities, use trigsimp()\n"
      ],
      "text/plain": [
       "<IPython.core.display.Latex object>"
      ]
     },
     "metadata": {},
     "output_type": "display_data"
    }
   ],
   "source": [
    "%%latex\n",
    "To simplify expressions using trigonometric identities, use trigsimp()"
   ]
  },
  {
   "cell_type": "code",
   "execution_count": 65,
   "id": "saving-gossip",
   "metadata": {},
   "outputs": [
    {
     "data": {
      "image/png": "[encoded data removed]",
      "text/latex": [
       "$\\displaystyle 1$"
      ],
      "text/plain": [
       "1"
      ]
     },
     "execution_count": 65,
     "metadata": {},
     "output_type": "execute_result"
    }
   ],
   "source": [
    "trigsimp(sin(x)**2 + cos(x)**2)"
   ]
  },
  {
   "cell_type": "code",
   "execution_count": 66,
   "id": "abstract-member",
   "metadata": {},
   "outputs": [
    {
     "data": {
      "image/png": "[encoded data removed]",
      "text/latex": [
       "$\\displaystyle \\frac{\\cos{\\left(4 x \\right)}}{2} + \\frac{1}{2}$"
      ],
      "text/plain": [
       "cos(4⋅x)   1\n",
       "──────── + ─\n",
       "   2       2"
      ]
     },
     "execution_count": 66,
     "metadata": {},
     "output_type": "execute_result"
    }
   ],
   "source": [
    "trigsimp(sin(x)**4 - 2*cos(x)**2*sin(x)**2 + cos(x)**4)"
   ]
  },
  {
   "cell_type": "code",
   "execution_count": 67,
   "id": "willing-melbourne",
   "metadata": {},
   "outputs": [
    {
     "data": {
      "image/png": "[encoded data removed]",
      "text/latex": [
       "$\\displaystyle \\sin^{2}{\\left(x \\right)}$"
      ],
      "text/plain": [
       "   2   \n",
       "sin (x)"
      ]
     },
     "execution_count": 67,
     "metadata": {},
     "output_type": "execute_result"
    }
   ],
   "source": [
    "trigsimp(sin(x)*tan(x)/sec(x))"
   ]
  },
  {
   "cell_type": "code",
   "execution_count": 68,
   "id": "bibliographic-costa",
   "metadata": {},
   "outputs": [
    {
     "data": {
      "text/latex": [
       "trigsimp() also works with hyperbolic trig functions\n"
      ],
      "text/plain": [
       "<IPython.core.display.Latex object>"
      ]
     },
     "metadata": {},
     "output_type": "display_data"
    }
   ],
   "source": [
    "%%latex\n",
    "trigsimp() also works with hyperbolic trig functions"
   ]
  },
  {
   "cell_type": "code",
   "execution_count": 69,
   "id": "effective-freeze",
   "metadata": {},
   "outputs": [
    {
     "data": {
      "image/png": "[encoded data removed]",
      "text/latex": [
       "$\\displaystyle \\cosh{\\left(2 x \\right)}$"
      ],
      "text/plain": [
       "cosh(2⋅x)"
      ]
     },
     "execution_count": 69,
     "metadata": {},
     "output_type": "execute_result"
    }
   ],
   "source": [
    "trigsimp(cosh(x)**2 + sinh(x)**2)"
   ]
  },
  {
   "cell_type": "code",
   "execution_count": 70,
   "id": "fresh-software",
   "metadata": {},
   "outputs": [
    {
     "data": {
      "image/png": "[encoded data removed]",
      "text/latex": [
       "$\\displaystyle \\cosh{\\left(x \\right)}$"
      ],
      "text/plain": [
       "cosh(x)"
      ]
     },
     "execution_count": 70,
     "metadata": {},
     "output_type": "execute_result"
    }
   ],
   "source": [
    "trigsimp(sinh(x)/tanh(x))"
   ]
  },
  {
   "cell_type": "code",
   "execution_count": 71,
   "id": "lucky-interaction",
   "metadata": {},
   "outputs": [
    {
     "data": {
      "text/latex": [
       "Much like simplify(), trigsimp() applies various trigonometric identities to the input expression, and then uses a heuristic to return the best one.\n"
      ],
      "text/plain": [
       "<IPython.core.display.Latex object>"
      ]
     },
     "metadata": {},
     "output_type": "display_data"
    }
   ],
   "source": [
    "%%latex\n",
    "Much like simplify(), trigsimp() applies various trigonometric identities to the input expression, and then uses a heuristic to return the best one."
   ]
  },
  {
   "cell_type": "code",
   "execution_count": 72,
   "id": "suspended-adolescent",
   "metadata": {},
   "outputs": [
    {
     "data": {
      "text/latex": [
       "expand_trig\n"
      ],
      "text/plain": [
       "<IPython.core.display.Latex object>"
      ]
     },
     "metadata": {},
     "output_type": "display_data"
    }
   ],
   "source": [
    "%%latex\n",
    "expand_trig"
   ]
  },
  {
   "cell_type": "code",
   "execution_count": 73,
   "id": "chief-consolidation",
   "metadata": {},
   "outputs": [
    {
     "data": {
      "text/latex": [
       "To expand trigonometric functions, that is, apply the sum or double angle identities, use expand_trig().\n"
      ],
      "text/plain": [
       "<IPython.core.display.Latex object>"
      ]
     },
     "metadata": {},
     "output_type": "display_data"
    }
   ],
   "source": [
    "%%latex\n",
    "To expand trigonometric functions, that is, apply the sum or double angle identities, use expand_trig()."
   ]
  },
  {
   "cell_type": "code",
   "execution_count": 74,
   "id": "obvious-thousand",
   "metadata": {},
   "outputs": [
    {
     "data": {
      "image/png": "[encoded data removed]",
      "text/latex": [
       "$\\displaystyle \\sin{\\left(x \\right)} \\cos{\\left(y \\right)} + \\sin{\\left(y \\right)} \\cos{\\left(x \\right)}$"
      ],
      "text/plain": [
       "sin(x)⋅cos(y) + sin(y)⋅cos(x)"
      ]
     },
     "execution_count": 74,
     "metadata": {},
     "output_type": "execute_result"
    }
   ],
   "source": [
    "expand_trig(sin(x + y))"
   ]
  },
  {
   "cell_type": "code",
   "execution_count": 75,
   "id": "cheap-secondary",
   "metadata": {},
   "outputs": [
    {
     "data": {
      "image/png": "[encoded data removed]",
      "text/latex": [
       "$\\displaystyle \\frac{2 \\tan{\\left(x \\right)}}{1 - \\tan^{2}{\\left(x \\right)}}$"
      ],
      "text/plain": [
       "  2⋅tan(x) \n",
       "───────────\n",
       "       2   \n",
       "1 - tan (x)"
      ]
     },
     "execution_count": 75,
     "metadata": {},
     "output_type": "execute_result"
    }
   ],
   "source": [
    "expand_trig(tan(2*x))"
   ]
  },
  {
   "cell_type": "code",
   "execution_count": 78,
   "id": "caroline-evidence",
   "metadata": {},
   "outputs": [
    {
     "data": {
      "text/latex": [
       "$1. x^a x^b = x^{a+b}$ \\\n",
       "$2. x^a y^a = (xy)^a$ \\\n",
       "$3. (x^a)^b = x^{ab}$ \n"
      ],
      "text/plain": [
       "<IPython.core.display.Latex object>"
      ]
     },
     "metadata": {},
     "output_type": "display_data"
    }
   ],
   "source": [
    "%%latex\n",
    "$1. x^a x^b = x^{a+b}$ \\\n",
    "$2. x^a y^a = (xy)^a$ \\\n",
    "$3. (x^a)^b = x^{ab}$ "
   ]
  },
  {
   "cell_type": "code",
   "execution_count": 85,
   "id": "prescription-better",
   "metadata": {},
   "outputs": [
    {
     "data": {
      "text/latex": [
       "Identity 1 is always true. \n",
       "Identity 2 is not always true. For example, if x = y = -1 and a = 1/2 then $x^a y^a = \\sqrt{-1} \\sqrt{-1} = i * i = -1$ whereas $(x*y)^a = \\sqrt{-1*-1} = \\sqrt{1} = 1$. However, identity 2 is true at least if x and y are nonnegative and a is real. A common consequence of the failure of identiy 2 is that $\\sqrt{x}\\sqrt{y} \\neq \\sqrt{xy}$. Identity 3 is not always true. However, identity 3 is true when b is an integer\n"
      ],
      "text/plain": [
       "<IPython.core.display.Latex object>"
      ]
     },
     "metadata": {},
     "output_type": "display_data"
    }
   ],
   "source": [
    "%%latex\n",
    "Identity 1 is always true. \n",
    "Identity 2 is not always true. For example, if x = y = -1 and a = 1/2 then $x^a y^a = \\sqrt{-1} \\sqrt{-1} = i * i = -1$ whereas $(x*y)^a = \\sqrt{-1*-1} = \\sqrt{1} = 1$. However, identity 2 is true at least if x and y are nonnegative and a is real. A common consequence of the failure of identiy 2 is that $\\sqrt{x}\\sqrt{y} \\neq \\sqrt{xy}$. Identity 3 is not always true. However, identity 3 is true when b is an integer"
   ]
  },
  {
   "cell_type": "code",
   "execution_count": 86,
   "id": "filled-festival",
   "metadata": {},
   "outputs": [
    {
     "data": {
      "text/latex": [
       "By default, SymPy Symbols are assumed to be complex (elements of C). That is a simplification will not be applied to an expression with a given Symbol unless it holds for all complex numbers. \n"
      ],
      "text/plain": [
       "<IPython.core.display.Latex object>"
      ]
     },
     "metadata": {},
     "output_type": "display_data"
    }
   ],
   "source": [
    "%%latex\n",
    "By default, SymPy Symbols are assumed to be complex (elements of C). That is a simplification will not be applied to an expression with a given Symbol unless it holds for all complex numbers. "
   ]
  },
  {
   "cell_type": "code",
   "execution_count": 87,
   "id": "horizontal-rolling",
   "metadata": {},
   "outputs": [
    {
     "data": {
      "text/latex": [
       "Symbols can be given different assumptions by passing the assumption to symbols(). For the rest of this section, we will be assuming that x and y are possitive, and that a and b are real. We will leave z, t, and c as arbitrary complex Symbols to demonstrate what happens in that case. \n"
      ],
      "text/plain": [
       "<IPython.core.display.Latex object>"
      ]
     },
     "metadata": {},
     "output_type": "display_data"
    }
   ],
   "source": [
    "%%latex \n",
    "Symbols can be given different assumptions by passing the assumption to symbols(). For the rest of this section, we will be assuming that x and y are possitive, and that a and b are real. We will leave z, t, and c as arbitrary complex Symbols to demonstrate what happens in that case. \n"
   ]
  },
  {
   "cell_type": "code",
   "execution_count": 88,
   "id": "amateur-queensland",
   "metadata": {},
   "outputs": [],
   "source": [
    "x, y = symbols('x y', positive=True)\n",
    "a, b = symbols('a b', real=True)\n",
    "z, t, c = symbols('z t c')"
   ]
  },
  {
   "cell_type": "code",
   "execution_count": 89,
   "id": "double-survey",
   "metadata": {},
   "outputs": [
    {
     "data": {
      "text/latex": [
       "In SymPy, sqrt(x) is just a shortcut to x**Rational(1,2). They are exactly the same object.\n"
      ],
      "text/plain": [
       "<IPython.core.display.Latex object>"
      ]
     },
     "metadata": {},
     "output_type": "display_data"
    }
   ],
   "source": [
    "%%latex \n",
    "In SymPy, sqrt(x) is just a shortcut to x**Rational(1,2). They are exactly the same object."
   ]
  },
  {
   "cell_type": "code",
   "execution_count": 90,
   "id": "laden-japan",
   "metadata": {},
   "outputs": [
    {
     "data": {
      "text/plain": [
       "True"
      ]
     },
     "execution_count": 90,
     "metadata": {},
     "output_type": "execute_result"
    }
   ],
   "source": [
    "sqrt(x) == x**Rational(1,2)"
   ]
  },
  {
   "cell_type": "code",
   "execution_count": 91,
   "id": "dimensional-windows",
   "metadata": {},
   "outputs": [
    {
     "data": {
      "text/plain": [
       "True"
      ]
     },
     "execution_count": 91,
     "metadata": {},
     "output_type": "execute_result"
    }
   ],
   "source": [
    "sqrt(x).equals(x**Rational(1,2))"
   ]
  },
  {
   "cell_type": "code",
   "execution_count": 92,
   "id": "noted-pointer",
   "metadata": {},
   "outputs": [],
   "source": [
    "expr = x**2 + 2*x + 1"
   ]
  },
  {
   "cell_type": "code",
   "execution_count": 94,
   "id": "humanitarian-creativity",
   "metadata": {},
   "outputs": [
    {
     "data": {
      "text/plain": [
       "True"
      ]
     },
     "execution_count": 94,
     "metadata": {},
     "output_type": "execute_result"
    }
   ],
   "source": [
    "expr.equals((x+1)**2)"
   ]
  },
  {
   "cell_type": "code",
   "execution_count": 95,
   "id": "charged-diabetes",
   "metadata": {},
   "outputs": [
    {
     "data": {
      "text/latex": [
       "powsimp() applies identities 1 and 2 from above, from left to right\n"
      ],
      "text/plain": [
       "<IPython.core.display.Latex object>"
      ]
     },
     "metadata": {},
     "output_type": "display_data"
    }
   ],
   "source": [
    "%%latex\n",
    "powsimp() applies identities 1 and 2 from above, from left to right"
   ]
  },
  {
   "cell_type": "code",
   "execution_count": 96,
   "id": "moderate-northern",
   "metadata": {},
   "outputs": [
    {
     "data": {
      "image/png": "[encoded data removed]",
      "text/latex": [
       "$\\displaystyle x^{a + b}$"
      ],
      "text/plain": [
       " a + b\n",
       "x     "
      ]
     },
     "execution_count": 96,
     "metadata": {},
     "output_type": "execute_result"
    }
   ],
   "source": [
    "powsimp(x**a*x**b)"
   ]
  },
  {
   "cell_type": "code",
   "execution_count": 97,
   "id": "liberal-remark",
   "metadata": {},
   "outputs": [
    {
     "data": {
      "image/png": "[encoded data removed]",
      "text/latex": [
       "$\\displaystyle \\left(x y\\right)^{a}$"
      ],
      "text/plain": [
       "     a\n",
       "(x⋅y) "
      ]
     },
     "execution_count": 97,
     "metadata": {},
     "output_type": "execute_result"
    }
   ],
   "source": [
    "powsimp(x**a*y**a)"
   ]
  },
  {
   "cell_type": "code",
   "execution_count": 102,
   "id": "geological-abuse",
   "metadata": {},
   "outputs": [
    {
     "data": {
      "text/latex": [
       "Notice that powsimp() refuses to do simplification if it is not valid. C is complex and t , z are complex so can't use the second identity\n"
      ],
      "text/plain": [
       "<IPython.core.display.Latex object>"
      ]
     },
     "metadata": {},
     "output_type": "display_data"
    }
   ],
   "source": [
    "%%latex \n",
    "Notice that powsimp() refuses to do simplification if it is not valid. C is complex and t , z are complex so can't use the second identity"
   ]
  },
  {
   "cell_type": "code",
   "execution_count": 103,
   "id": "dietary-needle",
   "metadata": {},
   "outputs": [
    {
     "data": {
      "image/png": "[encoded data removed]",
      "text/latex": [
       "$\\displaystyle t^{c} z^{c}$"
      ],
      "text/plain": [
       " c  c\n",
       "t ⋅z "
      ]
     },
     "execution_count": 103,
     "metadata": {},
     "output_type": "execute_result"
    }
   ],
   "source": [
    "powsimp(t**c*z**c)"
   ]
  },
  {
   "cell_type": "code",
   "execution_count": 104,
   "id": "unexpected-cause",
   "metadata": {},
   "outputs": [
    {
     "data": {
      "text/latex": [
       "If you know that you want to apply this simplification, but you don't want to mess with assumptions, you can pass the force=True flag. This will force the simplification to take place, regardless of assumptions.\n"
      ],
      "text/plain": [
       "<IPython.core.display.Latex object>"
      ]
     },
     "metadata": {},
     "output_type": "display_data"
    }
   ],
   "source": [
    "%%latex\n",
    "If you know that you want to apply this simplification, but you don't want to mess with assumptions, you can pass the force=True flag. This will force the simplification to take place, regardless of assumptions."
   ]
  },
  {
   "cell_type": "code",
   "execution_count": 105,
   "id": "internal-background",
   "metadata": {},
   "outputs": [
    {
     "data": {
      "image/png": "[encoded data removed]",
      "text/latex": [
       "$\\displaystyle \\left(t z\\right)^{c}$"
      ],
      "text/plain": [
       "     c\n",
       "(t⋅z) "
      ]
     },
     "execution_count": 105,
     "metadata": {},
     "output_type": "execute_result"
    }
   ],
   "source": [
    "powsimp(t**c*z**c, force=True)"
   ]
  },
  {
   "cell_type": "code",
   "execution_count": 106,
   "id": "progressive-thomson",
   "metadata": {},
   "outputs": [
    {
     "data": {
      "image/png": "[encoded data removed]",
      "text/latex": [
       "$\\displaystyle t^{2} z^{2}$"
      ],
      "text/plain": [
       " 2  2\n",
       "t ⋅z "
      ]
     },
     "execution_count": 106,
     "metadata": {},
     "output_type": "execute_result"
    }
   ],
   "source": [
    "(z*t)**2"
   ]
  },
  {
   "cell_type": "code",
   "execution_count": 107,
   "id": "voluntary-chart",
   "metadata": {},
   "outputs": [
    {
     "data": {
      "image/png": "[encoded data removed]",
      "text/latex": [
       "$\\displaystyle \\sqrt{x} \\sqrt{y}$"
      ],
      "text/plain": [
       "√x⋅√y"
      ]
     },
     "execution_count": 107,
     "metadata": {},
     "output_type": "execute_result"
    }
   ],
   "source": [
    "sqrt(x*y)"
   ]
  },
  {
   "cell_type": "code",
   "execution_count": 108,
   "id": "western-header",
   "metadata": {},
   "outputs": [
    {
     "data": {
      "text/latex": [
       "expand_power_exp() and expand_power_base() apply identities 1 and 2 from right to left, respectively.\n"
      ],
      "text/plain": [
       "<IPython.core.display.Latex object>"
      ]
     },
     "metadata": {},
     "output_type": "display_data"
    }
   ],
   "source": [
    "%%latex \n",
    "expand_power_exp() and expand_power_base() apply identities 1 and 2 from right to left, respectively."
   ]
  },
  {
   "cell_type": "code",
   "execution_count": 109,
   "id": "exact-devil",
   "metadata": {},
   "outputs": [
    {
     "data": {
      "image/png": "[encoded data removed]",
      "text/latex": [
       "$\\displaystyle x^{a} x^{b}$"
      ],
      "text/plain": [
       " a  b\n",
       "x ⋅x "
      ]
     },
     "execution_count": 109,
     "metadata": {},
     "output_type": "execute_result"
    }
   ],
   "source": [
    "expand_power_exp(x**(a+b))"
   ]
  },
  {
   "cell_type": "code",
   "execution_count": 110,
   "id": "cognitive-cambridge",
   "metadata": {},
   "outputs": [
    {
     "data": {
      "image/png": "[encoded data removed]",
      "text/latex": [
       "$\\displaystyle x^{a} y^{a}$"
      ],
      "text/plain": [
       " a  a\n",
       "x ⋅y "
      ]
     },
     "execution_count": 110,
     "metadata": {},
     "output_type": "execute_result"
    }
   ],
   "source": [
    "expand_power_base((x*y)**a)"
   ]
  },
  {
   "cell_type": "code",
   "execution_count": 111,
   "id": "discrete-infrastructure",
   "metadata": {},
   "outputs": [
    {
     "data": {
      "image/png": "[encoded data removed]",
      "text/latex": [
       "$\\displaystyle x^{5}$"
      ],
      "text/plain": [
       " 5\n",
       "x "
      ]
     },
     "execution_count": 111,
     "metadata": {},
     "output_type": "execute_result"
    }
   ],
   "source": [
    "x**2*x**3"
   ]
  },
  {
   "cell_type": "code",
   "execution_count": 112,
   "id": "operating-public",
   "metadata": {},
   "outputs": [
    {
     "data": {
      "text/latex": [
       "powdenest applies identity 3, from the left to right\n"
      ],
      "text/plain": [
       "<IPython.core.display.Latex object>"
      ]
     },
     "metadata": {},
     "output_type": "display_data"
    }
   ],
   "source": [
    "%%latex\n",
    "powdenest applies identity 3, from the left to right"
   ]
  },
  {
   "cell_type": "code",
   "execution_count": 113,
   "id": "mature-alignment",
   "metadata": {},
   "outputs": [
    {
     "data": {
      "image/png": "[encoded data removed]",
      "text/latex": [
       "$\\displaystyle x^{a b}$"
      ],
      "text/plain": [
       " a⋅b\n",
       "x   "
      ]
     },
     "execution_count": 113,
     "metadata": {},
     "output_type": "execute_result"
    }
   ],
   "source": [
    "powdenest((x**a)**b)"
   ]
  },
  {
   "cell_type": "code",
   "execution_count": 114,
   "id": "practical-andrew",
   "metadata": {},
   "outputs": [
    {
     "data": {
      "text/latex": [
       "As before, the identity is not applied if it is not true under the given assumptions.\n"
      ],
      "text/plain": [
       "<IPython.core.display.Latex object>"
      ]
     },
     "metadata": {},
     "output_type": "display_data"
    }
   ],
   "source": [
    "%%latex\n",
    "As before, the identity is not applied if it is not true under the given assumptions."
   ]
  },
  {
   "cell_type": "code",
   "execution_count": 115,
   "id": "micro-feeding",
   "metadata": {},
   "outputs": [
    {
     "data": {
      "image/png": "[encoded data removed]",
      "text/latex": [
       "$\\displaystyle x^{a b}$"
      ],
      "text/plain": [
       " a⋅b\n",
       "x   "
      ]
     },
     "execution_count": 115,
     "metadata": {},
     "output_type": "execute_result"
    }
   ],
   "source": [
    "powdenest((x**a)**b)"
   ]
  },
  {
   "cell_type": "code",
   "execution_count": 116,
   "id": "incomplete-davis",
   "metadata": {},
   "outputs": [
    {
     "data": {
      "text/latex": [
       "As before, the identity is not applied if it is not true under the given assymptions.\n"
      ],
      "text/plain": [
       "<IPython.core.display.Latex object>"
      ]
     },
     "metadata": {},
     "output_type": "display_data"
    }
   ],
   "source": [
    "%%latex\n",
    "As before, the identity is not applied if it is not true under the given assymptions."
   ]
  },
  {
   "cell_type": "code",
   "execution_count": 117,
   "id": "vulnerable-vietnamese",
   "metadata": {},
   "outputs": [
    {
     "data": {
      "image/png": "[encoded data removed]",
      "text/latex": [
       "$\\displaystyle \\left(z^{a}\\right)^{b}$"
      ],
      "text/plain": [
       "    b\n",
       "⎛ a⎞ \n",
       "⎝z ⎠ "
      ]
     },
     "execution_count": 117,
     "metadata": {},
     "output_type": "execute_result"
    }
   ],
   "source": [
    "powdenest((z**a)**b)"
   ]
  },
  {
   "cell_type": "code",
   "execution_count": 118,
   "id": "boolean-telescope",
   "metadata": {},
   "outputs": [
    {
     "data": {
      "text/latex": [
       "Exponentials and logarithms\n"
      ],
      "text/plain": [
       "<IPython.core.display.Latex object>"
      ]
     },
     "metadata": {},
     "output_type": "display_data"
    }
   ],
   "source": [
    "%%latex\n",
    "Exponentials and logarithms"
   ]
  },
  {
   "cell_type": "code",
   "execution_count": 119,
   "id": "likely-insured",
   "metadata": {},
   "outputs": [
    {
     "data": {
      "text/latex": [
       "In Sympy, as in Python and most programming languages, log is the natural logarithm, also known as ln. SymPy automatically provides an alias ln = log in case you forget this.\n"
      ],
      "text/plain": [
       "<IPython.core.display.Latex object>"
      ]
     },
     "metadata": {},
     "output_type": "display_data"
    }
   ],
   "source": [
    "%%latex\n",
    "In Sympy, as in Python and most programming languages, log is the natural logarithm, also known as ln. SymPy automatically provides an alias ln = log in case you forget this.\n"
   ]
  },
  {
   "cell_type": "code",
   "execution_count": 120,
   "id": "wanted-drawing",
   "metadata": {},
   "outputs": [
    {
     "data": {
      "image/png": "[encoded data removed]",
      "text/latex": [
       "$\\displaystyle \\log{\\left(x \\right)}$"
      ],
      "text/plain": [
       "log(x)"
      ]
     },
     "execution_count": 120,
     "metadata": {},
     "output_type": "execute_result"
    }
   ],
   "source": [
    "ln(x)"
   ]
  },
  {
   "cell_type": "code",
   "execution_count": 122,
   "id": "proved-cincinnati",
   "metadata": {},
   "outputs": [
    {
     "data": {
      "text/latex": [
       "log(x*y) = log(x) + log(y); log(x^n) = n*log(x)\n"
      ],
      "text/plain": [
       "<IPython.core.display.Latex object>"
      ]
     },
     "metadata": {},
     "output_type": "display_data"
    }
   ],
   "source": [
    "%%latex\n",
    "log(x*y) = log(x) + log(y); log(x^n) = n*log(x)"
   ]
  },
  {
   "cell_type": "code",
   "execution_count": 123,
   "id": "increased-poker",
   "metadata": {},
   "outputs": [
    {
     "data": {
      "text/latex": [
       "Neither identity is true for arbitrary complex x and y, due to the branch cut in the plane for the complex logarithm. However, sufficient conditions for the identities to hold are if x and y are positive and n is real.\n"
      ],
      "text/plain": [
       "<IPython.core.display.Latex object>"
      ]
     },
     "metadata": {},
     "output_type": "display_data"
    }
   ],
   "source": [
    "%%latex\n",
    "Neither identity is true for arbitrary complex x and y, due to the branch cut in the plane for the complex logarithm. However, sufficient conditions for the identities to hold are if x and y are positive and n is real."
   ]
  },
  {
   "cell_type": "code",
   "execution_count": 124,
   "id": "jewish-consumption",
   "metadata": {},
   "outputs": [],
   "source": [
    "x, y = symbols('x y', positive=True)"
   ]
  },
  {
   "cell_type": "code",
   "execution_count": 126,
   "id": "hazardous-walker",
   "metadata": {},
   "outputs": [],
   "source": [
    "n = symbols('n', real=True)"
   ]
  },
  {
   "cell_type": "code",
   "execution_count": 127,
   "id": "prime-fossil",
   "metadata": {},
   "outputs": [
    {
     "data": {
      "image/png": "[encoded data removed]",
      "text/latex": [
       "$\\displaystyle \\log{\\left(x \\right)} + \\log{\\left(y \\right)}$"
      ],
      "text/plain": [
       "log(x) + log(y)"
      ]
     },
     "execution_count": 127,
     "metadata": {},
     "output_type": "execute_result"
    }
   ],
   "source": [
    "expand_log(log(x*y))"
   ]
  },
  {
   "cell_type": "code",
   "execution_count": 128,
   "id": "given-maria",
   "metadata": {},
   "outputs": [
    {
     "data": {
      "image/png": "[encoded data removed]",
      "text/latex": [
       "$\\displaystyle \\log{\\left(x \\right)} - \\log{\\left(y \\right)}$"
      ],
      "text/plain": [
       "log(x) - log(y)"
      ]
     },
     "execution_count": 128,
     "metadata": {},
     "output_type": "execute_result"
    }
   ],
   "source": [
    "expand_log(log(x/y))"
   ]
  },
  {
   "cell_type": "code",
   "execution_count": 129,
   "id": "affiliated-simon",
   "metadata": {},
   "outputs": [
    {
     "data": {
      "image/png": "[encoded data removed]",
      "text/latex": [
       "$\\displaystyle 2 \\log{\\left(x \\right)}$"
      ],
      "text/plain": [
       "2⋅log(x)"
      ]
     },
     "execution_count": 129,
     "metadata": {},
     "output_type": "execute_result"
    }
   ],
   "source": [
    "expand_log(log(x**2))"
   ]
  },
  {
   "cell_type": "code",
   "execution_count": 130,
   "id": "aware-diameter",
   "metadata": {},
   "outputs": [
    {
     "data": {
      "image/png": "[encoded data removed]",
      "text/latex": [
       "$\\displaystyle n \\log{\\left(x \\right)}$"
      ],
      "text/plain": [
       "n⋅log(x)"
      ]
     },
     "execution_count": 130,
     "metadata": {},
     "output_type": "execute_result"
    }
   ],
   "source": [
    "expand_log(log(x**n))"
   ]
  },
  {
   "cell_type": "code",
   "execution_count": 131,
   "id": "indian-harvest",
   "metadata": {},
   "outputs": [
    {
     "data": {
      "image/png": "[encoded data removed]",
      "text/latex": [
       "$\\displaystyle \\log{\\left(t z \\right)}$"
      ],
      "text/plain": [
       "log(t⋅z)"
      ]
     },
     "execution_count": 131,
     "metadata": {},
     "output_type": "execute_result"
    }
   ],
   "source": [
    "expand_log(log(z*t))"
   ]
  },
  {
   "cell_type": "code",
   "execution_count": 132,
   "id": "alpine-paper",
   "metadata": {},
   "outputs": [
    {
     "data": {
      "text/latex": [
       "logcombine to apply identities 1 and 2 from right to left.\n"
      ],
      "text/plain": [
       "<IPython.core.display.Latex object>"
      ]
     },
     "metadata": {},
     "output_type": "display_data"
    }
   ],
   "source": [
    "%%latex\n",
    "logcombine to apply identities 1 and 2 from right to left."
   ]
  },
  {
   "cell_type": "code",
   "execution_count": 133,
   "id": "competent-drama",
   "metadata": {},
   "outputs": [
    {
     "data": {
      "image/png": "[encoded data removed]",
      "text/latex": [
       "$\\displaystyle \\log{\\left(x y \\right)}$"
      ],
      "text/plain": [
       "log(x⋅y)"
      ]
     },
     "execution_count": 133,
     "metadata": {},
     "output_type": "execute_result"
    }
   ],
   "source": [
    "logcombine(log(x) + log(y))"
   ]
  },
  {
   "cell_type": "code",
   "execution_count": 134,
   "id": "copyrighted-charity",
   "metadata": {},
   "outputs": [
    {
     "data": {
      "image/png": "[encoded data removed]",
      "text/latex": [
       "$\\displaystyle \\log{\\left(x^{n} \\right)}$"
      ],
      "text/plain": [
       "   ⎛ n⎞\n",
       "log⎝x ⎠"
      ]
     },
     "execution_count": 134,
     "metadata": {},
     "output_type": "execute_result"
    }
   ],
   "source": [
    "logcombine(n*log(x))"
   ]
  },
  {
   "cell_type": "code",
   "execution_count": 135,
   "id": "attractive-vulnerability",
   "metadata": {},
   "outputs": [
    {
     "data": {
      "image/png": "[encoded data removed]",
      "text/latex": [
       "$\\displaystyle n \\log{\\left(z \\right)}$"
      ],
      "text/plain": [
       "n⋅log(z)"
      ]
     },
     "execution_count": 135,
     "metadata": {},
     "output_type": "execute_result"
    }
   ],
   "source": [
    "logcombine(n*log(z))"
   ]
  },
  {
   "cell_type": "code",
   "execution_count": null,
   "id": "hungry-grove",
   "metadata": {},
   "outputs": [],
   "source": []
  }
 ],
 "metadata": {
  "kernelspec": {
   "display_name": "Python 3",
   "language": "python",
   "name": "python3"
  },
  "language_info": {
   "codemirror_mode": {
    "name": "ipython",
    "version": 3
   },
   "file_extension": ".py",
   "mimetype": "text/x-python",
   "name": "python",
   "nbconvert_exporter": "python",
   "pygments_lexer": "ipython3",
   "version": "3.9.2"
  }
 },
 "nbformat": 4,
 "nbformat_minor": 5
}
