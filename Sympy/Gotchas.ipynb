{
 "cells": [
  {
   "cell_type": "code",
   "execution_count": 1,
   "id": "apparent-million",
   "metadata": {},
   "outputs": [
    {
     "data": {
      "text/latex": [
       "To begin, we should make something about SymPy clear. SymPy is nothing more than a Python library, like NumPy, Django, or even modules in the Python standard library sys or re. What this means is that SymPy does not add anything to the Python language. Limitations that are inherent in the Python language are also inherent in SymPy. It also means that SymPy tries to use Python idioms whenever possible, making programming with SymPy easy for those already familiar with programming with Python. As a simple example, SymPy uses Python syntax to build expressions. Implicit multiplication (like 3x or 3 x) is not allowed in Python, and thus not allowed in SymPy. To multiply 3 and x, you must type 3*x with *. \n"
      ],
      "text/plain": [
       "<IPython.core.display.Latex object>"
      ]
     },
     "metadata": {},
     "output_type": "display_data"
    }
   ],
   "source": [
    "%%latex\n",
    "To begin, we should make something about SymPy clear. SymPy is nothing more than a Python library, like NumPy, Django, or even modules in the Python standard library sys or re. What this means is that SymPy does not add anything to the Python language. Limitations that are inherent in the Python language are also inherent in SymPy. It also means that SymPy tries to use Python idioms whenever possible, making programming with SymPy easy for those already familiar with programming with Python. As a simple example, SymPy uses Python syntax to build expressions. Implicit multiplication (like 3x or 3 x) is not allowed in Python, and thus not allowed in SymPy. To multiply 3 and x, you must type 3*x with *. "
   ]
  },
  {
   "cell_type": "code",
   "execution_count": 4,
   "id": "together-proxy",
   "metadata": {},
   "outputs": [
    {
     "data": {
      "text/latex": [
       "Symbols.\n",
       "One consequence of this fact is that SymPy can be used in any environment where Python is available. We just import it, like we would any other library.\n"
      ],
      "text/plain": [
       "<IPython.core.display.Latex object>"
      ]
     },
     "metadata": {},
     "output_type": "display_data"
    }
   ],
   "source": [
    "%%latex\n",
    "Symbols.\n",
    "One consequence of this fact is that SymPy can be used in any environment where Python is available. We just import it, like we would any other library."
   ]
  },
  {
   "cell_type": "code",
   "execution_count": 6,
   "id": "seven-tampa",
   "metadata": {},
   "outputs": [
    {
     "ename": "NameError",
     "evalue": "name 'x' is not defined",
     "output_type": "error",
     "traceback": [
      "\u001b[0;31m---------------------------------------------------------------------------\u001b[0m",
      "\u001b[0;31mNameError\u001b[0m                                 Traceback (most recent call last)",
      "\u001b[0;32m<ipython-input-6-c922bb2aa319>\u001b[0m in \u001b[0;36m<module>\u001b[0;34m\u001b[0m\n\u001b[1;32m      1\u001b[0m \u001b[0;32mfrom\u001b[0m \u001b[0msympy\u001b[0m \u001b[0;32mimport\u001b[0m \u001b[0;34m*\u001b[0m\u001b[0;34m\u001b[0m\u001b[0;34m\u001b[0m\u001b[0m\n\u001b[0;32m----> 2\u001b[0;31m \u001b[0mx\u001b[0m \u001b[0;34m+\u001b[0m \u001b[0;36m1\u001b[0m\u001b[0;34m\u001b[0m\u001b[0;34m\u001b[0m\u001b[0m\n\u001b[0m",
      "\u001b[0;31mNameError\u001b[0m: name 'x' is not defined"
     ]
    }
   ],
   "source": [
    "from sympy import * \n",
    "x + 1"
   ]
  },
  {
   "cell_type": "code",
   "execution_count": 8,
   "id": "noble-harmony",
   "metadata": {},
   "outputs": [
    {
     "data": {
      "text/latex": [
       "Oops! What happend here? We tried to use the variable x, but it tells us that x is not defined. In Python, variables have no meaning until they are defined. SymPy is no different. Unlike many symbolic manipulation systems you may have used, in SymPy, variables are not defined automatically. To define variables, we must use symbols. \n"
      ],
      "text/plain": [
       "<IPython.core.display.Latex object>"
      ]
     },
     "metadata": {},
     "output_type": "display_data"
    }
   ],
   "source": [
    "%%latex\n",
    "Oops! What happend here? We tried to use the variable x, but it tells us that x is not defined. In Python, variables have no meaning until they are defined. SymPy is no different. Unlike many symbolic manipulation systems you may have used, in SymPy, variables are not defined automatically. To define variables, we must use symbols. "
   ]
  },
  {
   "cell_type": "code",
   "execution_count": 9,
   "id": "pressing-charlotte",
   "metadata": {},
   "outputs": [],
   "source": [
    "x = symbols('x')"
   ]
  },
  {
   "cell_type": "code",
   "execution_count": 10,
   "id": "listed-settle",
   "metadata": {},
   "outputs": [
    {
     "data": {
      "text/latex": [
       "$\\displaystyle x + 1$"
      ],
      "text/plain": [
       "x + 1"
      ]
     },
     "execution_count": 10,
     "metadata": {},
     "output_type": "execute_result"
    }
   ],
   "source": [
    "x + 1"
   ]
  },
  {
   "cell_type": "code",
   "execution_count": 11,
   "id": "romantic-graduation",
   "metadata": {},
   "outputs": [
    {
     "data": {
      "text/latex": [
       "symbols takes a string of variable names separated by spaces or commas, and creates Symbols out of them. We can then assign these to variable names. Later, we will investigate some convenient ways we can work around this issue. For now, let us just define the most common variable names, x, y, and z, for use through the rest of this section.\n"
      ],
      "text/plain": [
       "<IPython.core.display.Latex object>"
      ]
     },
     "metadata": {},
     "output_type": "display_data"
    }
   ],
   "source": [
    "%%latex\n",
    "symbols takes a string of variable names separated by spaces or commas, and creates Symbols out of them. We can then assign these to variable names. Later, we will investigate some convenient ways we can work around this issue. For now, let us just define the most common variable names, x, y, and z, for use through the rest of this section."
   ]
  },
  {
   "cell_type": "code",
   "execution_count": 12,
   "id": "medieval-patrol",
   "metadata": {},
   "outputs": [],
   "source": [
    "x, y, z = symbols('x y z')"
   ]
  },
  {
   "cell_type": "code",
   "execution_count": 13,
   "id": "dietary-requirement",
   "metadata": {},
   "outputs": [
    {
     "data": {
      "text/latex": [
       "As a final note, we note that the name of a Symbol and the name of the variable it is assigned to need not have anything to do with one another.\n"
      ],
      "text/plain": [
       "<IPython.core.display.Latex object>"
      ]
     },
     "metadata": {},
     "output_type": "display_data"
    }
   ],
   "source": [
    "%%latex \n",
    "As a final note, we note that the name of a Symbol and the name of the variable it is assigned to need not have anything to do with one another.\n"
   ]
  },
  {
   "cell_type": "code",
   "execution_count": 14,
   "id": "handled-sweden",
   "metadata": {},
   "outputs": [],
   "source": [
    "a, b = symbols('b a')"
   ]
  },
  {
   "cell_type": "code",
   "execution_count": 15,
   "id": "artificial-blanket",
   "metadata": {},
   "outputs": [
    {
     "data": {
      "text/latex": [
       "$\\displaystyle b$"
      ],
      "text/plain": [
       "b"
      ]
     },
     "execution_count": 15,
     "metadata": {},
     "output_type": "execute_result"
    }
   ],
   "source": [
    "a"
   ]
  },
  {
   "cell_type": "code",
   "execution_count": 16,
   "id": "banned-failing",
   "metadata": {},
   "outputs": [
    {
     "data": {
      "text/latex": [
       "$\\displaystyle a$"
      ],
      "text/plain": [
       "a"
      ]
     },
     "execution_count": 16,
     "metadata": {},
     "output_type": "execute_result"
    }
   ],
   "source": [
    "b"
   ]
  },
  {
   "cell_type": "code",
   "execution_count": 17,
   "id": "configured-round",
   "metadata": {},
   "outputs": [
    {
     "data": {
      "text/latex": [
       "Here we have done the very confusing thing of assigning a symbol with the name a to the variable b, and a symbol of the name b to the variable a. Now the python variable named a points to the SymPy Symbol named b, and vice versa. How confusing. We could have also something like \n"
      ],
      "text/plain": [
       "<IPython.core.display.Latex object>"
      ]
     },
     "metadata": {},
     "output_type": "display_data"
    }
   ],
   "source": [
    "%%latex\n",
    "Here we have done the very confusing thing of assigning a symbol with the name a to the variable b, and a symbol of the name b to the variable a. Now the python variable named a points to the SymPy Symbol named b, and vice versa. How confusing. We could have also something like "
   ]
  },
  {
   "cell_type": "code",
   "execution_count": 18,
   "id": "advanced-league",
   "metadata": {},
   "outputs": [],
   "source": [
    "crazy = symbols('unrelated')"
   ]
  },
  {
   "cell_type": "code",
   "execution_count": 19,
   "id": "increasing-drunk",
   "metadata": {},
   "outputs": [
    {
     "data": {
      "text/latex": [
       "$\\displaystyle unrelated + 1$"
      ],
      "text/plain": [
       "unrelated + 1"
      ]
     },
     "execution_count": 19,
     "metadata": {},
     "output_type": "execute_result"
    }
   ],
   "source": [
    "crazy + 1"
   ]
  },
  {
   "cell_type": "code",
   "execution_count": 20,
   "id": "neutral-nevada",
   "metadata": {},
   "outputs": [
    {
     "data": {
      "text/latex": [
       "This also shows that Symbols can have names longer than one character if we want\n"
      ],
      "text/plain": [
       "<IPython.core.display.Latex object>"
      ]
     },
     "metadata": {},
     "output_type": "display_data"
    }
   ],
   "source": [
    "%%latex\n",
    "This also shows that Symbols can have names longer than one character if we want"
   ]
  },
  {
   "cell_type": "code",
   "execution_count": 21,
   "id": "amateur-triangle",
   "metadata": {},
   "outputs": [
    {
     "data": {
      "text/latex": [
       "Usually, the best pratice is to assign Symbols to Python variables of the same name, although there are exceptions: Symbol names can contain characters that are not allowed in Python variable names, or may just want to avoid typing long names by assigning Symbols with long names to single letter Python variables.\n"
      ],
      "text/plain": [
       "<IPython.core.display.Latex object>"
      ]
     },
     "metadata": {},
     "output_type": "display_data"
    }
   ],
   "source": [
    "%%latex\n",
    "Usually, the best pratice is to assign Symbols to Python variables of the same name, although there are exceptions: Symbol names can contain characters that are not allowed in Python variable names, or may just want to avoid typing long names by assigning Symbols with long names to single letter Python variables."
   ]
  },
  {
   "cell_type": "code",
   "execution_count": 22,
   "id": "timely-checklist",
   "metadata": {},
   "outputs": [
    {
     "data": {
      "text/latex": [
       "To avoid confusion, throughout this tutorial, Symbol names and Python variable names will always coincide. Furthermore, the word \"Symbol\" will refer to a SymPy Symbol and the word \"variable\" will refer to a Python variable. Finally, let us be sure we understand the difference between SymPy Symbols and Python variables. Consider the following. \n"
      ],
      "text/plain": [
       "<IPython.core.display.Latex object>"
      ]
     },
     "metadata": {},
     "output_type": "display_data"
    }
   ],
   "source": [
    "%%latex\n",
    "To avoid confusion, throughout this tutorial, Symbol names and Python variable names will always coincide. Furthermore, the word \"Symbol\" will refer to a SymPy Symbol and the word \"variable\" will refer to a Python variable. Finally, let us be sure we understand the difference between SymPy Symbols and Python variables. Consider the following. \n"
   ]
  },
  {
   "cell_type": "code",
   "execution_count": 23,
   "id": "cardiac-irrigation",
   "metadata": {},
   "outputs": [
    {
     "name": "stdout",
     "output_type": "stream",
     "text": [
      "x + 1\n"
     ]
    }
   ],
   "source": [
    "x = symbols('x')\n",
    "expr = x + 1\n",
    "x = 2\n",
    "print(expr)\n"
   ]
  },
  {
   "cell_type": "code",
   "execution_count": 24,
   "id": "fresh-curtis",
   "metadata": {},
   "outputs": [],
   "source": [
    "expr1 = x + 1"
   ]
  },
  {
   "cell_type": "code",
   "execution_count": 25,
   "id": "composite-following",
   "metadata": {},
   "outputs": [
    {
     "name": "stdout",
     "output_type": "stream",
     "text": [
      "3\n"
     ]
    }
   ],
   "source": [
    "print(expr1)"
   ]
  },
  {
   "cell_type": "code",
   "execution_count": 26,
   "id": "south-ceramic",
   "metadata": {},
   "outputs": [
    {
     "data": {
      "text/latex": [
       "Changing x to 2 had no effect on expr. This is because x = 2 changes the Python variable x to 2, but has no effect on the SymPy Symbol x, which was what we used in creating expr. When we created expr, the Python variable x was a Symbol. After we created it, we changed the Python variable x to 2. But expr remains the same. This behavior is not unique to SymPy. All Python programs work this way: if a variable is changed, expressions that were already created with that variable do not change automatically. For example:\n",
       "        \n"
      ],
      "text/plain": [
       "<IPython.core.display.Latex object>"
      ]
     },
     "metadata": {},
     "output_type": "display_data"
    }
   ],
   "source": [
    "%%latex\n",
    "Changing x to 2 had no effect on expr. This is because x = 2 changes the Python variable x to 2, but has no effect on the SymPy Symbol x, which was what we used in creating expr. When we created expr, the Python variable x was a Symbol. After we created it, we changed the Python variable x to 2. But expr remains the same. This behavior is not unique to SymPy. All Python programs work this way: if a variable is changed, expressions that were already created with that variable do not change automatically. For example:\n",
    "        "
   ]
  },
  {
   "cell_type": "code",
   "execution_count": 27,
   "id": "turkish-injection",
   "metadata": {},
   "outputs": [],
   "source": [
    "x = 'abc'\n",
    "expr = x + 'def'"
   ]
  },
  {
   "cell_type": "code",
   "execution_count": 28,
   "id": "impressed-investigator",
   "metadata": {},
   "outputs": [
    {
     "data": {
      "text/plain": [
       "'abcdef'"
      ]
     },
     "execution_count": 28,
     "metadata": {},
     "output_type": "execute_result"
    }
   ],
   "source": [
    "expr"
   ]
  },
  {
   "cell_type": "code",
   "execution_count": 29,
   "id": "visible-split",
   "metadata": {},
   "outputs": [],
   "source": [
    "x = 'ABC'"
   ]
  },
  {
   "cell_type": "code",
   "execution_count": 30,
   "id": "broad-kelly",
   "metadata": {},
   "outputs": [
    {
     "data": {
      "text/plain": [
       "'abcdef'"
      ]
     },
     "execution_count": 30,
     "metadata": {},
     "output_type": "execute_result"
    }
   ],
   "source": [
    "expr"
   ]
  },
  {
   "cell_type": "code",
   "execution_count": 31,
   "id": "proprietary-strategy",
   "metadata": {},
   "outputs": [
    {
     "data": {
      "text/latex": [
       "To change the value of a Symbol in an expression, use subs\n"
      ],
      "text/plain": [
       "<IPython.core.display.Latex object>"
      ]
     },
     "metadata": {},
     "output_type": "display_data"
    }
   ],
   "source": [
    "%%latex\n",
    "To change the value of a Symbol in an expression, use subs"
   ]
  },
  {
   "cell_type": "code",
   "execution_count": 33,
   "id": "caroline-collapse",
   "metadata": {},
   "outputs": [
    {
     "data": {
      "text/latex": [
       "$\\displaystyle 3$"
      ],
      "text/plain": [
       "3"
      ]
     },
     "execution_count": 33,
     "metadata": {},
     "output_type": "execute_result"
    }
   ],
   "source": [
    "x = symbols('x')\n",
    "expr = x + 1\n",
    "expr.subs(x, 2)"
   ]
  },
  {
   "cell_type": "code",
   "execution_count": 34,
   "id": "extensive-bernard",
   "metadata": {},
   "outputs": [
    {
     "data": {
      "text/latex": [
       "Equals signs\n"
      ],
      "text/plain": [
       "<IPython.core.display.Latex object>"
      ]
     },
     "metadata": {},
     "output_type": "display_data"
    }
   ],
   "source": [
    "%%latex\n",
    "Equals signs"
   ]
  },
  {
   "cell_type": "code",
   "execution_count": 35,
   "id": "changing-lancaster",
   "metadata": {},
   "outputs": [
    {
     "data": {
      "text/latex": [
       "Another very important consequence of the fact that SymPy does not extend Python syntax is that = doesnt represent equality in SymPy. Rather it is Python variable assignment. This is hard-coded into the Python language, and SymPy makes no attemps to change that.\n"
      ],
      "text/plain": [
       "<IPython.core.display.Latex object>"
      ]
     },
     "metadata": {},
     "output_type": "display_data"
    }
   ],
   "source": [
    "%%latex\n",
    "Another very important consequence of the fact that SymPy does not extend Python syntax is that = doesnt represent equality in SymPy. Rather it is Python variable assignment. This is hard-coded into the Python language, and SymPy makes no attemps to change that.\n"
   ]
  },
  {
   "cell_type": "code",
   "execution_count": 36,
   "id": "cathedral-initial",
   "metadata": {},
   "outputs": [
    {
     "data": {
      "text/latex": [
       "You may think, however, that ==, which is used for equality testing in Python, is used for SymPy as equality. This is not quite correct either. Let us see what happens when we use == \n"
      ],
      "text/plain": [
       "<IPython.core.display.Latex object>"
      ]
     },
     "metadata": {},
     "output_type": "display_data"
    }
   ],
   "source": [
    "%%latex\n",
    "You may think, however, that ==, which is used for equality testing in Python, is used for SymPy as equality. This is not quite correct either. Let us see what happens when we use == "
   ]
  },
  {
   "cell_type": "code",
   "execution_count": 37,
   "id": "satisfied-association",
   "metadata": {},
   "outputs": [
    {
     "data": {
      "text/plain": [
       "False"
      ]
     },
     "execution_count": 37,
     "metadata": {},
     "output_type": "execute_result"
    }
   ],
   "source": [
    "x + 1 == 4"
   ]
  },
  {
   "cell_type": "code",
   "execution_count": 38,
   "id": "lesbian-option",
   "metadata": {},
   "outputs": [
    {
     "data": {
      "text/latex": [
       "Instead of treating x + 1 == 4 symbolically, we just got False. In SymPy, == represents exact structural equality testing. This means that a== b means that we are asking if a = b. We always get boll as the result of ==. There is a separate object, called Eq, which can be used to create symbolic equalities\n"
      ],
      "text/plain": [
       "<IPython.core.display.Latex object>"
      ]
     },
     "metadata": {},
     "output_type": "display_data"
    }
   ],
   "source": [
    "%%latex\n",
    "Instead of treating x + 1 == 4 symbolically, we just got False. In SymPy, == represents exact structural equality testing. This means that a== b means that we are asking if a = b. We always get boll as the result of ==. There is a separate object, called Eq, which can be used to create symbolic equalities"
   ]
  },
  {
   "cell_type": "code",
   "execution_count": 39,
   "id": "hungry-husband",
   "metadata": {},
   "outputs": [
    {
     "data": {
      "text/latex": [
       "$\\displaystyle x + 1 = 4$"
      ],
      "text/plain": [
       "Eq(x + 1, 4)"
      ]
     },
     "execution_count": 39,
     "metadata": {},
     "output_type": "execute_result"
    }
   ],
   "source": [
    "Eq(x+1, 4)"
   ]
  },
  {
   "cell_type": "code",
   "execution_count": 40,
   "id": "massive-swift",
   "metadata": {},
   "outputs": [
    {
     "data": {
      "text/latex": [
       "There is one addional caveat about == as well. Suppose we want to know if $(x+1)^2 == x^2 + 2x + 1$. We might try something like this:\n"
      ],
      "text/plain": [
       "<IPython.core.display.Latex object>"
      ]
     },
     "metadata": {},
     "output_type": "display_data"
    }
   ],
   "source": [
    "%%latex\n",
    "There is one addional caveat about == as well. Suppose we want to know if $(x+1)^2 == x^2 + 2x + 1$. We might try something like this:\n"
   ]
  },
  {
   "cell_type": "code",
   "execution_count": 41,
   "id": "occupied-catch",
   "metadata": {},
   "outputs": [
    {
     "data": {
      "text/plain": [
       "False"
      ]
     },
     "execution_count": 41,
     "metadata": {},
     "output_type": "execute_result"
    }
   ],
   "source": [
    "(x+1)**2 == x**2 + 2*x + 1"
   ]
  },
  {
   "cell_type": "code",
   "execution_count": 42,
   "id": "several-wonder",
   "metadata": {},
   "outputs": [
    {
     "data": {
      "text/latex": [
       "$\\displaystyle \\left(x + 1\\right)^{2} = x^{2} + 2 x + 1$"
      ],
      "text/plain": [
       "Eq((x + 1)**2, x**2 + 2*x + 1)"
      ]
     },
     "execution_count": 42,
     "metadata": {},
     "output_type": "execute_result"
    }
   ],
   "source": [
    "Eq((x+1)**2, x**2 + 2*x + 1)"
   ]
  },
  {
   "cell_type": "code",
   "execution_count": 43,
   "id": "split-munich",
   "metadata": {},
   "outputs": [
    {
     "data": {
      "text/latex": [
       "Recall from above that == represents exact structural equality testing. \"Exact\" here means that two expressions will compare equal with == only if they are exactly equal structurally. Here, $(x+1)^2$ and $x^2 + 2x + 1$ are not the same structurally. One is the power of an ddition of two terms, and the other is the addition of three terms.\n"
      ],
      "text/plain": [
       "<IPython.core.display.Latex object>"
      ]
     },
     "metadata": {},
     "output_type": "display_data"
    }
   ],
   "source": [
    "%%latex\n",
    "Recall from above that == represents exact structural equality testing. \"Exact\" here means that two expressions will compare equal with == only if they are exactly equal structurally. Here, $(x+1)^2$ and $x^2 + 2x + 1$ are not the same structurally. One is the power of an ddition of two terms, and the other is the addition of three terms."
   ]
  },
  {
   "cell_type": "code",
   "execution_count": 44,
   "id": "located-luxury",
   "metadata": {},
   "outputs": [
    {
     "data": {
      "text/latex": [
       "To test if two things are equal, it is best to recall the bsic fact that if a = b, then a -b = 0. Thus, the best way to check if a = b is to take a -b and simplify it, and see if it goes to 0.\n"
      ],
      "text/plain": [
       "<IPython.core.display.Latex object>"
      ]
     },
     "metadata": {},
     "output_type": "display_data"
    }
   ],
   "source": [
    "%%latex\n",
    "To test if two things are equal, it is best to recall the bsic fact that if a = b, then a -b = 0. Thus, the best way to check if a = b is to take a -b and simplify it, and see if it goes to 0."
   ]
  },
  {
   "cell_type": "code",
   "execution_count": 46,
   "id": "significant-blogger",
   "metadata": {},
   "outputs": [
    {
     "data": {
      "text/latex": [
       "$\\displaystyle 0$"
      ],
      "text/plain": [
       "0"
      ]
     },
     "execution_count": 46,
     "metadata": {},
     "output_type": "execute_result"
    }
   ],
   "source": [
    "a = (x+ 1)**2\n",
    "b = x**2 + 2*x + 1\n",
    "simplify(a-b)"
   ]
  },
  {
   "cell_type": "code",
   "execution_count": 47,
   "id": "sapphire-cinema",
   "metadata": {},
   "outputs": [
    {
     "data": {
      "text/latex": [
       "$\\displaystyle 4 x$"
      ],
      "text/plain": [
       "4*x"
      ]
     },
     "execution_count": 47,
     "metadata": {},
     "output_type": "execute_result"
    }
   ],
   "source": [
    "c = x**2 - 2*x + 1\n",
    "simplify(a-c)"
   ]
  },
  {
   "cell_type": "code",
   "execution_count": 49,
   "id": "integrated-richmond",
   "metadata": {},
   "outputs": [
    {
     "data": {
      "text/latex": [
       "There is also method called equals that tests if two expressions are equal by evaluating them numerically at random points\n"
      ],
      "text/plain": [
       "<IPython.core.display.Latex object>"
      ]
     },
     "metadata": {},
     "output_type": "display_data"
    }
   ],
   "source": [
    "%%latex \n",
    "There is also method called equals that tests if two expressions are equal by evaluating them numerically at random points"
   ]
  },
  {
   "cell_type": "code",
   "execution_count": 51,
   "id": "varying-passport",
   "metadata": {},
   "outputs": [],
   "source": [
    "a = cos(x)**2 - sin(x)**2\n",
    "b = cos(2*x)"
   ]
  },
  {
   "cell_type": "code",
   "execution_count": 52,
   "id": "charged-shaft",
   "metadata": {},
   "outputs": [
    {
     "data": {
      "text/plain": [
       "True"
      ]
     },
     "execution_count": 52,
     "metadata": {},
     "output_type": "execute_result"
    }
   ],
   "source": [
    "a.equals(b)"
   ]
  },
  {
   "cell_type": "code",
   "execution_count": 53,
   "id": "mineral-automation",
   "metadata": {},
   "outputs": [
    {
     "data": {
      "text/latex": [
       "You may have noticed that we have been using ** for exponentiation instead of the standard ^. That's because SymPy follow Python's conventions. In Python, ^ represents logical exclusive or. SymPy follows this convention:\n",
       "    \n"
      ],
      "text/plain": [
       "<IPython.core.display.Latex object>"
      ]
     },
     "metadata": {},
     "output_type": "display_data"
    }
   ],
   "source": [
    "%%latex\n",
    "You may have noticed that we have been using ** for exponentiation instead of the standard ^. That's because SymPy follow Python's conventions. In Python, ^ represents logical exclusive or. SymPy follows this convention:\n",
    "    "
   ]
  },
  {
   "cell_type": "code",
   "execution_count": 54,
   "id": "passive-groove",
   "metadata": {},
   "outputs": [
    {
     "data": {
      "text/plain": [
       "True"
      ]
     },
     "execution_count": 54,
     "metadata": {},
     "output_type": "execute_result"
    }
   ],
   "source": [
    "True ^ False"
   ]
  },
  {
   "cell_type": "code",
   "execution_count": 55,
   "id": "weighted-directive",
   "metadata": {},
   "outputs": [
    {
     "data": {
      "text/plain": [
       "False"
      ]
     },
     "execution_count": 55,
     "metadata": {},
     "output_type": "execute_result"
    }
   ],
   "source": [
    "True ^ True"
   ]
  },
  {
   "cell_type": "code",
   "execution_count": 56,
   "id": "interstate-diagnosis",
   "metadata": {},
   "outputs": [
    {
     "data": {
      "text/plain": [
       "False"
      ]
     },
     "execution_count": 56,
     "metadata": {},
     "output_type": "execute_result"
    }
   ],
   "source": [
    "False ^ False"
   ]
  },
  {
   "cell_type": "code",
   "execution_count": 58,
   "id": "activated-cardiff",
   "metadata": {},
   "outputs": [
    {
     "data": {
      "text/plain": [
       "True"
      ]
     },
     "execution_count": 58,
     "metadata": {},
     "output_type": "execute_result"
    }
   ],
   "source": [
    "False ^ True"
   ]
  },
  {
   "cell_type": "code",
   "execution_count": null,
   "id": "immediate-pulse",
   "metadata": {},
   "outputs": [],
   "source": []
  }
 ],
 "metadata": {
  "kernelspec": {
   "display_name": "Python 3",
   "language": "python",
   "name": "python3"
  },
  "language_info": {
   "codemirror_mode": {
    "name": "ipython",
    "version": 3
   },
   "file_extension": ".py",
   "mimetype": "text/x-python",
   "name": "python",
   "nbconvert_exporter": "python",
   "pygments_lexer": "ipython3",
   "version": "3.9.2"
  }
 },
 "nbformat": 4,
 "nbformat_minor": 5
}
