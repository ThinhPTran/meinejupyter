{
 "cells": [
  {
   "cell_type": "code",
   "execution_count": 2,
   "id": "numeric-reduction",
   "metadata": {},
   "outputs": [],
   "source": [
    "from pyvi import ViTokenizer, ViPosTagger\n",
    "\n",
    "# Functionality\n",
    "#\n",
    "# * Tokenize\n",
    "# * POS tag\n",
    "# * Remove accents\n",
    "# * Add accents\n",
    "# Algorithm: Conditional Random field\n",
    "# Vietnamese tokenizer f1_score = 0.985\n",
    "# Vietnamese pos tagging f1_score = 0.925\n",
    "# POS TAGS:\n",
    "# * A - Adjective\n",
    "# * C - Coordinating conjunction\n",
    "# * E - Preposition\n",
    "# * I - Interjection\n",
    "# * L - Determiner\n",
    "# * M - Numeral\n",
    "# * N - Common noun\n",
    "# * Nc - Noun Classifier\n",
    "# * Ny - Noun abbreviation\n",
    "# * Np - Proper noun\n",
    "# * Nu - Unit noun\n",
    "# * P - Pronoun\n",
    "# * R - Adverb\n",
    "# * S - Subordinating conjunction\n",
    "# * T - Auxiliary, model words\n",
    "# * V - Verb\n",
    "# * X - Unknown\n",
    "# * F - Filter out (punctuation)"
   ]
  },
  {
   "cell_type": "code",
   "execution_count": 4,
   "id": "fifty-cross",
   "metadata": {},
   "outputs": [
    {
     "data": {
      "text/plain": [
       "'Trường đại_học bách_khoa hà_nội'"
      ]
     },
     "execution_count": 4,
     "metadata": {},
     "output_type": "execute_result"
    }
   ],
   "source": [
    "input = u\"Trường đại học bách khoa hà nội\"\n",
    "ViTokenizer.tokenize(input)"
   ]
  },
  {
   "cell_type": "code",
   "execution_count": 5,
   "id": "employed-procedure",
   "metadata": {},
   "outputs": [
    {
     "data": {
      "text/plain": [
       "(['Trường', 'đại_học', 'bách_khoa', 'hà_nội'], ['N', 'N', 'Np', 'Np'])"
      ]
     },
     "execution_count": 5,
     "metadata": {},
     "output_type": "execute_result"
    }
   ],
   "source": [
    "ViPosTagger.postagging(ViTokenizer.tokenize(input))"
   ]
  },
  {
   "cell_type": "code",
   "execution_count": 8,
   "id": "disturbed-judge",
   "metadata": {},
   "outputs": [
    {
     "data": {
      "text/plain": [
       "b'Truong dai hoc bach khoa ha noi'"
      ]
     },
     "execution_count": 8,
     "metadata": {},
     "output_type": "execute_result"
    }
   ],
   "source": [
    "from pyvi import ViUtils\n",
    "input1 = ViUtils.remove_accents(input)\n",
    "input1"
   ]
  },
  {
   "cell_type": "code",
   "execution_count": 11,
   "id": "representative-match",
   "metadata": {},
   "outputs": [
    {
     "data": {
      "text/plain": [
       "'Trường Đại học Back Khoa hà nội'"
      ]
     },
     "execution_count": 11,
     "metadata": {},
     "output_type": "execute_result"
    }
   ],
   "source": [
    "ViUtils.add_accents(u\"truong dai hoc back khoa ha noi\")"
   ]
  },
  {
   "cell_type": "code",
   "execution_count": null,
   "id": "american-linux",
   "metadata": {},
   "outputs": [],
   "source": []
  }
 ],
 "metadata": {
  "kernelspec": {
   "display_name": "Python 3",
   "language": "python",
   "name": "python3"
  },
  "language_info": {
   "codemirror_mode": {
    "name": "ipython",
    "version": 3
   },
   "file_extension": ".py",
   "mimetype": "text/x-python",
   "name": "python",
   "nbconvert_exporter": "python",
   "pygments_lexer": "ipython3",
   "version": "3.9.2"
  }
 },
 "nbformat": 4,
 "nbformat_minor": 5
}
