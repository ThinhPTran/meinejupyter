{
 "cells": [
  {
   "cell_type": "code",
   "execution_count": 0,
   "metadata": {
    "colab": {},
    "colab_type": "code",
    "id": "EENbkvwrIEXf"
   },
   "outputs": [],
   "source": []
  },
  {
   "cell_type": "code",
   "execution_count": 0,
   "metadata": {
    "colab": {},
    "colab_type": "code",
    "id": "SJJ3kls6IHRU"
   },
   "outputs": [],
   "source": []
  },
  {
   "cell_type": "code",
   "execution_count": 1,
   "metadata": {
    "colab": {
     "base_uri": "https://localhost:8080/",
     "height": 122
    },
    "colab_type": "code",
    "id": "2XlGxrS0IMPq",
    "outputId": "e824c1f5-64d7-41b3-bc68-fe35a80b5fd9"
   },
   "outputs": [
    {
     "name": "stdout",
     "output_type": "stream",
     "text": [
      "Go to this URL in a browser: https://accounts.google.com/o/oauth2/auth?client_id=947318989803-6bn6qk8qdgf4n4g3pfee6491hc0brc4i.apps.googleusercontent.com&redirect_uri=urn%3aietf%3awg%3aoauth%3a2.0%3aoob&response_type=code&scope=email%20https%3a%2f%2fwww.googleapis.com%2fauth%2fdocs.test%20https%3a%2f%2fwww.googleapis.com%2fauth%2fdrive%20https%3a%2f%2fwww.googleapis.com%2fauth%2fdrive.photos.readonly%20https%3a%2f%2fwww.googleapis.com%2fauth%2fpeopleapi.readonly\n",
      "\n",
      "Enter your authorization code:\n",
      "··········\n",
      "Mounted at /content/drive\n"
     ]
    }
   ],
   "source": [
    "from google.colab import drive\n",
    "drive.mount('/content/drive')"
   ]
  },
  {
   "cell_type": "code",
   "execution_count": 2,
   "metadata": {
    "colab": {
     "base_uri": "https://localhost:8080/",
     "height": 34
    },
    "colab_type": "code",
    "id": "1ibJY_S0IMlR",
    "outputId": "c5c75d71-0b8e-4aa4-f4f0-12cc3e090781"
   },
   "outputs": [
    {
     "name": "stdout",
     "output_type": "stream",
     "text": [
      "/content/drive/My Drive/NLP\n"
     ]
    }
   ],
   "source": [
    "%cd /content/drive/My Drive/NLP"
   ]
  },
  {
   "cell_type": "code",
   "execution_count": 3,
   "metadata": {
    "colab": {
     "base_uri": "https://localhost:8080/",
     "height": 343
    },
    "colab_type": "code",
    "id": "i5B-PSWMJtAj",
    "outputId": "f3efadd8-aa6d-4883-8279-ffd23c8edc7d"
   },
   "outputs": [
    {
     "name": "stdout",
     "output_type": "stream",
     "text": [
      "Collecting pyvi\n",
      "\u001b[?25l  Downloading https://files.pythonhosted.org/packages/31/73/89be26d66c71f3bcca1de13bb73a9d622fabe282b55e518d68e86081d4e6/pyvi-0.0.9.7-py2.py3-none-any.whl (8.7MB)\n",
      "\u001b[K     |████████████████████████████████| 8.8MB 3.1MB/s \n",
      "\u001b[?25hRequirement already satisfied: scikit-learn in /usr/local/lib/python3.6/dist-packages (from pyvi) (0.22.1)\n",
      "Collecting sklearn-crfsuite\n",
      "  Downloading https://files.pythonhosted.org/packages/25/74/5b7befa513482e6dee1f3dd68171a6c9dfc14c0eaa00f885ffeba54fe9b0/sklearn_crfsuite-0.3.6-py2.py3-none-any.whl\n",
      "Requirement already satisfied: numpy>=1.11.0 in /usr/local/lib/python3.6/dist-packages (from scikit-learn->pyvi) (1.17.5)\n",
      "Requirement already satisfied: joblib>=0.11 in /usr/local/lib/python3.6/dist-packages (from scikit-learn->pyvi) (0.14.1)\n",
      "Requirement already satisfied: scipy>=0.17.0 in /usr/local/lib/python3.6/dist-packages (from scikit-learn->pyvi) (1.4.1)\n",
      "Requirement already satisfied: tabulate in /usr/local/lib/python3.6/dist-packages (from sklearn-crfsuite->pyvi) (0.8.6)\n",
      "Requirement already satisfied: tqdm>=2.0 in /usr/local/lib/python3.6/dist-packages (from sklearn-crfsuite->pyvi) (4.28.1)\n",
      "Requirement already satisfied: six in /usr/local/lib/python3.6/dist-packages (from sklearn-crfsuite->pyvi) (1.12.0)\n",
      "Collecting python-crfsuite>=0.8.3\n",
      "\u001b[?25l  Downloading https://files.pythonhosted.org/packages/2f/86/cfcd71edca9d25d3d331209a20f6314b6f3f134c29478f90559cee9ce091/python_crfsuite-0.9.6-cp36-cp36m-manylinux1_x86_64.whl (754kB)\n",
      "\u001b[K     |████████████████████████████████| 757kB 47.0MB/s \n",
      "\u001b[?25hInstalling collected packages: python-crfsuite, sklearn-crfsuite, pyvi\n",
      "Successfully installed python-crfsuite-0.9.6 pyvi-0.0.9.7 sklearn-crfsuite-0.3.6\n",
      "Requirement already satisfied: tqdm in /usr/local/lib/python3.6/dist-packages (4.28.1)\n"
     ]
    }
   ],
   "source": [
    "# import thư viện\n",
    "!pip install pyvi\n",
    "!pip install tqdm\n",
    "import json\n",
    "import os\n",
    "import glob\n",
    "from random import randint \n",
    "from gensim import corpora, matutils\n",
    "import pickle as cPickle   \n",
    "from pyvi import ViTokenizer \n",
    "from tqdm import trange, tqdm_notebook\n",
    "import numpy as np\n",
    "from past.builtins import xrange\n",
    "from sklearn.preprocessing import MultiLabelBinarizer,LabelEncoder"
   ]
  },
  {
   "cell_type": "code",
   "execution_count": 0,
   "metadata": {
    "colab": {},
    "colab_type": "code",
    "id": "_8DnDSI8I0T9"
   },
   "outputs": [],
   "source": [
    "# tạo class đọc file \n",
    "class FileReader(object):\n",
    "    def __init__(self, file_path, encoder = None):\n",
    "        self.file_path = file_path\n",
    "        self.encoder = encoder if encoder != None else 'utf-16le'\n",
    "\n",
    "    def read(self):\n",
    "        with open(self.file_path,'rb') as f:\n",
    "            s = f.read() \n",
    "        return s\n",
    "\n",
    "    def content(self):\n",
    "        s = self.read() \n",
    "        return s.decode(self.encoder)\n",
    "\n",
    "    def read_json(self):\n",
    "        with open(self.file_path) as f:\n",
    "            s = json.load(f)\n",
    "        return s\n",
    "        \n",
    "    def read_stopwords(self):\n",
    "        with open(self.file_path, 'r') as f:\n",
    "            stopwords = set([w.strip().replace(' ', '_') for w in f.readlines()])\n",
    "        return stopwords\n",
    "\n",
    "    def load_dictionary(self):\n",
    "        return corpora.Dictionary.load_from_text(self.file_path)\n"
   ]
  },
  {
   "cell_type": "code",
   "execution_count": 0,
   "metadata": {
    "colab": {},
    "colab_type": "code",
    "id": "aMf7sNgLKBf_"
   },
   "outputs": [],
   "source": [
    "DATA_TRAIN_PATH = '/content/drive/My Drive/NLP/dataset/Train_Full' \n",
    "DATA_TRAIN_JSON = '/content/drive/My Drive/NLP/nlp_me/json/train_full.json'\n",
    "\n",
    "STOP_WORDS = '/content/drive/My Drive/NLP/nlp_me/stopwords-nlp-vi.txt'\n",
    "SPECIAL_CHARACTER = '0123456789%@$.,=+-!;/()*\"&^:#|\\n\\t\\''\n",
    "DICTIONARY_PATH = '/content/drive/My Drive/NLP/nlp_me/dictionary.txt'"
   ]
  },
  {
   "cell_type": "code",
   "execution_count": 0,
   "metadata": {
    "colab": {},
    "colab_type": "code",
    "id": "RrtX0PDGJj0X"
   },
   "outputs": [],
   "source": [
    "# tạo class load dữ liệu từ thư mục cho trước theo format Main Directory/Country/Aspect/... .txt\n",
    "class DataLoader(object):\n",
    "    def __init__(self, dataPath):\n",
    "        self.dataPath = dataPath\n",
    "\n",
    "    def __get_files(self):  \n",
    "        folders = [self.dataPath +'/'+ folder + '/' for folder in os.listdir(self.dataPath)]\n",
    "        print(folders)\n",
    "        for item in folders:\n",
    "            print(item)\n",
    "        class_titles = os.listdir(self.dataPath)\n",
    "        files = {}\n",
    "        for folder, title in zip(folders, class_titles):\n",
    "            if folder.split('/')[-2] == '.DS_Store':\n",
    "                continue\n",
    "            files[title] = [folder + f for f in os.listdir(folder)]\n",
    "        self.files = files\n",
    "        print(self.files) \n",
    "\n",
    "    def get_json(self):\n",
    "        self.__get_files()\n",
    "        data = []\n",
    "        for topic in self.files:\n",
    "            print(topic)\n",
    "            for index in tqdm_notebook(xrange(len(self.files[topic])), desc='build dictionary'):  \n",
    "                # rand = randint(1000,1200)\n",
    "                # i = 0\n",
    "                file = self.files[topic][index]\n",
    "                paths = glob.glob(file+\"/*.txt\")\n",
    "                if file.split('/')[-2] == 'Chau_au':\n",
    "                    paths = glob.glob(file+\"/*/*.txt\") \n",
    "                for index, path in enumerate(paths): \n",
    "                    try:\n",
    "                      content = FileReader(file_path=path).content() \n",
    "                    except:\n",
    "                      continue\n",
    "                    data.append({\n",
    "                        'category': '.'.join([path.split('/')[-3],path.split('/')[-2]]),\n",
    "                        'content': content\n",
    "                    }) \n",
    "                    \n",
    "                    # if i == rand:\n",
    "                    #     break\n",
    "                    # else:\n",
    "                    #     i += 1  \n",
    "        return data\n",
    "\n",
    "class FileStore(object):\n",
    "    def __init__(self, file_path, data = None):\n",
    "        self.file_path = file_path\n",
    "        self.data = data\n",
    "\n",
    "    def store_json(self):\n",
    "        print(\"Save: \",self.file_path)\n",
    "        with open(self.file_path, 'w') as outfile:\n",
    "            json.dump(self.data, outfile)\n",
    "\n",
    "    # store dictionary: https://radimrehurek.com/gensim/corpora/dictionary.html#gensim.corpora.dictionary.Dictionary.filter_extremes\n",
    "    # dict_word là mãng chữa các đoạn text đã được segmentation [[cá, con, ăn],[con, mèo],[con, chó, chạy, qua]]\n",
    "    # len của dictionary sẽ là 7 \n",
    "    # no_above là tần suất xuất hiện trên số phần trăm ví dụ: no_above = 0.5 là tần suất xuất hiện không được trên (phải dưới) của tổng số tài liệu 50%\n",
    "    # no_below là số lần xuất hiện không được dưới ... ví dụ no_below = 2 là số lần xuất hiện trong từng tài liệu không được dưới 2\n",
    "    def store_dictionary(self, dict_words):\n",
    "        dictionary = corpora.Dictionary(dict_words)\n",
    "        dictionary.filter_extremes(no_below=60, no_above=0.3)\n",
    "        dictionary.save_as_text(self.file_path)\n",
    "\n",
    "    def save_pickle(self,  obj):\n",
    "        outfile = open(self.file_path, 'wb')\n",
    "        fastPickler = cPickle.Pickler(outfile, 4)\n",
    "        fastPickler.fast = 1\n",
    "        fastPickler.dump(obj)\n",
    "        outfile.close()\n",
    "\n"
   ]
  },
  {
   "cell_type": "code",
   "execution_count": 0,
   "metadata": {
    "colab": {
     "base_uri": "https://localhost:8080/",
     "height": 34
    },
    "colab_type": "code",
    "id": "5vNaPaNKuSIj",
    "outputId": "51dda733-e58f-45c0-af51-3f1a94e4c52c"
   },
   "outputs": [
    {
     "name": "stdout",
     "output_type": "stream",
     "text": [
      "Dictionary(3 unique tokens: ['máma', 'ema', 'má'])\n"
     ]
    }
   ],
   "source": [
    "# ví dụ về library \n",
    "corpus = [[\"máma\", \"mele\", \"maso\"], [\"ema\", \"má\", \"maso\"],['maso','aa','aa','aa','aa','aa','aa','aa'], [\"ema\", \"má\", \"máma\"]]\n",
    "dct = corpora.Dictionary(corpus)\n",
    "dct.filter_extremes(no_below=2, no_above=0.74, keep_n=1000000)\n",
    "print(dct)\n",
    "\n",
    "# vì từ maso xuất hiện 3 lần (trên 2 lần) và chiểm 3 trên 4 tổng số tài liệu 3/4 = 0.75 lớn hơn 0.74 nên không tồn tài trong dictionary\n",
    "# vì từ máma xuất hiện 2 lần (= 2 lần) và chiếm 2 trên 4 tổng số tài liệu 2/4= 0.5 nhỏ hơn 0.74 nên vần còn trong dic \n",
    "# vì từ ema xuất hiện 2 lần (= 2 lần) và chiếm 2 trên 4 tổng số tài liệu 2/4= 0.5 nhỏ hơn 0.74 nên vần còn trong dic \n",
    "# vì từ aa xuất hiện 7 lần (trong 1 doc) nhưng 1 lần/1 doc (dưới 2 lần) nên không còn trong dic \n"
   ]
  },
  {
   "cell_type": "code",
   "execution_count": 0,
   "metadata": {
    "colab": {
     "base_uri": "https://localhost:8080/",
     "height": 205,
     "referenced_widgets": [
      "be86589788724e5681bf2f247a61a7ce",
      "2df36db917774f96aa55fb6805faa16c",
      "a76a9b68aad54684b1b75f6340000e1a",
      "4c6afd3a7f3746a1ac1a3aefefe7bea2",
      "77a428f7163b442d8ccb657dc7ecb3cd",
      "d1b9e53bb0b245adb77b05d28888005a",
      "fe201ff6ac624d1eb689efa07d872c37",
      "e4949f5b2d4947d3a3d7241e7ecdd04d"
     ]
    },
    "colab_type": "code",
    "id": "i1bEkRV6J4Q9",
    "outputId": "ef51bddf-7115-4461-a5c1-028151ed62fa"
   },
   "outputs": [
    {
     "name": "stdout",
     "output_type": "stream",
     "text": [
      "['/content/drive/My Drive/NLP/dataset/Train_Full/.DS_Store/', '/content/drive/My Drive/NLP/dataset/Train_Full/My/', '/content/drive/My Drive/NLP/dataset/Train_Full/Viet_nam/', '/content/drive/My Drive/NLP/dataset/Train_Full/__MACOSX/', '/content/drive/My Drive/NLP/dataset/Train_Full/.ipynb_checkpoints/']\n",
      "/content/drive/My Drive/NLP/dataset/Train_Full/.DS_Store/\n",
      "/content/drive/My Drive/NLP/dataset/Train_Full/My/\n",
      "/content/drive/My Drive/NLP/dataset/Train_Full/Viet_nam/\n",
      "/content/drive/My Drive/NLP/dataset/Train_Full/__MACOSX/\n",
      "/content/drive/My Drive/NLP/dataset/Train_Full/.ipynb_checkpoints/\n",
      "{'My': ['/content/drive/My Drive/NLP/dataset/Train_Full/My/Chinh_tri_doi_ngoai', '/content/drive/My Drive/NLP/dataset/Train_Full/My/Chinh_tri_noi_bo', '/content/drive/My Drive/NLP/dataset/Train_Full/My/Khoa_hoc_cong_nghe', '/content/drive/My Drive/NLP/dataset/Train_Full/My/Kinh_te_phat_trien', '/content/drive/My Drive/NLP/dataset/Train_Full/My/.DS_Store', '/content/drive/My Drive/NLP/dataset/Train_Full/My/Van_hoa_xa_hoi'], 'Viet_nam': ['/content/drive/My Drive/NLP/dataset/Train_Full/Viet_nam/Chinh_tri_doi_ngoai', '/content/drive/My Drive/NLP/dataset/Train_Full/Viet_nam/Chinh_tri_noi_bo', '/content/drive/My Drive/NLP/dataset/Train_Full/Viet_nam/Khoa_hoc_cong_nghe', '/content/drive/My Drive/NLP/dataset/Train_Full/Viet_nam/Kinh_te_phat_trien', '/content/drive/My Drive/NLP/dataset/Train_Full/Viet_nam/.DS_Store', '/content/drive/My Drive/NLP/dataset/Train_Full/Viet_nam/Van_hoa_xa_hoi'], '__MACOSX': ['/content/drive/My Drive/NLP/dataset/Train_Full/__MACOSX/Viet_nam'], '.ipynb_checkpoints': []}\n",
      "My\n"
     ]
    },
    {
     "data": {
      "application/vnd.jupyter.widget-view+json": {
       "model_id": "be86589788724e5681bf2f247a61a7ce",
       "version_major": 2,
       "version_minor": 0
      },
      "text/plain": [
       "HBox(children=(IntProgress(value=0, description='build dictionary', max=6, style=ProgressStyle(description_wid…"
      ]
     },
     "metadata": {
      "tags": []
     },
     "output_type": "display_data"
    }
   ],
   "source": [
    "# lấy đường dẫn thư mục làm label và nội dung làm dữ liệu theo format {category: '',content,''}\n",
    "json_train = DataLoader(dataPath=DATA_TRAIN_PATH).get_json()\n",
    "\n",
    "# lưu file train\n",
    "FileStore(file_path=DATA_TRAIN_JSON, data=json_train).store_json()\n",
    "print('Total data train: %d' %len(json_train))"
   ]
  },
  {
   "cell_type": "code",
   "execution_count": 7,
   "metadata": {
    "colab": {
     "base_uri": "https://localhost:8080/",
     "height": 34
    },
    "colab_type": "code",
    "id": "16TjjpUmc_A4",
    "outputId": "f583012e-6ab0-482e-a6b3-c0f5f179d143"
   },
   "outputs": [
    {
     "name": "stdout",
     "output_type": "stream",
     "text": [
      "Total data train: 18991\n"
     ]
    }
   ],
   "source": [
    "# đọc file train\n",
    "train_loader = FileReader(file_path=DATA_TRAIN_JSON) \n",
    "data_train = train_loader.read_json()   \n",
    "print('Total data train: %d' %len(data_train))"
   ]
  },
  {
   "cell_type": "code",
   "execution_count": 0,
   "metadata": {
    "colab": {},
    "colab_type": "code",
    "id": "luQv2x_glQ8b"
   },
   "outputs": [],
   "source": [
    "# xây dựng class NLP extends từ pyvi để extract feature \n",
    "class NLP(object):\n",
    "    def __init__(self, text = None):\n",
    "        self.text = text\n",
    "        self.__set_stopwords()\n",
    "\n",
    "    #đọc file stop_word đã chứa sẵn trong đường dẫn\n",
    "    def __set_stopwords(self):\n",
    "        self.stopwords = FileReader(STOP_WORDS).read_stopwords()\n",
    "\n",
    "    # vì trong câu sẽ xuất hiện rất nhiều từ vô nghĩa, sẽ làm noise dữ liệu cho nên phải segmentation trước khi train. Sử dụng ViTokenizer từ Pyvi \n",
    "    # để tokenize (đây là một model do người việt đã làm để segmentation tiếng việt)\n",
    "    def segmentation(self):\n",
    "        return ViTokenizer.tokenize(self.text)\n",
    "\n",
    "    # loại bỏ kí tự đặc biệt, lowercase và segmentation tiếng việt\n",
    "    def split_words(self):\n",
    "        text = self.segmentation()\n",
    "        try:\n",
    "            return [x.strip(SPECIAL_CHARACTER).lower() for x in text.split()]\n",
    "        except TypeError:\n",
    "            return []\n",
    "\n",
    "    # get feature trong câu gồm hai bước \n",
    "    # loại bỏ kí tự đặc biệt và loại bỏ stop_words - stop_word là những từ vô nghĩa không mang lại hiệu quả train \n",
    "    def get_words_feature(self):\n",
    "        split_words = self.split_words()\n",
    "        return [word for word in split_words if word.encode('utf-8') not in self.stopwords]\n",
    " "
   ]
  },
  {
   "cell_type": "code",
   "execution_count": 0,
   "metadata": {
    "colab": {},
    "colab_type": "code",
    "id": "9nqRcDglJ4Tv"
   },
   "outputs": [],
   "source": [
    "# extract feature \n",
    "# build dictionary để chuyển embedding dữ liệu, chuyển về word2vec => bag of word\n",
    "from past.builtins import xrange\n",
    "class FeatureExtraction(object):\n",
    "    def __init__(self, data=None, build_dic=False):\n",
    "        self.data = data\n",
    "        self.build_dic = build_dic\n",
    "\n",
    "    # build từ điển gồm các từ xuất hiện trong văn bản sau khi đã preprocess dữ liệu \n",
    "    def __build_dictionary(self):\n",
    "        print('Building dictionary')\n",
    "        dict_words = []  \n",
    "        for i in tqdm_notebook(xrange(len(self.data)), desc='build dictionary'): \n",
    "            words = NLP(text = self.data[i]['content']).get_words_feature()\n",
    "            dict_words.append(words)  \n",
    "        FileStore(file_path=DICTIONARY_PATH).store_dictionary(dict_words)\n",
    "\n",
    "    # load từ điển đã xây dựng theo dữ liệu train\n",
    "    def __load_dictionary(self):\n",
    "        if os.path.exists(DICTIONARY_PATH) == False or self.build_dic == True: \n",
    "            print(\"Dictionary is not exist\")\n",
    "            self.__build_dictionary() \n",
    "            self.build_dic = False\n",
    "        \n",
    "        self.dictionary = FileReader(DICTIONARY_PATH).load_dictionary()\n",
    "\n",
    "    # extract feature từ từ điển đã tạo cùng với label\n",
    "    # x sẽ là word2vec, y là label\n",
    "    def __build_dataset(self):\n",
    "        self.features = []\n",
    "        self.labels = [] \n",
    "        for i in tqdm_notebook(xrange(len(self.data)), desc='build dataset'):  \n",
    "            content = self.get_dense(self.data[i]['content'])\n",
    "            self.features.append(content)\n",
    "            self.labels.append(str(self.data[i]['category'].split('.')[0])+'.'+str(self.data[i]['category'].split('.')[1]))\n",
    "\n",
    "    # word2vec\n",
    "    def get_dense(self, text):\n",
    "        self.__load_dictionary()\n",
    "        words = NLP(text).get_words_feature()\n",
    "        # Bag of words\n",
    "        vec = self.dictionary.doc2bow(words)  \n",
    "        dense = list(matutils.corpus2dense([vec], num_terms=len(self.dictionary)).T[0])\n",
    "        return dense\n",
    "\n",
    "    def get_data_and_label(self):\n",
    "        print(\"** Start build dataset\")\n",
    "        self.__build_dataset()  \n",
    "        return self.features, self.labels\n",
    "\n"
   ]
  },
  {
   "cell_type": "code",
   "execution_count": 74,
   "metadata": {
    "colab": {
     "base_uri": "https://localhost:8080/",
     "height": 154,
     "referenced_widgets": [
      "8bb836a411384731973d3409f2e96512",
      "de271913733a427f97ffd6c2db648415",
      "a6ef73b537fa4ce59f8b4cfd71d65f0f",
      "8cd1ec5763c941b197e5c24f054735e8",
      "7e951eef74da430fa70a306c54f0f1c3",
      "81845087427e4586a846249ed1e54330",
      "81000f9a590a44faa489c4d2fb3f91c6",
      "6803b80b54864598b0276e1e1494ab65"
     ]
    },
    "colab_type": "code",
    "id": "dMIdknA5dbAi",
    "outputId": "00051d46-4276-4242-9e0d-6daf4259edcc"
   },
   "outputs": [
    {
     "name": "stdout",
     "output_type": "stream",
     "text": [
      "** Start build dataset\n"
     ]
    },
    {
     "data": {
      "application/vnd.jupyter.widget-view+json": {
       "model_id": "8bb836a411384731973d3409f2e96512",
       "version_major": 2,
       "version_minor": 0
      },
      "text/plain": [
       "HBox(children=(IntProgress(value=0, description='build dataset', max=18991, style=ProgressStyle(description_wi…"
      ]
     },
     "metadata": {
      "tags": []
     },
     "output_type": "display_data"
    },
    {
     "name": "stderr",
     "output_type": "stream",
     "text": [
      "/usr/local/lib/python3.6/dist-packages/smart_open/smart_open_lib.py:402: UserWarning: This function is deprecated, use smart_open.open instead. See the migration notes for details: https://github.com/RaRe-Technologies/smart_open/blob/master/README.rst#migrating-to-the-new-open-function\n",
      "  'See the migration notes for details: %s' % _MIGRATION_NOTES_URL\n",
      "/usr/local/lib/python3.6/dist-packages/gensim/matutils.py:502: FutureWarning: arrays to stack must be passed as a \"sequence\" type such as list or tuple. Support for non-sequence iterables such as generators is deprecated as of NumPy 1.16 and will raise an error in the future.\n",
      "  result = np.column_stack(sparse2full(doc, num_terms) for doc in corpus)\n"
     ]
    }
   ],
   "source": [
    "# build_dic là biến để biết build dictionary hay không ? \n",
    "# extract feature từ model của pyvi để build data set\n",
    "features_train, labels_train = FeatureExtraction(data=data_train, build_dic=False).get_data_and_label() "
   ]
  },
  {
   "cell_type": "code",
   "execution_count": 0,
   "metadata": {
    "colab": {},
    "colab_type": "code",
    "id": "WRAKDyFSvXYJ"
   },
   "outputs": [],
   "source": [
    "# load data hơi lâu nên để hai biến giữ lại data ban dầu \n",
    "a, b = np.array(features_train),np.array(labels_train) \n",
    "features_train, labels_train = np.array(features_train),np.array(labels_train)"
   ]
  },
  {
   "cell_type": "code",
   "execution_count": 0,
   "metadata": {
    "colab": {},
    "colab_type": "code",
    "id": "zG04HcsEnWr_"
   },
   "outputs": [],
   "source": [
    "from keras.utils import to_categorical\n",
    "\n",
    "# encode mutil label - one hot encoding \n",
    "mlb = LabelEncoder() \n",
    "k = mlb.fit_transform(labels_train)\n",
    "labels_train = to_categorical(k)"
   ]
  },
  {
   "cell_type": "code",
   "execution_count": 0,
   "metadata": {
    "colab": {},
    "colab_type": "code",
    "id": "LwNLCQrgs1Ne"
   },
   "outputs": [],
   "source": [
    "# chia tập train, test theo tỉ lệ 8:2\n",
    "(features_train, features_test,labels_train, labels_test) = train_test_split(features_train, labels_train, test_size=0.2, random_state=42)"
   ]
  },
  {
   "cell_type": "code",
   "execution_count": 78,
   "metadata": {
    "colab": {
     "base_uri": "https://localhost:8080/",
     "height": 85
    },
    "colab_type": "code",
    "id": "bpYWTrJ_nX0W",
    "outputId": "d43437c0-9a3b-457f-e2c5-b35a28f62cea"
   },
   "outputs": [
    {
     "name": "stdout",
     "output_type": "stream",
     "text": [
      "Shape features: Total document 18991 - Size matrix train (15192, 5912)\n",
      "Train set 15192 docs\n",
      "Test set 3799 docs\n"
     ]
    },
    {
     "data": {
      "text/plain": [
       "array([1., 0., 0., 0., 0., 0., 0., 0., 0.], dtype=float32)"
      ]
     },
     "execution_count": 78,
     "metadata": {
      "tags": []
     },
     "output_type": "execute_result"
    }
   ],
   "source": [
    "print('Shape features:',\"Total document\",labels_train.shape[0] + labels_test.shape[0],\"- Size matrix train\",features_train.shape)\n",
    "print('Train set',labels_train.shape[0],'docs') \n",
    "print('Test set',labels_test.shape[0],'docs') \n",
    "SIZE_TRAIN = features_train.shape[1]\n",
    "labels_test[0]"
   ]
  },
  {
   "cell_type": "code",
   "execution_count": 97,
   "metadata": {
    "colab": {
     "base_uri": "https://localhost:8080/",
     "height": 187
    },
    "colab_type": "code",
    "id": "1DpULt0o5G6N",
    "outputId": "4c32e175-d42d-4534-c62d-e85f52ae3986"
   },
   "outputs": [
    {
     "name": "stdout",
     "output_type": "stream",
     "text": [
      "- tổng số label:\n",
      "1. My.Chinh_tri_doi_ngoai\n",
      "2. My.Chinh_tri_noi_bo\n",
      "3. My.Khoa_hoc_cong_nghe\n",
      "4. My.Van_hoa_xa_hoi\n",
      "5. Viet_nam.Chinh_tri_doi_ngoai\n",
      "6. Viet_nam.Chinh_tri_noi_bo\n",
      "7. Viet_nam.Khoa_hoc_cong_nghe\n",
      "8. Viet_nam.Kinh_te_phat_trien\n",
      "9. Viet_nam.Van_hoa_xa_hoi\n"
     ]
    }
   ],
   "source": [
    "print(\"- tổng số label:\")\n",
    "# loop over each of the possible class labels and show them\n",
    "for (i, label) in enumerate(mlb.classes_):\n",
    "\tprint(\"{}. {}\".format(i + 1, label)) "
   ]
  },
  {
   "cell_type": "code",
   "execution_count": 0,
   "metadata": {
    "colab": {},
    "colab_type": "code",
    "id": "yphev0C34tPB"
   },
   "outputs": [],
   "source": [
    "from keras.models import Sequential\n",
    "from keras.layers.normalization import BatchNormalization\n",
    "from keras.layers.convolutional import Conv2D\n",
    "from keras.layers.convolutional import MaxPooling2D\n",
    "from keras.layers.core import Activation\n",
    "from keras.layers.core import Flatten\n",
    "from keras.layers.core import Dropout\n",
    "from keras.layers.core import Dense\n",
    "from keras import backend as K\n",
    "from keras.optimizers import Adam \n",
    "from sklearn.model_selection import train_test_split\n",
    "from sklearn.metrics import classification_report\n",
    "\n",
    "\n",
    "# xây dựng mạng network\n",
    "class ModelNLP(object):\n",
    "  @staticmethod\n",
    "  def build(SIZE_TRAIN,num_classes, final_activation):\n",
    "    model = Sequential()\n",
    "    model.add(Dense(200, input_shape=(SIZE_TRAIN,), activation='relu')) \n",
    "    model.add(Dense(200, activation='relu'))\n",
    "\n",
    "    # softmax classifier  \n",
    "    model.add(Dense(num_classes, activation=final_activation))\n",
    "  \n",
    "    return model\n"
   ]
  },
  {
   "cell_type": "code",
   "execution_count": 0,
   "metadata": {
    "colab": {},
    "colab_type": "code",
    "id": "iNYM4Jp0CZBh"
   },
   "outputs": [],
   "source": [
    "# khởi tạo model\n",
    "EPOCHS = 20\n",
    "INIT_LR = 1e-3\n",
    "BS = 32\n",
    "\n",
    "model = ModelNLP.build(SIZE_TRAIN=SIZE_TRAIN,num_classes=len(mlb.classes_),final_activation='softmax')\n",
    "opt = Adam(lr=INIT_LR, decay=INIT_LR / EPOCHS)\n",
    "\n",
    "# compile model \n",
    "model.compile(loss='binary_crossentropy', optimizer=opt, metrics=['accuracy'])"
   ]
  },
  {
   "cell_type": "code",
   "execution_count": 100,
   "metadata": {
    "colab": {
     "base_uri": "https://localhost:8080/",
     "height": 714
    },
    "colab_type": "code",
    "id": "ZQqiO7ou4tSD",
    "outputId": "6df19a28-3350-46d6-b1dd-3c957f9e20d4"
   },
   "outputs": [
    {
     "name": "stdout",
     "output_type": "stream",
     "text": [
      "Epoch 1/20\n",
      "15192/15192 [==============================] - 3s 168us/step - loss: 0.1705 - acc: 0.9222\n",
      "Epoch 2/20\n",
      "15192/15192 [==============================] - 2s 144us/step - loss: 0.0978 - acc: 0.9578\n",
      "Epoch 3/20\n",
      "15192/15192 [==============================] - 2s 144us/step - loss: 0.0507 - acc: 0.9822\n",
      "Epoch 4/20\n",
      "15192/15192 [==============================] - 2s 141us/step - loss: 0.0274 - acc: 0.9920\n",
      "Epoch 5/20\n",
      "15192/15192 [==============================] - 2s 142us/step - loss: 0.0190 - acc: 0.9950\n",
      "Epoch 6/20\n",
      "15192/15192 [==============================] - 2s 146us/step - loss: 0.0141 - acc: 0.9956\n",
      "Epoch 7/20\n",
      "15192/15192 [==============================] - 2s 149us/step - loss: 0.0099 - acc: 0.9967\n",
      "Epoch 8/20\n",
      "15192/15192 [==============================] - 2s 146us/step - loss: 0.0087 - acc: 0.9967\n",
      "Epoch 9/20\n",
      "15192/15192 [==============================] - 2s 142us/step - loss: 0.0066 - acc: 0.9971\n",
      "Epoch 10/20\n",
      "15192/15192 [==============================] - 2s 146us/step - loss: 0.0064 - acc: 0.9971\n",
      "Epoch 11/20\n",
      "15192/15192 [==============================] - 2s 145us/step - loss: 0.0065 - acc: 0.9972\n",
      "Epoch 12/20\n",
      "15192/15192 [==============================] - 2s 150us/step - loss: 0.0077 - acc: 0.9970\n",
      "Epoch 13/20\n",
      "15192/15192 [==============================] - 2s 146us/step - loss: 0.0083 - acc: 0.9966\n",
      "Epoch 14/20\n",
      "15192/15192 [==============================] - 2s 143us/step - loss: 0.0047 - acc: 0.9976\n",
      "Epoch 15/20\n",
      "15192/15192 [==============================] - 2s 146us/step - loss: 0.0039 - acc: 0.9976\n",
      "Epoch 16/20\n",
      "15192/15192 [==============================] - 2s 146us/step - loss: 0.0043 - acc: 0.9976\n",
      "Epoch 17/20\n",
      "15192/15192 [==============================] - 2s 142us/step - loss: 0.0036 - acc: 0.9979\n",
      "Epoch 18/20\n",
      "15192/15192 [==============================] - 2s 141us/step - loss: 0.0035 - acc: 0.9979\n",
      "Epoch 19/20\n",
      "15192/15192 [==============================] - 2s 141us/step - loss: 0.0102 - acc: 0.9973\n",
      "Epoch 20/20\n",
      "15192/15192 [==============================] - 2s 142us/step - loss: 0.0137 - acc: 0.9966\n"
     ]
    },
    {
     "data": {
      "text/plain": [
       "<keras.callbacks.History at 0x7fa9624ba358>"
      ]
     },
     "execution_count": 100,
     "metadata": {
      "tags": []
     },
     "output_type": "execute_result"
    }
   ],
   "source": [
    "# training \n",
    "model.fit(features_train, labels_train, epochs=EPOCHS, verbose=1)\n"
   ]
  },
  {
   "cell_type": "code",
   "execution_count": 129,
   "metadata": {
    "colab": {
     "base_uri": "https://localhost:8080/",
     "height": 34
    },
    "colab_type": "code",
    "id": "aLqeo-Rj4tUt",
    "outputId": "8eec68d1-c3f7-4a67-e7c7-be9c5226fa30"
   },
   "outputs": [
    {
     "name": "stdout",
     "output_type": "stream",
     "text": [
      "Test Accuracy: 92.907489\n"
     ]
    }
   ],
   "source": [
    "# evaluate \n",
    "loss, acc = model.evaluate(features_test, labels_test, verbose=0)\n",
    "print('Test Accuracy: %f' % (acc*100)) "
   ]
  },
  {
   "cell_type": "code",
   "execution_count": 130,
   "metadata": {
    "colab": {
     "base_uri": "https://localhost:8080/",
     "height": 255
    },
    "colab_type": "code",
    "id": "NLVvF1Nl4tXV",
    "outputId": "2e0a4c04-3c5b-4860-cf1b-a0929d14e591"
   },
   "outputs": [
    {
     "name": "stdout",
     "output_type": "stream",
     "text": [
      "(3799, 5912)\n",
      "[INFO] classifying...\n",
      "[0. 1. 0. 0. 0. 0. 0. 0. 0.]\n",
      "[1.5442029e-14 7.6567000e-01 1.2946246e-11 4.3766463e-10 2.1595141e-09\n",
      " 9.2123626e-12 6.6057506e-09 2.3432998e-01 2.1553203e-21]\n",
      "My.Chinh_tri_doi_ngoai: 0.00%\n",
      "My.Chinh_tri_noi_bo: 76.57%\n",
      "My.Khoa_hoc_cong_nghe: 0.00%\n",
      "My.Van_hoa_xa_hoi: 0.00%\n",
      "Viet_nam.Chinh_tri_doi_ngoai: 0.00%\n",
      "Viet_nam.Chinh_tri_noi_bo: 0.00%\n",
      "Viet_nam.Khoa_hoc_cong_nghe: 0.00%\n",
      "Viet_nam.Kinh_te_phat_trien: 23.43%\n",
      "Viet_nam.Van_hoa_xa_hoi: 0.00%\n"
     ]
    }
   ],
   "source": [
    "print(features_test.shape)\n",
    "print(\"[INFO] classifying...\")\n",
    "print(labels_test[221])\n",
    "proba = model.predict(features_test)[221]\n",
    "print(proba)\n",
    "idxs = np.argsort(proba)[::-1] \n",
    "# loop over the indexes of the high confidence class labels\n",
    " \n",
    "for (i, j) in enumerate(idxs):\n",
    "\t# build the label and draw the label on the image\n",
    "\tlabel = \"{}: {:.2f}%\".format(mlb.classes_[j], proba[j] * 100) \n",
    "\n",
    "# show the probabilities for each of the individual labels\n",
    "for (label, p) in zip(mlb.classes_, proba): \n",
    "\tprint(\"{}: {:.2f}%\".format(label, p * 100, p))\n",
    "\n",
    "\n",
    "# print(y_true.shape)"
   ]
  },
  {
   "cell_type": "code",
   "execution_count": 0,
   "metadata": {
    "colab": {},
    "colab_type": "code",
    "id": "jHDYFvrvxHH1"
   },
   "outputs": [],
   "source": [
    "\n"
   ]
  },
  {
   "cell_type": "markdown",
   "metadata": {
    "colab_type": "text",
    "id": "SziY5gEi0wQ2"
   },
   "source": [
    "TRAIN LINEAR SVC"
   ]
  },
  {
   "cell_type": "code",
   "execution_count": 0,
   "metadata": {
    "colab": {},
    "colab_type": "code",
    "id": "Ev9GW4NU4tbx"
   },
   "outputs": [],
   "source": [
    "\n",
    "from sklearn.decomposition import PCA\n",
    "from sklearn.manifold import TSNE\n",
    "\n",
    "y = []\n",
    "for item in labels_test:    \n",
    "  label = []\n",
    "  for index, name in enumerate(mlb.classes_):  \n",
    "    if item[index] != 0:\n",
    "      label.append(name)\n",
    "  y.append(''.join(label))\n",
    "\n",
    "encoder = LabelEncoder()\n",
    "y = encoder.fit_transform(y)"
   ]
  },
  {
   "cell_type": "code",
   "execution_count": 0,
   "metadata": {
    "colab": {
     "base_uri": "https://localhost:8080/",
     "height": 282
    },
    "colab_type": "code",
    "id": "nwWsGufB4te5",
    "outputId": "b4a8278d-7d66-437b-f874-72988a3fa060"
   },
   "outputs": [
    {
     "data": {
      "text/plain": [
       "<matplotlib.collections.PathCollection at 0x7fde314d5f98>"
      ]
     },
     "execution_count": 359,
     "metadata": {
      "tags": []
     },
     "output_type": "execute_result"
    },
    {
     "data": {
      "image/png": "[encoded data removed]",
      "text/plain": [
       "<Figure size 432x288 with 1 Axes>"
      ]
     },
     "metadata": {
      "tags": []
     },
     "output_type": "display_data"
    }
   ],
   "source": [
    "\n",
    "import matplotlib.pyplot as plt\n",
    "x = TSNE(n_components=2).fit_transform(features_test)\n",
    "plt.scatter(x[:,0],x[:,1],c=y)"
   ]
  },
  {
   "cell_type": "code",
   "execution_count": 131,
   "metadata": {
    "colab": {
     "base_uri": "https://localhost:8080/",
     "height": 51
    },
    "colab_type": "code",
    "id": "QfSqAPLc4thK",
    "outputId": "666e33b6-59f1-46a8-f0de-009fae59d41b"
   },
   "outputs": [
    {
     "name": "stdout",
     "output_type": "stream",
     "text": [
      "(3799, 5912)\n",
      "(3799, 9)\n"
     ]
    }
   ],
   "source": [
    "print(features_test.shape)\n",
    "print(labels_test.shape)\n",
    "# x = TSNE(n_components=2).fit_transform(features_test)\n",
    "# plt.scatter(x[:,0],x[:,1],c=labels_test)"
   ]
  },
  {
   "cell_type": "code",
   "execution_count": 0,
   "metadata": {
    "colab": {},
    "colab_type": "code",
    "id": "54lUAfnh4tjz"
   },
   "outputs": [],
   "source": [
    "# TRAIN BY LinearSVC => output not multi"
   ]
  },
  {
   "cell_type": "code",
   "execution_count": 0,
   "metadata": {
    "colab": {},
    "colab_type": "code",
    "id": "19tsxI2w4tZo"
   },
   "outputs": [],
   "source": [
    "from sklearn.svm import LinearSVC\n",
    "from sklearn.metrics import classification_report\n",
    "estimator = LinearSVC(verbose=1,random_state=42,tol=1e-05)"
   ]
  },
  {
   "cell_type": "code",
   "execution_count": 0,
   "metadata": {
    "colab": {},
    "colab_type": "code",
    "id": "LBHSCFcR1IGa"
   },
   "outputs": [],
   "source": [
    "# chia tập train, test theo tỉ lệ 8:2\n",
    "(x_train, x_test,y_train, y_test) = train_test_split(a, b, test_size=0.2, random_state=42)"
   ]
  },
  {
   "cell_type": "code",
   "execution_count": 141,
   "metadata": {
    "colab": {
     "base_uri": "https://localhost:8080/",
     "height": 68
    },
    "colab_type": "code",
    "id": "YyL0oDAd5jde",
    "outputId": "930598a6-5eb8-4971-94bd-718cb0fc506b"
   },
   "outputs": [
    {
     "name": "stdout",
     "output_type": "stream",
     "text": [
      "['My.Chinh_tri_doi_ngoai' 'Viet_nam.Van_hoa_xa_hoi'\n",
      " 'Viet_nam.Khoa_hoc_cong_nghe' ... 'Viet_nam.Kinh_te_phat_trien'\n",
      " 'My.Chinh_tri_noi_bo' 'Viet_nam.Chinh_tri_doi_ngoai']\n"
     ]
    }
   ],
   "source": [
    "print(y_test)"
   ]
  },
  {
   "cell_type": "code",
   "execution_count": 148,
   "metadata": {
    "colab": {
     "base_uri": "https://localhost:8080/",
     "height": 139
    },
    "colab_type": "code",
    "id": "l8cDjerqlWZ0",
    "outputId": "b8862161-baaa-42fb-b793-c1d1696d10d0"
   },
   "outputs": [
    {
     "name": "stdout",
     "output_type": "stream",
     "text": [
      "[LibLinear]"
     ]
    },
    {
     "name": "stderr",
     "output_type": "stream",
     "text": [
      "/usr/local/lib/python3.6/dist-packages/sklearn/svm/_base.py:947: ConvergenceWarning: Liblinear failed to converge, increase the number of iterations.\n",
      "  \"the number of iterations.\", ConvergenceWarning)\n"
     ]
    },
    {
     "data": {
      "text/plain": [
       "LinearSVC(C=1.0, class_weight=None, dual=True, fit_intercept=True,\n",
       "          intercept_scaling=1, loss='squared_hinge', max_iter=1000,\n",
       "          multi_class='ovr', penalty='l2', random_state=42, tol=1e-05,\n",
       "          verbose=1)"
      ]
     },
     "execution_count": 148,
     "metadata": {
      "tags": []
     },
     "output_type": "execute_result"
    }
   ],
   "source": [
    "estimator.fit(x_train, y_train)"
   ]
  },
  {
   "cell_type": "code",
   "execution_count": 149,
   "metadata": {
    "colab": {
     "base_uri": "https://localhost:8080/",
     "height": 289
    },
    "colab_type": "code",
    "id": "pc-g9gZTl8Ua",
    "outputId": "6e8b95ea-0b64-4cca-b092-7566ecc94529"
   },
   "outputs": [
    {
     "name": "stdout",
     "output_type": "stream",
     "text": [
      "                              precision    recall  f1-score   support\n",
      "\n",
      "      My.Chinh_tri_doi_ngoai       0.30      0.31      0.30       160\n",
      "         My.Chinh_tri_noi_bo       0.58      0.60      0.59       568\n",
      "       My.Khoa_hoc_cong_nghe       0.43      0.39      0.41       204\n",
      "           My.Van_hoa_xa_hoi       0.63      0.63      0.63       643\n",
      "Viet_nam.Chinh_tri_doi_ngoai       0.51      0.49      0.50       454\n",
      "   Viet_nam.Chinh_tri_noi_bo       0.96      0.95      0.96       416\n",
      " Viet_nam.Khoa_hoc_cong_nghe       0.52      0.49      0.51       231\n",
      " Viet_nam.Kinh_te_phat_trien       0.87      0.89      0.88       496\n",
      "     Viet_nam.Van_hoa_xa_hoi       0.64      0.65      0.64       627\n",
      "\n",
      "                    accuracy                           0.65      3799\n",
      "                   macro avg       0.60      0.60      0.60      3799\n",
      "                weighted avg       0.64      0.65      0.64      3799\n",
      "\n"
     ]
    }
   ],
   "source": [
    "y_pred = estimator.predict(x_test) \n",
    "print(classification_report(y_test, y_pred))"
   ]
  },
  {
   "cell_type": "code",
   "execution_count": 0,
   "metadata": {
    "colab": {},
    "colab_type": "code",
    "id": "hu801-jwmCr8"
   },
   "outputs": [],
   "source": [
    "\n"
   ]
  },
  {
   "cell_type": "code",
   "execution_count": 0,
   "metadata": {
    "colab": {},
    "colab_type": "code",
    "id": "DqOD9fDemnLb"
   },
   "outputs": [],
   "source": []
  },
  {
   "cell_type": "code",
   "execution_count": 0,
   "metadata": {
    "colab": {},
    "colab_type": "code",
    "id": "xdclbhSgmnTn"
   },
   "outputs": [],
   "source": []
  },
  {
   "cell_type": "code",
   "execution_count": 0,
   "metadata": {
    "colab": {},
    "colab_type": "code",
    "id": "Kk2AqN8kmnQq"
   },
   "outputs": [],
   "source": []
  },
  {
   "cell_type": "code",
   "execution_count": 0,
   "metadata": {
    "colab": {},
    "colab_type": "code",
    "id": "LtmNBfe6mnOs"
   },
   "outputs": [],
   "source": []
  },
  {
   "cell_type": "code",
   "execution_count": 0,
   "metadata": {
    "colab": {},
    "colab_type": "code",
    "id": "uaK3bm1Bnb7B"
   },
   "outputs": [],
   "source": []
  }
 ],
 "metadata": {
  "accelerator": "GPU",
  "colab": {
   "collapsed_sections": [],
   "name": "NLP_PROBLEM 1",
   "provenance": [],
   "toc_visible": true
  },
  "kernelspec": {
   "display_name": "Python 3",
   "language": "python",
   "name": "python3"
  },
  "language_info": {
   "codemirror_mode": {
    "name": "ipython",
    "version": 3
   },
   "file_extension": ".py",
   "mimetype": "text/x-python",
   "name": "python",
   "nbconvert_exporter": "python",
   "pygments_lexer": "ipython3",
   "version": "3.9.2"
  },
  "widgets": {
   "application/vnd.jupyter.widget-state+json": {
    "2df36db917774f96aa55fb6805faa16c": {
     "model_module": "@jupyter-widgets/base",
     "model_name": "LayoutModel",
     "state": {
      "_model_module": "@jupyter-widgets/base",
      "_model_module_version": "1.2.0",
      "_model_name": "LayoutModel",
      "_view_count": null,
      "_view_module": "@jupyter-widgets/base",
      "_view_module_version": "1.2.0",
      "_view_name": "LayoutView",
      "align_content": null,
      "align_items": null,
      "align_self": null,
      "border": null,
      "bottom": null,
      "display": null,
      "flex": null,
      "flex_flow": null,
      "grid_area": null,
      "grid_auto_columns": null,
      "grid_auto_flow": null,
      "grid_auto_rows": null,
      "grid_column": null,
      "grid_gap": null,
      "grid_row": null,
      "grid_template_areas": null,
      "grid_template_columns": null,
      "grid_template_rows": null,
      "height": null,
      "justify_content": null,
      "justify_items": null,
      "left": null,
      "margin": null,
      "max_height": null,
      "max_width": null,
      "min_height": null,
      "min_width": null,
      "object_fit": null,
      "object_position": null,
      "order": null,
      "overflow": null,
      "overflow_x": null,
      "overflow_y": null,
      "padding": null,
      "right": null,
      "top": null,
      "visibility": null,
      "width": null
     }
    },
    "4c6afd3a7f3746a1ac1a3aefefe7bea2": {
     "model_module": "@jupyter-widgets/controls",
     "model_name": "HTMLModel",
     "state": {
      "_dom_classes": [],
      "_model_module": "@jupyter-widgets/controls",
      "_model_module_version": "1.5.0",
      "_model_name": "HTMLModel",
      "_view_count": null,
      "_view_module": "@jupyter-widgets/controls",
      "_view_module_version": "1.5.0",
      "_view_name": "HTMLView",
      "description": "",
      "description_tooltip": null,
      "layout": "IPY_MODEL_e4949f5b2d4947d3a3d7241e7ecdd04d",
      "placeholder": "​",
      "style": "IPY_MODEL_fe201ff6ac624d1eb689efa07d872c37",
      "value": "  0% 0/6 [00:00&lt;?, ?it/s]"
     }
    },
    "6803b80b54864598b0276e1e1494ab65": {
     "model_module": "@jupyter-widgets/base",
     "model_name": "LayoutModel",
     "state": {
      "_model_module": "@jupyter-widgets/base",
      "_model_module_version": "1.2.0",
      "_model_name": "LayoutModel",
      "_view_count": null,
      "_view_module": "@jupyter-widgets/base",
      "_view_module_version": "1.2.0",
      "_view_name": "LayoutView",
      "align_content": null,
      "align_items": null,
      "align_self": null,
      "border": null,
      "bottom": null,
      "display": null,
      "flex": null,
      "flex_flow": null,
      "grid_area": null,
      "grid_auto_columns": null,
      "grid_auto_flow": null,
      "grid_auto_rows": null,
      "grid_column": null,
      "grid_gap": null,
      "grid_row": null,
      "grid_template_areas": null,
      "grid_template_columns": null,
      "grid_template_rows": null,
      "height": null,
      "justify_content": null,
      "justify_items": null,
      "left": null,
      "margin": null,
      "max_height": null,
      "max_width": null,
      "min_height": null,
      "min_width": null,
      "object_fit": null,
      "object_position": null,
      "order": null,
      "overflow": null,
      "overflow_x": null,
      "overflow_y": null,
      "padding": null,
      "right": null,
      "top": null,
      "visibility": null,
      "width": null
     }
    },
    "77a428f7163b442d8ccb657dc7ecb3cd": {
     "model_module": "@jupyter-widgets/controls",
     "model_name": "ProgressStyleModel",
     "state": {
      "_model_module": "@jupyter-widgets/controls",
      "_model_module_version": "1.5.0",
      "_model_name": "ProgressStyleModel",
      "_view_count": null,
      "_view_module": "@jupyter-widgets/base",
      "_view_module_version": "1.2.0",
      "_view_name": "StyleView",
      "bar_color": null,
      "description_width": "initial"
     }
    },
    "7e951eef74da430fa70a306c54f0f1c3": {
     "model_module": "@jupyter-widgets/controls",
     "model_name": "ProgressStyleModel",
     "state": {
      "_model_module": "@jupyter-widgets/controls",
      "_model_module_version": "1.5.0",
      "_model_name": "ProgressStyleModel",
      "_view_count": null,
      "_view_module": "@jupyter-widgets/base",
      "_view_module_version": "1.2.0",
      "_view_name": "StyleView",
      "bar_color": null,
      "description_width": "initial"
     }
    },
    "81000f9a590a44faa489c4d2fb3f91c6": {
     "model_module": "@jupyter-widgets/controls",
     "model_name": "DescriptionStyleModel",
     "state": {
      "_model_module": "@jupyter-widgets/controls",
      "_model_module_version": "1.5.0",
      "_model_name": "DescriptionStyleModel",
      "_view_count": null,
      "_view_module": "@jupyter-widgets/base",
      "_view_module_version": "1.2.0",
      "_view_name": "StyleView",
      "description_width": ""
     }
    },
    "81845087427e4586a846249ed1e54330": {
     "model_module": "@jupyter-widgets/base",
     "model_name": "LayoutModel",
     "state": {
      "_model_module": "@jupyter-widgets/base",
      "_model_module_version": "1.2.0",
      "_model_name": "LayoutModel",
      "_view_count": null,
      "_view_module": "@jupyter-widgets/base",
      "_view_module_version": "1.2.0",
      "_view_name": "LayoutView",
      "align_content": null,
      "align_items": null,
      "align_self": null,
      "border": null,
      "bottom": null,
      "display": null,
      "flex": null,
      "flex_flow": null,
      "grid_area": null,
      "grid_auto_columns": null,
      "grid_auto_flow": null,
      "grid_auto_rows": null,
      "grid_column": null,
      "grid_gap": null,
      "grid_row": null,
      "grid_template_areas": null,
      "grid_template_columns": null,
      "grid_template_rows": null,
      "height": null,
      "justify_content": null,
      "justify_items": null,
      "left": null,
      "margin": null,
      "max_height": null,
      "max_width": null,
      "min_height": null,
      "min_width": null,
      "object_fit": null,
      "object_position": null,
      "order": null,
      "overflow": null,
      "overflow_x": null,
      "overflow_y": null,
      "padding": null,
      "right": null,
      "top": null,
      "visibility": null,
      "width": null
     }
    },
    "8bb836a411384731973d3409f2e96512": {
     "model_module": "@jupyter-widgets/controls",
     "model_name": "HBoxModel",
     "state": {
      "_dom_classes": [],
      "_model_module": "@jupyter-widgets/controls",
      "_model_module_version": "1.5.0",
      "_model_name": "HBoxModel",
      "_view_count": null,
      "_view_module": "@jupyter-widgets/controls",
      "_view_module_version": "1.5.0",
      "_view_name": "HBoxView",
      "box_style": "",
      "children": [
       "IPY_MODEL_a6ef73b537fa4ce59f8b4cfd71d65f0f",
       "IPY_MODEL_8cd1ec5763c941b197e5c24f054735e8"
      ],
      "layout": "IPY_MODEL_de271913733a427f97ffd6c2db648415"
     }
    },
    "8cd1ec5763c941b197e5c24f054735e8": {
     "model_module": "@jupyter-widgets/controls",
     "model_name": "HTMLModel",
     "state": {
      "_dom_classes": [],
      "_model_module": "@jupyter-widgets/controls",
      "_model_module_version": "1.5.0",
      "_model_name": "HTMLModel",
      "_view_count": null,
      "_view_module": "@jupyter-widgets/controls",
      "_view_module_version": "1.5.0",
      "_view_name": "HTMLView",
      "description": "",
      "description_tooltip": null,
      "layout": "IPY_MODEL_6803b80b54864598b0276e1e1494ab65",
      "placeholder": "​",
      "style": "IPY_MODEL_81000f9a590a44faa489c4d2fb3f91c6",
      "value": "100% 18991/18991 [07:46&lt;00:00, 40.75it/s]"
     }
    },
    "a6ef73b537fa4ce59f8b4cfd71d65f0f": {
     "model_module": "@jupyter-widgets/controls",
     "model_name": "IntProgressModel",
     "state": {
      "_dom_classes": [],
      "_model_module": "@jupyter-widgets/controls",
      "_model_module_version": "1.5.0",
      "_model_name": "IntProgressModel",
      "_view_count": null,
      "_view_module": "@jupyter-widgets/controls",
      "_view_module_version": "1.5.0",
      "_view_name": "ProgressView",
      "bar_style": "success",
      "description": "build dataset",
      "description_tooltip": null,
      "layout": "IPY_MODEL_81845087427e4586a846249ed1e54330",
      "max": 18991,
      "min": 0,
      "orientation": "horizontal",
      "style": "IPY_MODEL_7e951eef74da430fa70a306c54f0f1c3",
      "value": 18991
     }
    },
    "a76a9b68aad54684b1b75f6340000e1a": {
     "model_module": "@jupyter-widgets/controls",
     "model_name": "IntProgressModel",
     "state": {
      "_dom_classes": [],
      "_model_module": "@jupyter-widgets/controls",
      "_model_module_version": "1.5.0",
      "_model_name": "IntProgressModel",
      "_view_count": null,
      "_view_module": "@jupyter-widgets/controls",
      "_view_module_version": "1.5.0",
      "_view_name": "ProgressView",
      "bar_style": "",
      "description": "build dictionary",
      "description_tooltip": null,
      "layout": "IPY_MODEL_d1b9e53bb0b245adb77b05d28888005a",
      "max": 6,
      "min": 0,
      "orientation": "horizontal",
      "style": "IPY_MODEL_77a428f7163b442d8ccb657dc7ecb3cd",
      "value": 0
     }
    },
    "be86589788724e5681bf2f247a61a7ce": {
     "model_module": "@jupyter-widgets/controls",
     "model_name": "HBoxModel",
     "state": {
      "_dom_classes": [],
      "_model_module": "@jupyter-widgets/controls",
      "_model_module_version": "1.5.0",
      "_model_name": "HBoxModel",
      "_view_count": null,
      "_view_module": "@jupyter-widgets/controls",
      "_view_module_version": "1.5.0",
      "_view_name": "HBoxView",
      "box_style": "",
      "children": [
       "IPY_MODEL_a76a9b68aad54684b1b75f6340000e1a",
       "IPY_MODEL_4c6afd3a7f3746a1ac1a3aefefe7bea2"
      ],
      "layout": "IPY_MODEL_2df36db917774f96aa55fb6805faa16c"
     }
    },
    "d1b9e53bb0b245adb77b05d28888005a": {
     "model_module": "@jupyter-widgets/base",
     "model_name": "LayoutModel",
     "state": {
      "_model_module": "@jupyter-widgets/base",
      "_model_module_version": "1.2.0",
      "_model_name": "LayoutModel",
      "_view_count": null,
      "_view_module": "@jupyter-widgets/base",
      "_view_module_version": "1.2.0",
      "_view_name": "LayoutView",
      "align_content": null,
      "align_items": null,
      "align_self": null,
      "border": null,
      "bottom": null,
      "display": null,
      "flex": null,
      "flex_flow": null,
      "grid_area": null,
      "grid_auto_columns": null,
      "grid_auto_flow": null,
      "grid_auto_rows": null,
      "grid_column": null,
      "grid_gap": null,
      "grid_row": null,
      "grid_template_areas": null,
      "grid_template_columns": null,
      "grid_template_rows": null,
      "height": null,
      "justify_content": null,
      "justify_items": null,
      "left": null,
      "margin": null,
      "max_height": null,
      "max_width": null,
      "min_height": null,
      "min_width": null,
      "object_fit": null,
      "object_position": null,
      "order": null,
      "overflow": null,
      "overflow_x": null,
      "overflow_y": null,
      "padding": null,
      "right": null,
      "top": null,
      "visibility": null,
      "width": null
     }
    },
    "de271913733a427f97ffd6c2db648415": {
     "model_module": "@jupyter-widgets/base",
     "model_name": "LayoutModel",
     "state": {
      "_model_module": "@jupyter-widgets/base",
      "_model_module_version": "1.2.0",
      "_model_name": "LayoutModel",
      "_view_count": null,
      "_view_module": "@jupyter-widgets/base",
      "_view_module_version": "1.2.0",
      "_view_name": "LayoutView",
      "align_content": null,
      "align_items": null,
      "align_self": null,
      "border": null,
      "bottom": null,
      "display": null,
      "flex": null,
      "flex_flow": null,
      "grid_area": null,
      "grid_auto_columns": null,
      "grid_auto_flow": null,
      "grid_auto_rows": null,
      "grid_column": null,
      "grid_gap": null,
      "grid_row": null,
      "grid_template_areas": null,
      "grid_template_columns": null,
      "grid_template_rows": null,
      "height": null,
      "justify_content": null,
      "justify_items": null,
      "left": null,
      "margin": null,
      "max_height": null,
      "max_width": null,
      "min_height": null,
      "min_width": null,
      "object_fit": null,
      "object_position": null,
      "order": null,
      "overflow": null,
      "overflow_x": null,
      "overflow_y": null,
      "padding": null,
      "right": null,
      "top": null,
      "visibility": null,
      "width": null
     }
    },
    "e4949f5b2d4947d3a3d7241e7ecdd04d": {
     "model_module": "@jupyter-widgets/base",
     "model_name": "LayoutModel",
     "state": {
      "_model_module": "@jupyter-widgets/base",
      "_model_module_version": "1.2.0",
      "_model_name": "LayoutModel",
      "_view_count": null,
      "_view_module": "@jupyter-widgets/base",
      "_view_module_version": "1.2.0",
      "_view_name": "LayoutView",
      "align_content": null,
      "align_items": null,
      "align_self": null,
      "border": null,
      "bottom": null,
      "display": null,
      "flex": null,
      "flex_flow": null,
      "grid_area": null,
      "grid_auto_columns": null,
      "grid_auto_flow": null,
      "grid_auto_rows": null,
      "grid_column": null,
      "grid_gap": null,
      "grid_row": null,
      "grid_template_areas": null,
      "grid_template_columns": null,
      "grid_template_rows": null,
      "height": null,
      "justify_content": null,
      "justify_items": null,
      "left": null,
      "margin": null,
      "max_height": null,
      "max_width": null,
      "min_height": null,
      "min_width": null,
      "object_fit": null,
      "object_position": null,
      "order": null,
      "overflow": null,
      "overflow_x": null,
      "overflow_y": null,
      "padding": null,
      "right": null,
      "top": null,
      "visibility": null,
      "width": null
     }
    },
    "fe201ff6ac624d1eb689efa07d872c37": {
     "model_module": "@jupyter-widgets/controls",
     "model_name": "DescriptionStyleModel",
     "state": {
      "_model_module": "@jupyter-widgets/controls",
      "_model_module_version": "1.5.0",
      "_model_name": "DescriptionStyleModel",
      "_view_count": null,
      "_view_module": "@jupyter-widgets/base",
      "_view_module_version": "1.2.0",
      "_view_name": "StyleView",
      "description_width": ""
     }
    }
   }
  }
 },
 "nbformat": 4,
 "nbformat_minor": 1
}
