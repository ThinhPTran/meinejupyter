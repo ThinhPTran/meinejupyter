{
 "cells": [
  {
   "cell_type": "code",
   "execution_count": 1,
   "id": "fitted-ownership",
   "metadata": {},
   "outputs": [],
   "source": [
    "# Introduction \n",
    "# Decision trees leave you with a difficult decision.\n",
    "# A deep tree with lots of leaves will overfit because \n",
    "# each prediction is coming from historical data from \n",
    "# only the few houses at its leaf. But a shallow tree with \n",
    "# few leaves will perform poorly because it fails to capture\n",
    "# as many distinctions in the raw data\n",
    "\n",
    "# Even today's most sophisticated modeling techniques face \n",
    "# this tension between underfitting and overfitting. But, \n",
    "# many models have clever ideas that can lead to better\n",
    "# performance. We'll look at the random forest as an example.\n",
    "\n",
    "# The random forest uses many trees, and it makes a prediction\n",
    "# by averaging the predictions of each component tree. It \n",
    "# generally has much better predictive accuracy than a \n",
    "# single decision tree and it works well with default parameters.\n",
    "# If you keep modeling, you can learn more models with even\n",
    "# better performance, but many of those are sensitive to \n",
    "# getting the right parameters. "
   ]
  },
  {
   "cell_type": "code",
   "execution_count": 5,
   "id": "nonprofit-cornwall",
   "metadata": {},
   "outputs": [],
   "source": [
    "import pandas as pd\n",
    "from sklearn.model_selection import train_test_split\n",
    "from sklearn.metrics import mean_absolute_error\n",
    "from sklearn.tree import DecisionTreeRegressor\n",
    "from sklearn.ensemble import RandomForestRegressor\n",
    "\n",
    "# Load data\n",
    "melbourne_file_path = '../input/melbourne-housing-snapshot/melb_data.csv'\n",
    "melbourne_data = pd.read_csv(melbourne_file_path)"
   ]
  },
  {
   "cell_type": "code",
   "execution_count": 6,
   "id": "checked-january",
   "metadata": {},
   "outputs": [],
   "source": [
    "# Filter rows with missing values\n",
    "melbourne_data = melbourne_data.dropna(axis=0)\n",
    "\n",
    "# Choose target and features\n",
    "y = melbourne_data.Price\n",
    "melbourne_features = ['Rooms', 'Bathroom', 'Landsize', 'BuildingArea', 'YearBuilt', 'Lattitude', 'Longtitude']\n",
    "X = melbourne_data[melbourne_features]"
   ]
  },
  {
   "cell_type": "code",
   "execution_count": 7,
   "id": "mechanical-million",
   "metadata": {},
   "outputs": [],
   "source": [
    "# split data into training and validation data, for both \n",
    "# features and target\n",
    "# The split is based on a random number generator. Supplying\n",
    "# a numeric value to the random_state argument guarantees\n",
    "# we get the same split every time we run this script\n",
    "train_X, val_X, train_y, val_y = train_test_split(X, y, random_state=0)"
   ]
  },
  {
   "cell_type": "code",
   "execution_count": 9,
   "id": "fitting-brazil",
   "metadata": {},
   "outputs": [],
   "source": [
    "# Check DecisionTreeRegressor method\n",
    "nodes = []\n",
    "maes = []\n",
    "\n",
    "def get_mae(max_leaf_nodes, train_X, val_X, train_y, val_y):\n",
    "    model = DecisionTreeRegressor(max_leaf_nodes=max_leaf_nodes, random_state=0)\n",
    "    model.fit(train_X, train_y)\n",
    "    preds_val = model.predict(val_X)\n",
    "    mae = mean_absolute_error(val_y, preds_val)\n",
    "    return(mae)\n",
    "\n",
    "for max_leaf_nodes in range(5,1000,25):\n",
    "    my_mae = get_mae(max_leaf_nodes, train_X, val_X, train_y, val_y)\n",
    "    nodes.append(max_leaf_nodes)\n",
    "    maes.append(my_mae)"
   ]
  },
  {
   "cell_type": "code",
   "execution_count": 11,
   "id": "administrative-concert",
   "metadata": {},
   "outputs": [
    {
     "data": {
      "image/png": "[encoded data removed]",
      "text/plain": [
       "<Figure size 432x288 with 1 Axes>"
      ]
     },
     "metadata": {
      "needs_background": "light"
     },
     "output_type": "display_data"
    }
   ],
   "source": [
    "import matplotlib.pyplot as plt\n",
    "\n",
    "plt.xlabel(\"node\")\n",
    "plt.ylabel(\"mae\")\n",
    "plt.plot(nodes, maes)\n",
    "plt.show()"
   ]
  },
  {
   "cell_type": "code",
   "execution_count": 12,
   "id": "physical-hurricane",
   "metadata": {},
   "outputs": [
    {
     "name": "stdout",
     "output_type": "stream",
     "text": [
      "191669.7536453626\n"
     ]
    }
   ],
   "source": [
    "# Try random forest model\n",
    "forest_model = RandomForestRegressor(random_state=1)\n",
    "forest_model.fit(train_X, train_y)\n",
    "melb_preds = forest_model.predict(val_X)\n",
    "print(mean_absolute_error(val_y, melb_preds))\n"
   ]
  },
  {
   "cell_type": "code",
   "execution_count": 13,
   "id": "interior-suspension",
   "metadata": {},
   "outputs": [],
   "source": [
    "# Conclusion\n",
    "# There is likely for further improvement, but this is a big \n",
    "# improvement over the best decision tree error of 250,000.\n",
    "# There are parameters which allow you to change the performance\n",
    "# of the Random Forest much as we changed the maximum depth \n",
    "# of the single decision tree. But one of the best features\n",
    "# of Random Forest models is that they generally work reasonably\n",
    "# even without this tunning."
   ]
  },
  {
   "cell_type": "code",
   "execution_count": null,
   "id": "brazilian-disaster",
   "metadata": {},
   "outputs": [],
   "source": []
  }
 ],
 "metadata": {
  "kernelspec": {
   "display_name": "Python 3",
   "language": "python",
   "name": "python3"
  },
  "language_info": {
   "codemirror_mode": {
    "name": "ipython",
    "version": 3
   },
   "file_extension": ".py",
   "mimetype": "text/x-python",
   "name": "python",
   "nbconvert_exporter": "python",
   "pygments_lexer": "ipython3",
   "version": "3.9.2"
  }
 },
 "nbformat": 4,
 "nbformat_minor": 5
}
