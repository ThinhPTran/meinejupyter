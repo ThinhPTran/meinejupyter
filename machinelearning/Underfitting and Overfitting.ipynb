{
 "cells": [
  {
   "cell_type": "code",
   "execution_count": 1,
   "id": "fleet-concept",
   "metadata": {},
   "outputs": [],
   "source": [
    "# At the end of this step, you will understand the concepts \n",
    "# of underfitting and overfitting, and you will be able to \n",
    "# apply these ideas to make your models more accurate\n",
    "\n",
    "# In practice, it's not uncommon for a tree to have 10 splits \n",
    "# between the top level (all houses) and a leaf. As the tree \n",
    "# gets deeper, the dataset get sliced up into leavs with fewer\n",
    "# houses. If a tree only had 1 split, it divides the data into\n",
    "# 2 groups. If each group is split again, we would get 4 groups\n",
    "# of houses. Splitting each of those again would create 8 groups.\n",
    "\n",
    "# When we divide the houses amongst many leaves, we also have \n",
    "# fewer houses in each leaf. Leaves with very few houses will \n",
    "# make predictions that are quite close to those homes's actual\n",
    "# values, but they may make very unreliable predictions for \n",
    "# new data (because each prediction is based on only few houses)\n",
    "\n",
    "# At an extreme, if a tree divides houses into only 2 or 4, \n",
    "# each group will has a wide variety of houses. Resulting\n",
    "# predictions may be far off for most houses, even in the \n",
    "# training data (and it will be bad in validation too for the \n",
    "# same reason). When a model fails to capture important \n",
    "# destinctions and patterns in the data, so it performs poorly\n",
    "# even in training data, that is called underfitting.\n",
    "\n",
    "# There are a few alternatives for controlling the tree depth, \n",
    "# and many allow for some routes through the tree to have \n",
    "# greater depth than other routes. But the max_leaf_nodes \n",
    "# argument provides a very sensible way to control overfitting\n",
    "# vs underfitting. The more leaves we allow the model to make, \n",
    "# the more we move from the underfitting area in the above \n",
    "# graph to the overfitting area.\n",
    "\n"
   ]
  },
  {
   "cell_type": "code",
   "execution_count": 8,
   "id": "wired-agent",
   "metadata": {},
   "outputs": [],
   "source": [
    "from sklearn.metrics import mean_absolute_error\n",
    "from sklearn.tree import DecisionTreeRegressor\n",
    "from sklearn.model_selection import train_test_split\n",
    "import pandas as pd\n",
    "\n",
    "# Path of the file to read\n",
    "iowa_file_path = '../input/home-data-for-ml-course/train.csv'\n",
    "home_data = pd.read_csv(iowa_file_path)\n",
    "y = home_data.SalePrice\n",
    "feature_columns = ['LotArea', 'YearBuilt', '1stFlrSF', '2ndFlrSF', 'FullBath', 'BedroomAbvGr', 'TotRmsAbvGrd']\n",
    "X = home_data[feature_columns]\n",
    "# fill in and uncomment\n",
    "train_X, val_X, train_y, val_y = train_test_split(X,y, random_state = 1)\n",
    "\n",
    "def get_mae(max_leaf_nodes, train_X, val_X, train_y, val_y):\n",
    "    model = DecisionTreeRegressor(max_leaf_nodes=max_leaf_nodes, random_state = 0)\n",
    "    model.fit(train_X, train_y)\n",
    "    preds_val = model.predict(val_X)\n",
    "    mae = mean_absolute_error(val_y, preds_val)\n",
    "    return mae\n",
    "\n"
   ]
  },
  {
   "cell_type": "code",
   "execution_count": 14,
   "id": "executed-defensive",
   "metadata": {},
   "outputs": [
    {
     "name": "stdout",
     "output_type": "stream",
     "text": [
      "Max leaf nodes: 5 \t\t Mean Absolute Error: 35044\n",
      "Max leaf nodes: 30 \t\t Mean Absolute Error: 28877\n",
      "Max leaf nodes: 55 \t\t Mean Absolute Error: 27662\n",
      "Max leaf nodes: 80 \t\t Mean Absolute Error: 27389\n",
      "Max leaf nodes: 105 \t\t Mean Absolute Error: 27171\n",
      "Max leaf nodes: 130 \t\t Mean Absolute Error: 27638\n",
      "Max leaf nodes: 155 \t\t Mean Absolute Error: 27308\n",
      "Max leaf nodes: 180 \t\t Mean Absolute Error: 27854\n",
      "Max leaf nodes: 205 \t\t Mean Absolute Error: 27866\n",
      "Max leaf nodes: 230 \t\t Mean Absolute Error: 27744\n",
      "Max leaf nodes: 255 \t\t Mean Absolute Error: 27915\n",
      "Max leaf nodes: 280 \t\t Mean Absolute Error: 28331\n",
      "Max leaf nodes: 305 \t\t Mean Absolute Error: 28425\n",
      "Max leaf nodes: 330 \t\t Mean Absolute Error: 28344\n",
      "Max leaf nodes: 355 \t\t Mean Absolute Error: 28514\n",
      "Max leaf nodes: 380 \t\t Mean Absolute Error: 28663\n",
      "Max leaf nodes: 405 \t\t Mean Absolute Error: 28790\n",
      "Max leaf nodes: 430 \t\t Mean Absolute Error: 28886\n",
      "Max leaf nodes: 455 \t\t Mean Absolute Error: 29052\n",
      "Max leaf nodes: 480 \t\t Mean Absolute Error: 29311\n",
      "Max leaf nodes: 505 \t\t Mean Absolute Error: 29520\n",
      "Max leaf nodes: 530 \t\t Mean Absolute Error: 29730\n",
      "Max leaf nodes: 555 \t\t Mean Absolute Error: 29820\n",
      "Max leaf nodes: 580 \t\t Mean Absolute Error: 29774\n",
      "Max leaf nodes: 605 \t\t Mean Absolute Error: 29827\n",
      "Max leaf nodes: 630 \t\t Mean Absolute Error: 29835\n",
      "Max leaf nodes: 655 \t\t Mean Absolute Error: 29935\n",
      "Max leaf nodes: 680 \t\t Mean Absolute Error: 30024\n",
      "Max leaf nodes: 705 \t\t Mean Absolute Error: 30032\n",
      "Max leaf nodes: 730 \t\t Mean Absolute Error: 30073\n",
      "Max leaf nodes: 755 \t\t Mean Absolute Error: 30119\n",
      "Max leaf nodes: 780 \t\t Mean Absolute Error: 30102\n",
      "Max leaf nodes: 805 \t\t Mean Absolute Error: 30118\n",
      "Max leaf nodes: 830 \t\t Mean Absolute Error: 30137\n",
      "Max leaf nodes: 855 \t\t Mean Absolute Error: 30141\n",
      "Max leaf nodes: 880 \t\t Mean Absolute Error: 30130\n",
      "Max leaf nodes: 905 \t\t Mean Absolute Error: 30141\n",
      "Max leaf nodes: 930 \t\t Mean Absolute Error: 30114\n",
      "Max leaf nodes: 955 \t\t Mean Absolute Error: 30118\n",
      "Max leaf nodes: 980 \t\t Mean Absolute Error: 30130\n"
     ]
    }
   ],
   "source": [
    "nodes = []\n",
    "maes = []\n",
    "\n",
    "for max_leaf_nodes in range(5,1000,25):\n",
    "    my_mae = get_mae(max_leaf_nodes, train_X, val_X, train_y, val_y)\n",
    "    nodes.append(max_leaf_nodes)\n",
    "    maes.append(my_mae)\n",
    "    print(\"Max leaf nodes: %d \\t\\t Mean Absolute Error: %d\" %(max_leaf_nodes, my_mae))"
   ]
  },
  {
   "cell_type": "code",
   "execution_count": 17,
   "id": "pediatric-situation",
   "metadata": {},
   "outputs": [
    {
     "data": {
      "image/png": "[encoded data removed]",
      "text/plain": [
       "<Figure size 432x288 with 1 Axes>"
      ]
     },
     "metadata": {
      "needs_background": "light"
     },
     "output_type": "display_data"
    }
   ],
   "source": [
    "# Here's the takeaway: Models can suffer from either:\n",
    "# * Overfitting: capturing spurious patterns that won't recur \n",
    "# in the future, leading to less accurate predictions.\n",
    "# * Underfitting: failing to capture relevant paterns, again\n",
    "# leading to less accurate predictions.\n",
    "\n",
    "import matplotlib.pyplot as plt\n",
    "#print(nodes)\n",
    "#print(maes)\n",
    "\n",
    "plt.xlabel(\"node\")\n",
    "plt.ylabel(\"mae\")\n",
    "\n",
    "plt.plot(nodes, maes)\n",
    "\n",
    "plt.show()\n",
    "\n"
   ]
  },
  {
   "cell_type": "code",
   "execution_count": null,
   "id": "pursuant-spring",
   "metadata": {},
   "outputs": [],
   "source": []
  }
 ],
 "metadata": {
  "kernelspec": {
   "display_name": "Python 3",
   "language": "python",
   "name": "python3"
  },
  "language_info": {
   "codemirror_mode": {
    "name": "ipython",
    "version": 3
   },
   "file_extension": ".py",
   "mimetype": "text/x-python",
   "name": "python",
   "nbconvert_exporter": "python",
   "pygments_lexer": "ipython3",
   "version": "3.9.2"
  }
 },
 "nbformat": 4,
 "nbformat_minor": 5
}
