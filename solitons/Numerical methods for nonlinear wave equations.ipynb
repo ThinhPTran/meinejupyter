{
 "cells": [
  {
   "cell_type": "code",
   "execution_count": 1,
   "id": "returning-pipeline",
   "metadata": {},
   "outputs": [],
   "source": [
    "# Numerical methods for nonlinear wave equations"
   ]
  },
  {
   "cell_type": "code",
   "execution_count": 2,
   "id": "peripheral-jewel",
   "metadata": {},
   "outputs": [],
   "source": [
    "# Numerical computations play an important role in the study\n",
    "# of nonlinear waves. Many important phenomena, such as \n",
    "# elastic collision of KdV solitons and fractal scattering\n",
    "# in solitary wave interactions, were discovered first by \n",
    "# numerical computations. Such numerical discoveries motivated\n",
    "# further analytical investigations, which then led to deeper\n",
    "# understanding of those phenomena. Numerical computations are\n",
    "# especially important for the study of nonintegrable equations.\n",
    "# Indeed, in Chapters 5 and 6 on nonintegrable equations, many\n",
    "# numerical results were presented. A dynamic interplay between\n",
    "# numerics and analysis was a distinctive feature for the topics\n",
    "# in those chapters. In recent years, great advances have been\n",
    "# made on numerical methods for nonlinear wave equations, \n",
    "# and many highly accurate and efficient numerical techniques. \n",
    "# In addition, some convenient commercial software for \n",
    "# scientific computing have also become available, which greatly\n",
    "# facilitated the coding and implementation of those numerical\n",
    "# algorithms. Due to these advances, nontrivial numerical \n",
    "# computations of nonlinear wave equation can often be done \n",
    "# with several-inch-long MATLAB codes and hence are accessible\n",
    "# to anybody with or without prior programming experience.\n",
    "\n",
    "# In this chapter, we describe numerical methods for various\n",
    "# aspects of nonlinear wave computations such as evolution \n",
    "# simulation, computation of solitary wave solutions and \n",
    "# computation of linear-stability spectra of solitary waves. \n",
    "# Fundamental properties of these methods, such as their \n",
    "# accuracy, numerical stability, convergence conditions, \n",
    "# and convergence speeds, will be elaborated. We will show \n",
    "# that all these methods we present have spectral spatial \n",
    "# accuracy; i.e, the spatial error decays exponentially with \n",
    "# the grid spacing. Thus these methods yields highly accurate \n",
    "# numerical results. In addition, for almost all these numerical\n",
    "# algorithms, short MATLAB codes for nontrivial problems\n",
    "# will be displayed, so that the reader can quickly grasp\n",
    "# these algorithms and apply them to other situations. The reader\n",
    "# may have noticed that the previous six chapters contain\n",
    "# a wide variety of numerical results. Almost all those numerical\n",
    "# results were obtained by the numerical methods to be described\n",
    "# in this chapter."
   ]
  },
  {
   "cell_type": "code",
   "execution_count": 3,
   "id": "composed-symbol",
   "metadata": {},
   "outputs": [],
   "source": [
    "# 7.1 Numerical methods for evolution simulations "
   ]
  },
  {
   "cell_type": "code",
   "execution_count": 4,
   "id": "devoted-missouri",
   "metadata": {},
   "outputs": [],
   "source": [
    "# Evolution simulation of a nonlinear wave equation starting\n",
    "# from a given initial condition is certainly important \n",
    "# for understanding of the nonlinear wave system. A celebrated\n",
    "# example is the numerical simulation of the KdV equation\n",
    "# by Zabusky and Kruskal (1965), which led to the discovery \n",
    "# of solitons and invention of the inverse scattering transform\n",
    "# method (Gardner et al. (1967)). Early evolution simulations \n",
    "# of nonlinear wave equation primarily used finite difference\n",
    "# methods, which have low spatial accuracy. Starting from the \n",
    "# 1970s, various types of spectral methods were developed. \n",
    "# A common feature of these spectral methods is that their\n",
    "# spatial accuracy is spectral, which is much more accurate\n",
    "# than the finite difference methods. Then when coupled with \n",
    "# high-order time-stepping schemes (such as Runge-Kutta methods),\n",
    "# high overall accuracy can be achieved. All these methods \n",
    "# are very easy to implement, especially using software packages\n",
    "# such as MATLAB. This makes evolution simulation of nonlinear\n",
    "# wave equations very affordable and convenient now. Many types\n",
    "# of spectral methods have been invented. In this section, \n",
    "# we describe three of them: the pseudospectral method, the \n",
    "# split-step method, and the integrating-factor method. For \n",
    "# each method, we determine its order of accuracy and condition \n",
    "# for numerical stability. To demonstrate their performances, \n",
    "# we apply them to the familiar NLS equation. The corresponding\n",
    "# MATLAB codes will also be presented. It must be stressed \n",
    "# that our choice of the NLS equation as the example is purely\n",
    "# a matter of convenience. These numerical methods have nothing\n",
    "# to do with the integrability property of the NLS equation\n",
    "# and thus can be equally applied to other nonintegrable equations\n",
    "# in arbitrary spatial dimensions. Modifications of our sample\n",
    "# MATLAB codes to those general evolution equations are often \n",
    "# straightforward. "
   ]
  },
  {
   "cell_type": "code",
   "execution_count": 5,
   "id": "rotary-horror",
   "metadata": {},
   "outputs": [],
   "source": [
    "# 7.1.1 Pseudospectral method"
   ]
  },
  {
   "cell_type": "code",
   "execution_count": 15,
   "id": "built-sucking",
   "metadata": {},
   "outputs": [
    {
     "data": {
      "text/latex": [
       "# One of the first spectral methods developed for wave equations\n",
       "# is the pseudospectral method. To describe this method, let us\n",
       "# take the NLS equation\n",
       "\n",
       "\\begin{align}\n",
       "iu_t + u_{xx} + 2|u|^2u= 0\n",
       "\\end{align}\n",
       "\n",
       "as an example. After this equation is disretized in space, it \n",
       "becomes\n",
       "\n",
       "\\begin{align}\n",
       "u_{n, t} = i(u_{n,xx} + 2|u_n|^2u_n)\n",
       "\\end{align}\n",
       "\n",
       "where $u_n$ represents the solution on a grid point $x_n$. The \n",
       "basic idea of the pseudospectral method is to use the discrete\n",
       "Fourier transform to evaluate the spatial derivative $u_{n,xx}$,\n",
       "and use an appropriate time-stepping shcme(Runge-Kutta) to \n",
       "advance in time. The computation of $u_n, xx$ by the discrete\n",
       "Fourier transform is\n",
       "\n",
       "\\begin{align}\n",
       "u_n,xx = F^{-1}[(ik)^2 F(u_n)]\n",
       "\\end{align}\n",
       "\n",
       "Where $F$ and $F^{-1}$ represent the discrete Fourier and \n",
       "inverse Fourier transforms, and k is the wavenumber. For a \n",
       "smooth function $u(x,t)$, the accuracy of this computation\n",
       "is spectral; i.e, the error is smaller than any power of \n",
       "the spatial spacing $\\Delta x$\n"
      ],
      "text/plain": [
       "<IPython.core.display.Latex object>"
      ]
     },
     "metadata": {},
     "output_type": "display_data"
    }
   ],
   "source": [
    "%%latex\n",
    "# One of the first spectral methods developed for wave equations\n",
    "# is the pseudospectral method. To describe this method, let us\n",
    "# take the NLS equation\n",
    "\n",
    "\\begin{align}\n",
    "iu_t + u_{xx} + 2|u|^2u= 0\n",
    "\\end{align}\n",
    "\n",
    "as an example. After this equation is disretized in space, it \n",
    "becomes\n",
    "\n",
    "\\begin{align}\n",
    "u_{n, t} = i(u_{n,xx} + 2|u_n|^2u_n)\n",
    "\\end{align}\n",
    "\n",
    "where $u_n$ represents the solution on a grid point $x_n$. The \n",
    "basic idea of the pseudospectral method is to use the discrete\n",
    "Fourier transform to evaluate the spatial derivative $u_{n,xx}$,\n",
    "and use an appropriate time-stepping shcme(Runge-Kutta) to \n",
    "advance in time. The computation of $u_n, xx$ by the discrete\n",
    "Fourier transform is\n",
    "\n",
    "\\begin{align}\n",
    "u_n,xx = F^{-1}[(ik)^2 F(u_n)]\n",
    "\\end{align}\n",
    "\n",
    "Where $F$ and $F^{-1}$ represent the discrete Fourier and \n",
    "inverse Fourier transforms, and k is the wavenumber. For a \n",
    "smooth function $u(x,t)$, the accuracy of this computation\n",
    "is spectral; i.e, the error is smaller than any power of \n",
    "the spatial spacing $\\Delta x$. The reason is that when a \n",
    "continuous function is discretized, the "
   ]
  },
  {
   "cell_type": "code",
   "execution_count": null,
   "id": "abroad-substitute",
   "metadata": {},
   "outputs": [],
   "source": []
  }
 ],
 "metadata": {
  "kernelspec": {
   "display_name": "Python 3",
   "language": "python",
   "name": "python3"
  },
  "language_info": {
   "codemirror_mode": {
    "name": "ipython",
    "version": 3
   },
   "file_extension": ".py",
   "mimetype": "text/x-python",
   "name": "python",
   "nbconvert_exporter": "python",
   "pygments_lexer": "ipython3",
   "version": "3.9.2"
  }
 },
 "nbformat": 4,
 "nbformat_minor": 5
}
