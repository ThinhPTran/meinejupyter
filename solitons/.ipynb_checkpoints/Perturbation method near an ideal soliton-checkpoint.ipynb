{
 "cells": [
  {
   "cell_type": "code",
   "execution_count": 18,
   "id": "thousand-computer",
   "metadata": {},
   "outputs": [
    {
     "data": {
      "text/latex": [
       "In this section, we briefly describe the perturbation theory derived by Kaup for perturbations near an ideal soliton. Propagation of pulses of light through an optical waveguide in the presence of second-order dispersion and Kerr nonlinearity can be described by the following unperturbed NLSE:\n",
       "    \n",
       "\\begin{align}\n",
       "i\\partial_z\\psi + \\partial_t^2 \\psi + 2|\\psi|^2\\psi = 0\n",
       "\\end{align}\n",
       "\n",
       "Where $\\psi$ is proportional to the envelope of the electric field, z is propagation distance and t is time in the retarded reference frame. \n",
       "\n",
       "The integrability of NLSE was shown by Zakharov and Shabat based on inverse scattering theory in 1971. The single solution of NLSE in a given frequency channel $\\beta$ is:\n",
       "\n",
       "\\begin{align}\n",
       "\\psi_{sol}(t,z) = \\eta \\frac{\\exp(i\\chi)}{\\cosh(x)}\n",
       "\\end{align}\n",
       "\n",
       "where \n",
       "\n",
       "\\begin{eqnarray}\n",
       "x = \\eta(t - y - 2\\beta z) \\\\\n",
       "\\chi = \\alpha + \\beta(t - y) + (\\eta^{2} - \\beta^{2})z\n",
       "\\label{single2}\n",
       "\\end{eqnarray}\n"
      ],
      "text/plain": [
       "<IPython.core.display.Latex object>"
      ]
     },
     "metadata": {},
     "output_type": "display_data"
    }
   ],
   "source": [
    "%%latex \n",
    "In this section, we briefly describe the perturbation theory derived by Kaup for perturbations near an ideal soliton. Propagation of pulses of light through an optical waveguide in the presence of second-order dispersion and Kerr nonlinearity can be described by the following unperturbed NLSE:\n",
    "    \n",
    "\\begin{align}\n",
    "i\\partial_z\\psi + \\partial_t^2 \\psi + 2|\\psi|^2\\psi = 0\n",
    "\\end{align}\n",
    "\n",
    "Where $\\psi$ is proportional to the envelope of the electric field, z is propagation distance and t is time in the retarded reference frame. \n",
    "\n",
    "The integrability of NLSE was shown by Zakharov and Shabat based on inverse scattering theory in 1971. The single solution of NLSE in a given frequency channel $\\beta$ is:\n",
    "\n",
    "\\begin{align}\n",
    "\\psi_{sol}(t,z) = \\eta \\frac{\\exp(i\\chi)}{\\cosh(x)}\n",
    "\\end{align}\n",
    "\n",
    "where \n",
    "\n",
    "\\begin{eqnarray}\n",
    "x = \\eta(t - y - 2\\beta z) \\\\\n",
    "\\chi = \\alpha + \\beta(t - y) + (\\eta^{2} - \\beta^{2})z\n",
    "\\label{single2}\n",
    "\\end{eqnarray}"
   ]
  },
  {
   "cell_type": "code",
   "execution_count": 19,
   "id": "novel-roberts",
   "metadata": {},
   "outputs": [],
   "source": [
    "from sympy import *\n",
    "z, t, eta, alpha, beta, y = symbols('z t eta alpha beta y', real=True)"
   ]
  },
  {
   "cell_type": "code",
   "execution_count": 20,
   "id": "entitled-ready",
   "metadata": {},
   "outputs": [
    {
     "data": {
      "text/latex": [
       "$\\displaystyle \\frac{\\eta e^{i \\left(\\alpha + \\beta \\left(t - y\\right) + z \\left(- \\beta^{2} + \\eta^{2}\\right)\\right)}}{\\cosh{\\left(\\eta \\left(- 2 \\beta z + t - y\\right) \\right)}}$"
      ],
      "text/plain": [
       "eta*exp(I*(alpha + beta*(t - y) + z*(-beta**2 + eta**2)))/cosh(eta*(-2*beta*z + t - y))"
      ]
     },
     "execution_count": 20,
     "metadata": {},
     "output_type": "execute_result"
    }
   ],
   "source": [
    "psi_sol = eta*exp(I*(alpha + beta*(t-y) + (eta**2 - beta**2)*z))/cosh(eta*(t-y-2*beta*z))\n",
    "psi_sol"
   ]
  },
  {
   "cell_type": "code",
   "execution_count": 12,
   "id": "conditional-seating",
   "metadata": {},
   "outputs": [
    {
     "data": {
      "text/latex": [
       "$i\\partial_z\\psi + \\partial_t^2 \\psi + 2|\\psi|^2\\psi = 0$\n"
      ],
      "text/plain": [
       "<IPython.core.display.Latex object>"
      ]
     },
     "metadata": {},
     "output_type": "display_data"
    }
   ],
   "source": [
    "%%latex\n",
    "$i\\partial_z\\psi + \\partial_t^2 \\psi + 2|\\psi|^2\\psi = 0$"
   ]
  },
  {
   "cell_type": "code",
   "execution_count": 21,
   "id": "dramatic-feeding",
   "metadata": {},
   "outputs": [],
   "source": [
    "NLSE = I*diff(psi_sol, z) + diff(psi_sol, t, 2) + 2*psi_sol*conjugate(psi_sol)*psi_sol"
   ]
  },
  {
   "cell_type": "code",
   "execution_count": 23,
   "id": "ordered-opinion",
   "metadata": {},
   "outputs": [
    {
     "data": {
      "text/latex": [
       "$\\displaystyle \\frac{2 \\eta^{3} e^{i \\left(\\alpha + \\beta \\left(t - y\\right) + z \\left(- \\beta^{2} + \\eta^{2}\\right)\\right)}}{\\cosh^{3}{\\left(\\eta \\left(- 2 \\beta z + t - y\\right) \\right)}} + \\frac{\\eta \\left(- \\beta^{2} + \\frac{2 i \\beta \\eta \\sinh{\\left(\\eta \\left(2 \\beta z - t + y\\right) \\right)}}{\\cosh{\\left(\\eta \\left(2 \\beta z - t + y\\right) \\right)}} + \\eta^{2} \\left(\\frac{2 \\sinh^{2}{\\left(\\eta \\left(2 \\beta z - t + y\\right) \\right)}}{\\cosh^{2}{\\left(\\eta \\left(2 \\beta z - t + y\\right) \\right)}} - 1\\right)\\right) e^{i \\left(\\alpha + \\beta \\left(t - y\\right) - z \\left(\\beta^{2} - \\eta^{2}\\right)\\right)}}{\\cosh{\\left(\\eta \\left(2 \\beta z - t + y\\right) \\right)}} + i \\left(\\frac{2 \\beta \\eta^{2} e^{i \\left(\\alpha + \\beta \\left(t - y\\right) + z \\left(- \\beta^{2} + \\eta^{2}\\right)\\right)} \\sinh{\\left(\\eta \\left(- 2 \\beta z + t - y\\right) \\right)}}{\\cosh^{2}{\\left(\\eta \\left(- 2 \\beta z + t - y\\right) \\right)}} + \\frac{i \\eta \\left(- \\beta^{2} + \\eta^{2}\\right) e^{i \\left(\\alpha + \\beta \\left(t - y\\right) + z \\left(- \\beta^{2} + \\eta^{2}\\right)\\right)}}{\\cosh{\\left(\\eta \\left(- 2 \\beta z + t - y\\right) \\right)}}\\right)$"
      ],
      "text/plain": [
       "2*eta**3*exp(I*(alpha + beta*(t - y) + z*(-beta**2 + eta**2)))/cosh(eta*(-2*beta*z + t - y))**3 + eta*(-beta**2 + 2*I*beta*eta*sinh(eta*(2*beta*z - t + y))/cosh(eta*(2*beta*z - t + y)) + eta**2*(2*sinh(eta*(2*beta*z - t + y))**2/cosh(eta*(2*beta*z - t + y))**2 - 1))*exp(I*(alpha + beta*(t - y) - z*(beta**2 - eta**2)))/cosh(eta*(2*beta*z - t + y)) + I*(2*beta*eta**2*exp(I*(alpha + beta*(t - y) + z*(-beta**2 + eta**2)))*sinh(eta*(-2*beta*z + t - y))/cosh(eta*(-2*beta*z + t - y))**2 + I*eta*(-beta**2 + eta**2)*exp(I*(alpha + beta*(t - y) + z*(-beta**2 + eta**2)))/cosh(eta*(-2*beta*z + t - y)))"
      ]
     },
     "execution_count": 23,
     "metadata": {},
     "output_type": "execute_result"
    }
   ],
   "source": [
    "NLSE"
   ]
  },
  {
   "cell_type": "code",
   "execution_count": 24,
   "id": "blond-career",
   "metadata": {},
   "outputs": [
    {
     "data": {
      "text/latex": [
       "$\\displaystyle 0$"
      ],
      "text/plain": [
       "0"
      ]
     },
     "execution_count": 24,
     "metadata": {},
     "output_type": "execute_result"
    }
   ],
   "source": [
    "simplify(NLSE)"
   ]
  },
  {
   "cell_type": "code",
   "execution_count": 25,
   "id": "painted-istanbul",
   "metadata": {},
   "outputs": [
    {
     "data": {
      "text/latex": [
       "Note: t, z, alpha, beta, eta must be all real.\n"
      ],
      "text/plain": [
       "<IPython.core.display.Latex object>"
      ]
     },
     "metadata": {},
     "output_type": "display_data"
    }
   ],
   "source": [
    "%%latex\n",
    "Note: t, z, alpha, beta, eta must be all real."
   ]
  },
  {
   "cell_type": "code",
   "execution_count": 27,
   "id": "enormous-basic",
   "metadata": {},
   "outputs": [
    {
     "data": {
      "text/latex": [
       "$\\displaystyle \\eta e^{i \\left(\\alpha + \\beta \\left(t - y\\right) + z \\left(- \\beta^{2} + \\eta^{2}\\right)\\right)}$"
      ],
      "text/plain": [
       "eta*exp(I*(alpha + beta*(t - y) + z*(-beta**2 + eta**2)))"
      ]
     },
     "execution_count": 27,
     "metadata": {},
     "output_type": "execute_result"
    }
   ],
   "source": [
    "psi_con = eta*exp(I*(alpha + beta*(t-y) + (eta**2 - beta**2)*z))\n",
    "psi_con"
   ]
  },
  {
   "cell_type": "code",
   "execution_count": 28,
   "id": "multiple-transport",
   "metadata": {},
   "outputs": [
    {
     "data": {
      "text/latex": [
       "$\\displaystyle \\eta e^{i \\left(\\alpha + \\beta \\left(t - y\\right) + z \\left(- \\beta^{2} + \\eta^{2}\\right)\\right)} + \\frac{\\eta e^{i \\left(\\alpha + \\beta \\left(t - y\\right) + z \\left(- \\beta^{2} + \\eta^{2}\\right)\\right)}}{\\cosh{\\left(\\eta \\left(- 2 \\beta z + t - y\\right) \\right)}}$"
      ],
      "text/plain": [
       "eta*exp(I*(alpha + beta*(t - y) + z*(-beta**2 + eta**2))) + eta*exp(I*(alpha + beta*(t - y) + z*(-beta**2 + eta**2)))/cosh(eta*(-2*beta*z + t - y))"
      ]
     },
     "execution_count": 28,
     "metadata": {},
     "output_type": "execute_result"
    }
   ],
   "source": [
    "psi = psi_sol + psi_con\n",
    "psi"
   ]
  },
  {
   "cell_type": "code",
   "execution_count": 29,
   "id": "prepared-safety",
   "metadata": {},
   "outputs": [],
   "source": [
    "NLSE_P = I*diff(psi, z) + diff(psi, t, 2) + 2*psi*conjugate(psi)*psi"
   ]
  },
  {
   "cell_type": "code",
   "execution_count": null,
   "id": "victorian-ordinance",
   "metadata": {},
   "outputs": [],
   "source": []
  }
 ],
 "metadata": {
  "kernelspec": {
   "display_name": "Python 3",
   "language": "python",
   "name": "python3"
  },
  "language_info": {
   "codemirror_mode": {
    "name": "ipython",
    "version": 3
   },
   "file_extension": ".py",
   "mimetype": "text/x-python",
   "name": "python",
   "nbconvert_exporter": "python",
   "pygments_lexer": "ipython3",
   "version": "3.9.2"
  }
 },
 "nbformat": 4,
 "nbformat_minor": 5
}
